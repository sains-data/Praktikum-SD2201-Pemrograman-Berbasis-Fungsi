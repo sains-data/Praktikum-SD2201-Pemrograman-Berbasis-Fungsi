{
  "nbformat": 4,
  "nbformat_minor": 0,
  "metadata": {
    "colab": {
      "provenance": []
    },
    "kernelspec": {
      "name": "python3",
      "display_name": "Python 3"
    },
    "language_info": {
      "name": "python"
    }
  },
  "cells": [
    {
      "cell_type": "code",
      "execution_count": 24,
      "metadata": {
        "colab": {
          "base_uri": "https://localhost:8080/"
        },
        "id": "_-Y58gYudrBI",
        "outputId": "f68c33de-e56f-4205-8874-90c84b0d8048"
      },
      "outputs": [
        {
          "output_type": "stream",
          "name": "stdout",
          "text": [
            "\n",
            " SELAMAT DATANG DI PROGRAM KONVERSI SUHU\n",
            "\n",
            "masukan suhu dalam celcius =30\n",
            "maka suhu fahrenheit nya adalah : [86.0]\n",
            "masukan suhu dalam fahrenheit =86\n",
            "maka suhu celcius nya adalah : [30.0]\n",
            "\n",
            " TERIMAKASIH SUDAH MENCOBA PROGRAM INI \n",
            "\n"
          ]
        }
      ],
      "source": [
        "#program konversi celcius ke satuan fahrenheit atau sebaliknya\n",
        "print(\"\\n SELAMAT DATANG DI PROGRAM KONVERSI SUHU\\n\")\n",
        "\n",
        "suhu = float(input(\"masukan suhu dalam celcius =\"))\n",
        "temperatures_fahrenheit = list(map(lambda c: (c * 9/5) + 32, [suhu] ))\n",
        "print(f\"maka suhu fahrenheit nya adalah : { temperatures_fahrenheit}\")\n",
        "\n",
        "fahrenheit = float(input(\"masukan suhu dalam fahrenheit =\"))\n",
        "temperatures_celsius = list(map(lambda f: (f - 32) * 5/9, [fahrenheit]))\n",
        "print(f\"maka suhu celcius nya adalah : { temperatures_celsius}\")\n",
        "\n",
        "print(\"\\n TERIMAKASIH SUDAH MENCOBA PROGRAM INI \\n\")"
      ]
    },
    {
      "cell_type": "code",
      "source": [],
      "metadata": {
        "id": "auQhYZtOhRM_"
      },
      "execution_count": null,
      "outputs": []
    }
  ]
}
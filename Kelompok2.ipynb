{
  "nbformat": 4,
  "nbformat_minor": 0,
  "metadata": {
    "colab": {
      "provenance": []
    },
    "kernelspec": {
      "name": "python3",
      "display_name": "Python 3"
    },
    "language_info": {
      "name": "python"
    }
  },
  "cells": [
    {
      "cell_type": "code",
      "execution_count": 1,
      "metadata": {
        "colab": {
          "base_uri": "https://localhost:8080/"
        },
        "id": "_ibKyFg71MEe",
        "outputId": "0bf57563-0b0d-4ffc-e231-eb32539e662b"
      },
      "outputs": [
        {
          "output_type": "stream",
          "name": "stdout",
          "text": [
            "1. Penjumlahan vektor\n",
            "2. Pengurangan vektor\n",
            "3. Perkalian skalar\n",
            "Pilih opsi (1/2/3): 1\n",
            "Masukkan elemen vektor (dipisahkan spasi): 1 2\n",
            "Masukkan elemen vektor (dipisahkan spasi): 3 1\n",
            "Hasil:  [4, 3]\n"
          ]
        }
      ],
      "source": [
        "# Kalkulator Vektor\n",
        "\n",
        "# penjumlahan vektor\n",
        "add_vectors = lambda n1, n2: [x + y for x, y in zip(n1, n2)]\n",
        "\n",
        "# pengurangan vektor\n",
        "sub_vectors = lambda n1, n2: [x - y for x, y in zip(n1, n2)]\n",
        "\n",
        "# perkalian skalar\n",
        "mul_scalar = lambda n1, s: [x * s for x in n1]\n",
        "\n",
        "# fungsi untuk input vektor\n",
        "get_vector = lambda: list(map(int, input(\"Masukkan elemen vektor (dipisahkan spasi): \").split()))\n",
        "\n",
        "# taking a input from user to choose an option\n",
        "print(\"1. Penjumlahan vektor\")\n",
        "print(\"2. Pengurangan vektor\")\n",
        "print(\"3. Perkalian skalar\")\n",
        "\n",
        "choice = int(input(\"Pilih opsi (1/2/3): \"))\n",
        "\n",
        "# user chose option 1 (penjumlahan vektor)\n",
        "if choice == 1:\n",
        "  v1 = get_vector()\n",
        "  v2 = get_vector()\n",
        "\n",
        "  if len(v1) != len(v2):\n",
        "    print(\"Error: Vektornya harus memiliki jumlah elemen yang sama\")\n",
        "  else:\n",
        "    print(\"Hasil: \", add_vectors(v1, v2))\n",
        "\n",
        "# user chose option 2 (pengurangan vektor)\n",
        "elif choice == 2:\n",
        "  v1 = get_vector()\n",
        "  v2 = get_vector()\n",
        "\n",
        "  if len(v1) != len(v2):\n",
        "    print(\"Error: Vektornya harus memiliki jumlah elemen yang sama\")\n",
        "  else:\n",
        "    print(\"Hasil: \", sub_vectors(v1, v2))\n",
        "\n",
        "# user chose option 3 (perkalian skalar)\n",
        "elif choice == 3:\n",
        "  v1 = get_vector()\n",
        "  s = int(input(\"Masukkan skalar: \"))\n",
        "\n",
        "  print(\"Hasil: \", mul_scalar(v1, s))\n",
        "\n",
        "else:\n",
        "  print(\"Error: Opsi yang dimasukkan salah\")"
      ]
    },
    {
      "cell_type": "code",
      "source": [
        "1"
      ],
      "metadata": {
        "id": "bLqAIb031QwH"
      },
      "execution_count": null,
      "outputs": []
    }
  ]
}
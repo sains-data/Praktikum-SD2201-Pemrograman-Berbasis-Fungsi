{
  "nbformat": 4,
  "nbformat_minor": 0,
  "metadata": {
    "colab": {
      "provenance": []
    },
    "kernelspec": {
      "name": "python3",
      "display_name": "Python 3"
    },
    "language_info": {
      "name": "python"
    }
  },
  "cells": [
    {
      "cell_type": "markdown",
      "source": [
        "# Tugas Kelompok Praktikum PBF RA\n",
        "\n",
        "#### Kelompok 12:\n",
        "#### 1. Presilia (122450081)\n",
        "#### 2. Natasya Ega Lina Marbun (122450024)\n",
        "#### 3. Syalaisha Andini Putriansyah (122450111)\n",
        "#### 4. Irvan Alfaritzi (122450093)\n",
        "#### 5. Khusnun Nisa (122450078)\n"
      ],
      "metadata": {
        "id": "dlPRw_N699hJ"
      }
    },
    {
      "cell_type": "markdown",
      "source": [
        "##1. Buatlah fungsi komposisi dengan nilai f(x) = 4^x, g(x)=x^x dan h(x)=3+x dengan pemrograman prosedural tiga fungsi dan pemrograman fungsional dengan lambda"
      ],
      "metadata": {
        "id": "iZKaKSLP_YEL"
      }
    },
    {
      "cell_type": "code",
      "source": [
        "def f(x):\n",
        "    return 4**x\n",
        "def g(x):\n",
        "    return x**x\n",
        "def h(x):\n",
        "    return 3+x\n",
        "\n",
        "print(\"komposisi fungsi : \", h(g(f(4))))"
      ],
      "metadata": {
        "colab": {
          "base_uri": "https://localhost:8080/"
        },
        "id": "g2nToBSCAO0v",
        "outputId": "b85e3ca6-bfd2-4f04-b2d3-db6af42e19b4"
      },
      "execution_count": 29,
      "outputs": [
        {
          "output_type": "stream",
          "name": "stdout",
          "text": [
            "komposisi fungsi :  32317006071311007300714876688669951960444102669715484032130345427524655138867890893197201411522913463688717960921898019494119559150490921095088152386448283120630877367300996091750197750389652106796057638384067568276792218642619756161838094338476170470581645852036305042887575891541065808607552399123930385521914333389668342420684974786564569494856176035326322058077805659331026192708460314150258592864177116725943603718461857357598351152301645904403697613233287231227125684710820209725157101726931323469678542580656697935045997268352998638215525166389437335543602135433229604645318478604952148193555853611059596230659\n"
          ]
        }
      ]
    },
    {
      "cell_type": "code",
      "source": [
        "fungsi_komposisi_fungsional = lambda x: h(g(f(x)))\n",
        "\n",
        "hasil = fungsi_komposisi_fungsional(4)\n",
        "print(\"komposisi lambda \",\"adalah\", hasil)"
      ],
      "metadata": {
        "colab": {
          "base_uri": "https://localhost:8080/"
        },
        "id": "helLBEr1AdEZ",
        "outputId": "792ab597-6236-48be-bc4f-74efa9fb3b26"
      },
      "execution_count": 30,
      "outputs": [
        {
          "output_type": "stream",
          "name": "stdout",
          "text": [
            "komposisi lambda  adalah 32317006071311007300714876688669951960444102669715484032130345427524655138867890893197201411522913463688717960921898019494119559150490921095088152386448283120630877367300996091750197750389652106796057638384067568276792218642619756161838094338476170470581645852036305042887575891541065808607552399123930385521914333389668342420684974786564569494856176035326322058077805659331026192708460314150258592864177116725943603718461857357598351152301645904403697613233287231227125684710820209725157101726931323469678542580656697935045997268352998638215525166389437335543602135433229604645318478604952148193555853611059596230659\n"
          ]
        }
      ]
    },
    {
      "cell_type": "markdown",
      "source": [
        "##2. Buatlah pemrograman berbasis objek pada soal no.1"
      ],
      "metadata": {
        "id": "IwBOI2FAAms2"
      }
    },
    {
      "cell_type": "code",
      "source": [
        "class nilai:\n",
        "    def __init__(self, nilai):\n",
        "        self.nilai = nilai\n",
        "    def __rshift__(self, other):\n",
        "        return other(self.nilai)\n",
        "def f(x):\n",
        "    return nilai(4**x)\n",
        "def g(x):\n",
        "    return nilai(x**x)\n",
        "def h(x):\n",
        "    return nilai(3 + x)\n",
        "\n",
        "result = nilai(4) >> f >> g >> h\n",
        "result.nilai"
      ],
      "metadata": {
        "colab": {
          "base_uri": "https://localhost:8080/"
        },
        "id": "WMMNmRUzAs-J",
        "outputId": "76e00424-bb5f-4cf4-e5fd-1c54f7c9e578"
      },
      "execution_count": 33,
      "outputs": [
        {
          "output_type": "execute_result",
          "data": {
            "text/plain": [
              "32317006071311007300714876688669951960444102669715484032130345427524655138867890893197201411522913463688717960921898019494119559150490921095088152386448283120630877367300996091750197750389652106796057638384067568276792218642619756161838094338476170470581645852036305042887575891541065808607552399123930385521914333389668342420684974786564569494856176035326322058077805659331026192708460314150258592864177116725943603718461857357598351152301645904403697613233287231227125684710820209725157101726931323469678542580656697935045997268352998638215525166389437335543602135433229604645318478604952148193555853611059596230659"
            ]
          },
          "metadata": {},
          "execution_count": 33
        }
      ]
    },
    {
      "cell_type": "markdown",
      "source": [
        "##3. Berikan Analisis Komparasi soal 1 dan 2"
      ],
      "metadata": {
        "id": "7IWp_aEsA1LY"
      }
    },
    {
      "cell_type": "markdown",
      "source": [
        "Sebelumnya perlu dipahami terlebih dahulu apa itu pemrograman prosedural dan pemrograman berbasis objek.\n",
        "\n",
        "Pemrograman prosedural:\n",
        "adalah cara untuk membuat program dengan membagi tugas-tugas kecil menjadi bagian-bagian yang terpisah. Bagian-bagian ini disebut fungsi atau prosedur.\n",
        "\n",
        "Pemrograman  berbasis fungsi (OOP):\n",
        "menggunakan konsep objek, yang  memungkinkan penggabungan data dan fungsi menjadi satuan-satuan yang disebut objek.Kemudian objek-objek ini dapat berinteraksi satu sama lain untuk menyelesaikan tugas yang lebih besar dan kompleks.\n",
        "\n",
        "Dari penjelasan tersebut dapat kita lihat bahwa pemrograman dari soal nomor dua terdiri dari satu class yang di dalamnya tersusun fungsi objek-objek, sedangkan pemrograman di soal nomor 1 terdiri dari beberapa fungsi."
      ],
      "metadata": {
        "id": "y37V3i6IA6Mx"
      }
    },
    {
      "cell_type": "markdown",
      "source": [
        "##4. Buatlah satu penyelesaian Luas Segitiga dengan menggunakan Pemrograman berorientasi Objek dan Pemrograman berbasis Fungsi. uji dengan membandingkan mana yang tercepat komputasinya."
      ],
      "metadata": {
        "id": "fb53bgqFBEOo"
      }
    },
    {
      "cell_type": "markdown",
      "source": [
        ">a. Pemrograman Berorientasi Objek (OOP)"
      ],
      "metadata": {
        "id": "xf3LtIj7BS9i"
      }
    },
    {
      "cell_type": "code",
      "source": [
        "class Segitiga: # Class tersebut bernama Segitiga.\n",
        "    def __init__(self, alas, tinggi): # Inisialisasi objek dengan parameter self, alas, dan tinggi.\n",
        "        self.alas = alas  # Menetapkan nilai alas dari objek ke atribut.\n",
        "        self.tinggi = tinggi  # Menetapkan nilai tinggi dari objek ke atribut.\n",
        "\n",
        "    def hitung_luas(self):  # Fungsi bernama hitung luas dengan parameter self.\n",
        "        return 0.5 * self.alas * self.tinggi  # menghitung luas segitiga dengan menggunakan atribut alas dan tinggi dari objek saat ini.\n",
        "\n",
        "luas = Segitiga(5, 7) # Variabel luas menyimpan pembutan objek dari kelas dengan alas 5 dan tinggi 7.\n",
        "print(\"Luas Segitiga:\", luas.hitung_luas()) # Mencetakan hasil perhitungan luas segitiga."
      ],
      "metadata": {
        "colab": {
          "base_uri": "https://localhost:8080/"
        },
        "id": "JC6YtNpKBJPn",
        "outputId": "4c37b160-dd14-4cff-f613-4cd6007e854c"
      },
      "execution_count": 4,
      "outputs": [
        {
          "output_type": "stream",
          "name": "stdout",
          "text": [
            "Luas Segitiga: 17.5\n"
          ]
        }
      ]
    },
    {
      "cell_type": "markdown",
      "source": [
        ">b. Pemrograman Berbasis Fungsi"
      ],
      "metadata": {
        "id": "hooCaKfLBhQi"
      }
    },
    {
      "cell_type": "code",
      "source": [
        "def luas_segitiga(alas, tinggi):  # Fungsi tersebut bernama Luas Segitiga.\n",
        "    return 0.5 * alas * tinggi  # Mengembalikan hasil perhitungan luas segitiga dengan rumus 0.5 * alas * tinggi.\n",
        "\n",
        "luas = luas_segitiga(5, 7)  # Variabel luas menyimpan hasil dari fungsi luas segitiga dengan alas 5 dan tinggi 7.\n",
        "print(\"Luas Segitiga:\", luas)  # Mencetak hasil perhitungan luas segitiga."
      ],
      "metadata": {
        "colab": {
          "base_uri": "https://localhost:8080/"
        },
        "id": "GPM0x_CDBmJM",
        "outputId": "c5586fd5-8306-4a4b-fd49-4dad5b58569c"
      },
      "execution_count": 5,
      "outputs": [
        {
          "output_type": "stream",
          "name": "stdout",
          "text": [
            "Luas Segitiga: 17.5\n"
          ]
        }
      ]
    },
    {
      "cell_type": "markdown",
      "source": [
        ">c. Menguji kecepatan komputasi keduanya"
      ],
      "metadata": {
        "id": "-unCX1a4Bqv5"
      }
    },
    {
      "cell_type": "code",
      "source": [
        "# mengimpor modul timeit\n",
        "import timeit # Mengukur waktu eksekusi dari blok kode Python.\n",
        "\n",
        "# Pengujian OOP\n",
        "time_oop = timeit.timeit(\"luas.hitung_luas()\", setup=\"from __main__ import Segitiga; luas = Segitiga(5, 7)\", number=1000000)\n",
        "# Mengukur waktu eksekusi dari pemanggilan metode hitung_luas() pada objek luas.\n",
        "# \"setup\" parameter yang mencakup pembuatan objek luas.\n",
        "# jumlah iterasi sebanyak 1000000 menggunakan number parameter.\n",
        "\n",
        "# Pengujian Fungsi\n",
        "time_func = timeit.timeit(\"luas_segitiga(5, 7)\", setup=\"from __main__ import luas_segitiga\", number=1000000)\n",
        "# Mengukur waktu eksekusi dari pemanggilan fungsi hitung_luas_segitiga(5, 7).\n",
        "# \"setup\" hanya mengimpor fungsi hitung_luas_segitiga dan iterasi sebanyak 1000000 menggunakan number parameter.\n",
        "\n",
        "print(\"Waktu eksekusi (OOP):\", time_oop)  # Mencetak waktu eksekusi untuk pendekatan OOP.\n",
        "print(\"Waktu eksekusi (PBF):\", time_func)  # # Mencetak waktu eksekusi untuk pendekatan PBF.\n",
        "\n",
        "# Membandingkan waktu eksekusi\n",
        "if time_oop < time_func:\n",
        "    print(\"Pemrograman Berorientasi Objek lebih cepat.\")  # Jika pendekatan OOP lebih cepat\n",
        "else:\n",
        "    print(\"Pemrograman Berbasis Fungsi lebih cepat.\") # Jika pendekatan PBF lebih cepat\n"
      ],
      "metadata": {
        "colab": {
          "base_uri": "https://localhost:8080/"
        },
        "id": "MqTkRSZiBvKE",
        "outputId": "b1dabdff-cb68-4e8e-ce1e-cf7184d71ecb"
      },
      "execution_count": 6,
      "outputs": [
        {
          "output_type": "stream",
          "name": "stdout",
          "text": [
            "Waktu eksekusi (OOP): 0.1836618460000068\n",
            "Waktu eksekusi (PBF): 0.15587332899997364\n",
            "Pemrograman Berbasis Fungsi lebih cepat.\n"
          ]
        }
      ]
    },
    {
      "cell_type": "markdown",
      "source": [
        "Pendekatan berbasis fungsi (PBF) lebih cepat karena tidak ada beban tambahan yang terkait dengan objek dan metode dari suatu kelas. Berikut bebrapa faktor yang memngaruhinya:\n",
        "\n",
        "1. PBF menghindari overhead yang terkait dengan pembuatan objek dan pemanggilan metode pada objek. Fungsi langsung dipanggil tanpa perlu membuat instance dari suatu kelas.\n",
        "\n",
        "2. Dalam pendekatan OOP, pembuatan objek dan pemanggilan metode memerlukan beberapa langkah ekstra dibandingkan dengan pemanggilan fungsi\n",
        "\n",
        "3. Pemnaggilan fungsi yang sederhana yang memudahkan pemanggilan fungsi dengan parameter yang diberikam tanpa memerlukan pembuatan objek terlebih dahulu\n",
        "\n",
        "4. Fungsi sederhana yang terdapat dalam PBF mendapatkan keuntungan dari caching yang optimal sehingga kinerja lebih efisien"
      ],
      "metadata": {
        "id": "bWXaywMZB0hJ"
      }
    },
    {
      "cell_type": "markdown",
      "source": [
        "## 5. (Special Soal) Diberikan Algoritma Metode Bisection berikut:\n",
        ">1. start\n",
        ">2. Define function f(x)\n",
        ">3. Choose initial guesses x0 and x1 such that f(x0)f(x1) < 0\n",
        ">4. Choose pre-specified tolerable error e.\n",
        ">5. Calculate new approximated root as x2 = (x0 + x1)/2\n",
        ">6. Calculate f(x0)f(x2)\n",
        "\n",
        ">> a. if f(x0)f(x2) < 0 then x0 = x0 and x1 = x2\n",
        "\n",
        ">> b. if f(x0)f(x2) > 0 then x0 = x2 and x1 = x1\n",
        "\n",
        ">> c. if f(x0)f(x2) = 0 then goto (8)\n",
        ">7. if |f(x2)| > e then goto (5) otherwise goto (8)\n",
        ">8. Display x2 as root.\n",
        ">9. Stop\n",
        "\n",
        "Buatlah prosedural programming dari persoalan di atas dan ubahlah dengan functional programming.\n",
        "Lakukan dengan batas toleransi 10^-5, dengan fungsi yang diberikan sebagai berikut: dan nilai a dan\n",
        "b adalah di antara 0 dan 1 (nilai antara tidak boleh 0 dan 1)"
      ],
      "metadata": {
        "id": "J3-OBpKwEQ4T"
      }
    },
    {
      "cell_type": "markdown",
      "source": [
        ">a. Prosedural Programming"
      ],
      "metadata": {
        "id": "qqrUsVv4FcC1"
      }
    },
    {
      "cell_type": "code",
      "source": [
        "# mendefinisikan fungsi yang ingin dicari akarnya\n",
        "def f(x):\n",
        "    return x-2**x\n",
        "\n",
        "# terdapat tiga parameter seabagai nilai awal dan satu parameter lagi sebgai nilai toleransi\n",
        "def bisection_prosedural(a, b, toleransi):\n",
        "    x0 = a  # x0 diinisialisasi dengan a\n",
        "    x1 = b  # x1 diinisialisasi dengan b\n",
        "\n",
        "# terjadi proses iterasi hingga kondisi terpenuhi\n",
        "    while True:\n",
        "        x2 = (x0 + x1) / 2  # pada setiap iterasi, niali x2 dihitung sebagai nilai mean dari x0 dan x1\n",
        "        f_x0 = f(x0)\n",
        "        f_x2 = f(x2)\n",
        "\n",
        "# proses percabangan untuk menentukan suatu kondisi yang terpenuhi\n",
        "        if f_x0 * f_x2 < 0:  # jika hasil perkalian (-), maka akar berada diantara x0 dan x2\n",
        "            x1 = x2  # x1 diupdate menjadi x2, jika kondisi sebelumnya terpenuhi\n",
        "        elif f_x0 * f_x2 > 0:  # jika hasil perkalian (+), maka akar berada diantara x2 dan x1\n",
        "            x0 = x2  # x0 diupdate menjadi x2, jika kondisi sebelumnya terpenuhi\n",
        "        else:\n",
        "            break  # akar = 0, keluar dari loop\n",
        "\n",
        "# memeriksa nilai mutlak dari (f(x2)) memiliki nilai kurang dari toleranisi\n",
        "        if abs(f_x2) > toleransi:  #jika kondisi terpenuhi, iterasi dihentikan\n",
        "            break\n",
        "\n",
        "    return x2  #nilai x2 dikembalikan sebagai hasil fugsi\n",
        "\n",
        "# Contoh penggunaan dengan nilai awal yang telah ditentukan\n",
        "a = 0.0\n",
        "b = 1.0\n",
        "toleransi = 1e-5\n",
        "hasil = bisection_prosedural(a, b, toleransi)\n",
        "print(f\"Akar aproksimasi: {hasil}\")  #menampikan nilai aproksimasi akar dari fungsi\n"
      ],
      "metadata": {
        "colab": {
          "base_uri": "https://localhost:8080/"
        },
        "id": "acXgwmXDk9hN",
        "outputId": "36bbc3b5-075e-4f42-e340-c1ad5fdb065f"
      },
      "execution_count": 50,
      "outputs": [
        {
          "output_type": "stream",
          "name": "stdout",
          "text": [
            "Akar aproksimasi: 0.5\n"
          ]
        }
      ]
    },
    {
      "cell_type": "markdown",
      "source": [
        ">b. Functional Programming"
      ],
      "metadata": {
        "id": "esAtvJKIF318"
      }
    },
    {
      "cell_type": "code",
      "source": [
        "# mendefinisikan fungsi yang ingin dicari akarnya dengan lambda\n",
        "f = lambda x: x - 2**x\n",
        "\n",
        "# mendefinisikan fungsi rekursif untuk mencari akar dengan metode bisection\n",
        "def bisection_fungsional(a, b, toleransi):\n",
        "    # kondisi berhenti: jika selisih antara a dan b kurang dari atau sama dengan toleransi\n",
        "    if abs(a - b) <= toleransi:\n",
        "        return (a + b) / 2 # mengembalikan nilai mean dari a dan b sebagai akar aproksimasi\n",
        "    else:\n",
        "        x2 = (a + b) / 2 # menghitung nilai mean dari a dan b\n",
        "        f_a = f(a) # menghitung nilai f(a)\n",
        "        f_x2 = f(x2) # menghitung nilai f(x2)\n",
        "        # ekspresi kondisional untuk memilih nilai a atau b yang akan diupdate\n",
        "        a_baru = x2 if f_a * f_x2 < 0 else a # jika hasil perkalian (-), maka a diupdate menjadi x2\n",
        "        b_baru = x2 if f_a * f_x2 > 0 else b # jika hasil perkalian (+), maka b diupdate menjadi x2\n",
        "        # memanggil fungsi rekursif dengan nilai a dan b yang baru\n",
        "        return bisection_fungsional(a_baru, b_baru, toleransi)\n",
        "\n",
        "# Contoh penggunaan dengan nilai awal yang telah ditentukan\n",
        "a = 0.5\n",
        "b = 1.0\n",
        "toleransi = 1e-5\n",
        "hasil = bisection_fungsional(a, b, toleransi)\n",
        "print(f\"Akar aproksimasi: {hasil}\") # menampilkan nilai aproksimasi akar dari fungsi\n"
      ],
      "metadata": {
        "colab": {
          "base_uri": "https://localhost:8080/"
        },
        "id": "xAfJbuZnn8sP",
        "outputId": "c6de49a7-aa06-45d9-80ef-c446b0ea3c13"
      },
      "execution_count": 51,
      "outputs": [
        {
          "output_type": "stream",
          "name": "stdout",
          "text": [
            "Akar aproksimasi: 0.5000038146972656\n"
          ]
        }
      ]
    }
  ]
}
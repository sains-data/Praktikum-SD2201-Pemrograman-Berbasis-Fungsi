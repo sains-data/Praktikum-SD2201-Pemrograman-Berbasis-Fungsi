{
  "nbformat": 4,
  "nbformat_minor": 0,
  "metadata": {
    "colab": {
      "provenance": []
    },
    "kernelspec": {
      "name": "python3",
      "display_name": "Python 3"
    },
    "language_info": {
      "name": "python"
    }
  },
  "cells": [
    {
      "cell_type": "markdown",
      "source": [
        "### Nama Anggota Kelompok 4\n",
        "\n",
        "1.   Priska Silvia Ferantiana_122450053\n",
        "2.   Elia Meylani Simanjuntak_122450026\n",
        "3.   Residen Nusantara_122450080\n",
        "4.   Anwar Muslim_122450117\n",
        "5.   Muhammad Zaky Zaiddan_122450119"
      ],
      "metadata": {
        "id": "QiAS4zNF5ngC"
      }
    },
    {
      "cell_type": "markdown",
      "source": [
        "# **1. Fungsi komposisi**"
      ],
      "metadata": {
        "id": "m0UZn3bn5x5o"
      }
    },
    {
      "cell_type": "code",
      "execution_count": null,
      "metadata": {
        "id": "h3vKdxi_1Rul",
        "colab": {
          "base_uri": "https://localhost:8080/"
        },
        "outputId": "99c95058-82dc-400f-ca90-e23f75f7bf4e"
      },
      "outputs": [
        {
          "output_type": "stream",
          "name": "stdout",
          "text": [
            "Composed Function Result: 18446744073709551619\n",
            "Time: 9.560585021972656e-05\n"
          ]
        }
      ],
      "source": [
        "import time\n",
        "\n",
        "# Pemrograman Prosedural\n",
        "def f(x):\n",
        "    return 4 ** x\n",
        "\n",
        "def g(x):\n",
        "    return x ** x\n",
        "\n",
        "def h(x):\n",
        "    return 3 + x\n",
        "\n",
        "start_time = time.time()\n",
        "# Example usage:\n",
        "composed_function = h(g(f(2)))\n",
        "\n",
        "end_time = time.time()\n",
        "print(\"Composed Function Result:\", composed_function)\n",
        "\n",
        "# Memperbaiki format print statement\n",
        "print(f\"Time: {end_time - start_time}\")\n"
      ]
    },
    {
      "cell_type": "markdown",
      "source": [
        "**B. Pemograman Fungsi dengan Lambda**"
      ],
      "metadata": {
        "id": "WM8RKj4a52TL"
      }
    },
    {
      "cell_type": "code",
      "source": [
        "import time\n",
        "\n",
        "# Fungsi Lambda\n",
        "f = lambda x: 4**x\n",
        "g = lambda x: x**x\n",
        "h = lambda x: 3 + x\n",
        "\n",
        "# Waktu awal\n",
        "start_time = time.time()\n",
        "\n",
        "# Contoh penggunaan:\n",
        "composed_function = lambda x: h(g(f(x)))\n",
        "\n",
        "# Pengujian nilai x = 2\n",
        "result = composed_function(2)\n",
        "\n",
        "# Waktu akhir\n",
        "end_time = time.time()\n",
        "\n",
        "# Output hasil dan waktu eksekusi\n",
        "print(\"Composed Function Result:\", result)\n",
        "print(\"Time:\", end_time - start_time)"
      ],
      "metadata": {
        "colab": {
          "base_uri": "https://localhost:8080/"
        },
        "id": "iXqRF6ui2c3L",
        "outputId": "bbbe6ebd-503c-4371-dc78-fd9328889198"
      },
      "execution_count": null,
      "outputs": [
        {
          "output_type": "stream",
          "name": "stdout",
          "text": [
            "Composed Function Result: 18446744073709551619\n",
            "Time: 0.0001354217529296875\n"
          ]
        }
      ]
    },
    {
      "cell_type": "markdown",
      "source": [
        "# **2. Pemograman Berbasis Objek**"
      ],
      "metadata": {
        "id": "e3cg8CP36BLC"
      }
    },
    {
      "cell_type": "code",
      "source": [
        "# Object-Oriented Programming\n",
        "\n",
        "class Function:\n",
        "  def __init__(self, formula):\n",
        "    self.formula = formula\n",
        "\n",
        "  def __call__(self, x):\n",
        "    return eval(self.formula, {\"x\": x})\n",
        "\n",
        "f = Function(\"4**x\")\n",
        "g = Function(\"x**x\")\n",
        "h = Function(\"3 + x\")\n",
        "\n",
        "# Example usage:\n",
        "start_time = time.time()\n",
        "# Example usage:\n",
        "composed_function = h(g(f(2)))\n",
        "\n",
        "end_time = time.time()\n",
        "print(composed_function)\n",
        "print(f\"time : {end_time-start_time}\")"
      ],
      "metadata": {
        "colab": {
          "base_uri": "https://localhost:8080/"
        },
        "id": "W88-S_p44HgX",
        "outputId": "c23f9f36-a1ba-460f-bf94-3f6e97c00659"
      },
      "execution_count": null,
      "outputs": [
        {
          "output_type": "stream",
          "name": "stdout",
          "text": [
            "18446744073709551619\n",
            "time : 0.00018024444580078125\n"
          ]
        }
      ]
    },
    {
      "cell_type": "markdown",
      "source": [
        "# **3. Analisis Komparasi:**\n",
        "\n",
        "# Prosedural vs Fungsional vs Berbasis Objek:\n",
        "\n",
        "Proses **bisection** pada ketiga pendekatan mengikuti algoritma yang sama.\n",
        "\n",
        "Pendekatan **fungsional** menggunakan **rekursi** dan **lambda function**, sedangkan pendekatan prosedural menggunakan loop, dan pendekatan berbasis objek memanfaatkan kelas dan metode.\n",
        "\n",
        "Penggunaan **fungsi lambda** pada pendekatan fungsional dapat membuat kode lebih ringkas, sedangkan pendekatan berbasis objek memberikan struktur yang terorganisir."
      ],
      "metadata": {
        "id": "pzo9ASid6Pb6"
      }
    },
    {
      "cell_type": "markdown",
      "source": [
        "# **4. Luas Segitiga dalam 2 Metode Pemograman**"
      ],
      "metadata": {
        "id": "lmXL1JCh4wst"
      }
    },
    {
      "cell_type": "markdown",
      "source": [
        "**A. Pemrograman Berorientasi Objek:**"
      ],
      "metadata": {
        "id": "0ef3VLqr48Ck"
      }
    },
    {
      "cell_type": "code",
      "source": [
        "#Pemrograman Berorientasi Objek\n",
        "import time\n",
        "\n",
        "class Triangle:\n",
        "  \"\"\"\n",
        "  Represents a triangle and its properties.\n",
        "  \"\"\"\n",
        "\n",
        "  def __init__(self, base, height):\n",
        "    \"\"\"\n",
        "    Initializes a Triangle object.\n",
        "\n",
        "    Args:\n",
        "        base: The base of the triangle.\n",
        "        height: The height of the triangle.\n",
        "    \"\"\"\n",
        "    self.base = base\n",
        "    self.height = height\n",
        "\n",
        "  def calculate_area(self):\n",
        "    \"\"\"\n",
        "    Calculates the area of the triangle.\n",
        "\n",
        "    Returns:\n",
        "        The area of the triangle.\n",
        "    \"\"\"\n",
        "\n",
        "    return 0.5 * self.base * self.height\n",
        "\n",
        "# Example usage\n",
        "start_time = time.time()\n",
        "triangle = Triangle(20, 10)\n",
        "area = triangle.calculate_area()\n",
        "print(f\"Area of the triangle: {area}\")\n",
        "end_time= time.time()\n",
        "print(f\"waktu : {end_time-start_time}\")"
      ],
      "metadata": {
        "colab": {
          "base_uri": "https://localhost:8080/"
        },
        "id": "kWBNGmt14Jbt",
        "outputId": "467f2d5e-696b-4cdc-ce73-fa8f533a9d96"
      },
      "execution_count": null,
      "outputs": [
        {
          "output_type": "stream",
          "name": "stdout",
          "text": [
            "Area of the triangle: 100.0\n",
            "waktu : 0.0020723342895507812\n"
          ]
        }
      ]
    },
    {
      "cell_type": "markdown",
      "source": [
        "**B. Pemrograman Berbasis Fungsi:**"
      ],
      "metadata": {
        "id": "9O8RIOMT5Abu"
      }
    },
    {
      "cell_type": "code",
      "source": [
        "#Pemrograman Berbasis Fungsi\n",
        "def luas_segitiga(alas, tinggi):\n",
        "  return 0.5 * alas * tinggi\n",
        "\n",
        "# Example usage:\n",
        "print(luas_segitiga(20, 10))\n",
        "\n",
        "start_time = time.time()\n",
        "end_time = time.time()\n",
        "print(composed_function)\n",
        "print(f\"time : {end_time-start_time}\")"
      ],
      "metadata": {
        "colab": {
          "base_uri": "https://localhost:8080/"
        },
        "id": "dJe59VUi4L2_",
        "outputId": "d47c6ed1-0854-425f-cfec-47ad29addd4b"
      },
      "execution_count": null,
      "outputs": [
        {
          "output_type": "stream",
          "name": "stdout",
          "text": [
            "100.0\n",
            "18446744073709551619\n",
            "time : 5.936622619628906e-05\n"
          ]
        }
      ]
    },
    {
      "cell_type": "markdown",
      "source": [
        "# **5. Algoritma Bisection**"
      ],
      "metadata": {
        "id": "jv8ZRnXf4mcd"
      }
    },
    {
      "cell_type": "code",
      "source": [
        "def bisection(f, x0, x1, e):\n",
        "  if f(x0) * f(x1) < 0:\n",
        "    while (x1 - x0) / 2 > e:\n",
        "      x2 = (x0 + x1) / 2\n",
        "      if f(x0) * f(x2) < 0:\n",
        "        x0=x0\n",
        "        x1=x2\n",
        "      elif f(x0) * f(x2) > 0:\n",
        "        x0=x2\n",
        "        x1=x1\n",
        "      elif f(x0) * f(x2) == 0:\n",
        "        return x2\n",
        "      else:\n",
        "        x0 = x2\n",
        "    if abs(f(x2)) > e:\n",
        "      return x2\n",
        "    else:\n",
        "      return x2\n",
        "  elif f(x0) * f(x1) > 0:\n",
        "    print(\"Tidak ada akar yang berada di antara x0 dan x1\")\n",
        "  else:\n",
        "    print(\"error\")\n",
        "\n",
        "f = lambda x: x - 2**x\n",
        "e = 0.00001\n",
        "x0 = 0.00001\n",
        "x1 = 0.99999\n",
        "print(bisection(f, x0, x1, e))\n"
      ],
      "metadata": {
        "colab": {
          "base_uri": "https://localhost:8080/"
        },
        "id": "S_phGykn4OB9",
        "outputId": "764e216c-c343-4b8e-f53a-f967b53c8a6b"
      },
      "execution_count": null,
      "outputs": [
        {
          "output_type": "stream",
          "name": "stdout",
          "text": [
            "Tidak ada akar yang berada di antara x0 dan x1\n",
            "None\n"
          ]
        }
      ]
    }
  ]
}

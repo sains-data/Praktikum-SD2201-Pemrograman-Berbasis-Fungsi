{
 "cells": [
  {
   "cell_type": "code",
   "execution_count": 120,
   "metadata": {},
   "outputs": [
    {
     "data": {
      "text/plain": [
       "13407807929942597099574024998205846127479365820592393377723561443721764030073546976801874298166903427690031858186486050853753882811946569946433649006084096"
      ]
     },
     "execution_count": 120,
     "metadata": {},
     "output_type": "execute_result"
    }
   ],
   "source": [
    "#Pemrograman Prosedural\n",
    "def f(x):\n",
    "    return 4**x\n",
    "def g(x):\n",
    "    return x**x\n",
    "def h(x):\n",
    "    return 3+x\n",
    "def komposisi(x):\n",
    "    return f(g(h(x)))\n",
    "\n",
    "komposisi(1)"
   ]
  },
  {
   "cell_type": "code",
   "execution_count": 121,
   "metadata": {},
   "outputs": [
    {
     "data": {
      "text/plain": [
       "13407807929942597099574024998205846127479365820592393377723561443721764030073546976801874298166903427690031858186486050853753882811946569946433649006084096"
      ]
     },
     "execution_count": 121,
     "metadata": {},
     "output_type": "execute_result"
    }
   ],
   "source": [
    "#Pemrograman Fungsional dengan lambda\n",
    "f = lambda x: 4**x\n",
    "g = lambda x: x**x\n",
    "h = lambda x: 3+x\n",
    "komposisi = lambda x: f(g(h(x)))\n",
    "\n",
    "komposisi(1)"
   ]
  },
  {
   "cell_type": "code",
   "execution_count": 122,
   "metadata": {},
   "outputs": [
    {
     "data": {
      "text/plain": [
       "13407807929942597099574024998205846127479365820592393377723561443721764030073546976801874298166903427690031858186486050853753882811946569946433649006084096"
      ]
     },
     "execution_count": 122,
     "metadata": {},
     "output_type": "execute_result"
    }
   ],
   "source": [
    "#Pemrograman Berbasis Objek\n",
    "class Fungsi:\n",
    "    def f(self, x):\n",
    "        return 4**x\n",
    "    def g(self, x):\n",
    "        return x**x\n",
    "    def h(self, x):\n",
    "        return 3+x\n",
    "    def komposisi(self, x):\n",
    "        return self.f(self.g(self.h(x)))\n",
    "    \n",
    "fungsi = Fungsi()\n",
    "fungsi.komposisi(1)"
   ]
  },
  {
   "cell_type": "markdown",
   "metadata": {},
   "source": [
    "**Analisis Komparasi dari Ketiga Pendekatan di Atas**\n",
    "\n",
    "1. Pemrograman Prosedural:\\\n",
    "   Kelebihan:\n",
    "     - Mudah dipahami dan diimplementasikan.\n",
    "     - Memiliki struktur yang berurutan, linear dan langsung sehingga memudahkan pengguna dalam melacak langkah-langkah program\n",
    "\n",
    "   Kekurangan:\n",
    "     - Tidak terlalu fleksibel ketika terdapat masalah dengan kompleksitas yang tinggi.\n",
    "     - Sulit untuk diubah atau dikembangkan tanpa mengganggu keseluruhan struktur program.\n",
    "\n",
    "2. Pemrograman Fungsional dengan Lambda:\\\n",
    "   Kelebihan:\n",
    "     - Penulisan kodenya lebih ringkas.\n",
    "     - Cocok untuk pemrosesan data yang berbasis fungsi.\n",
    "\n",
    "   Kekurangan:\n",
    "     - Sulit untuk memelihara kode dan melacak kode ketika terjadi kesalahan\n",
    "     - Lambat dalam kinerja karena penggunaan lambda yang dapat menggunakan memori secara berulang.\n",
    "\n",
    "3. Pemrograman Berbasis Objek:\\\n",
    "   Kelebihan:\n",
    "     - Kode lebih rapi dan terorganisir dengan dibagi menjadi bagian-bagian kecil (lebih modular), sehingga dapat memudahkan pemeliharaan kode untuk ke depannya.\n",
    "     - Dapat digunakan kembali (reuseable)\n",
    "\n",
    "   Kekurangan:\n",
    "     - Waktu komputasi atau runtime program lebih lambat.\n",
    "     - Memerlukan lebih banyak kode dibandingkan dengan pendekatan fungsional.\n",
    "\n",
    "Kesimpulan:\\\n",
    "Pemilihan pendekatan tergantung dari seberapa kompleks masalahnya, kecepatan komputasi, pemeliharaan kode, dan tentunya preferensi programmer.\n",
    "Pemrograman prosedural cocok untuk masalah yang sederhana, sementara pemrograman fungsional dengan lambda cocok untuk pemrosesan data, dan pemrograman berbasis objek cocok untuk masalah yang lebih kompleks."
   ]
  },
  {
   "cell_type": "code",
   "execution_count": 123,
   "metadata": {},
   "outputs": [
    {
     "name": "stdout",
     "output_type": "stream",
     "text": [
      "Waktu komputasi Pemrograman Berbasis Objek: 0.08437430000049062\n",
      "Waktu komputasi Pemrograman Berbasis Fungsi: 0.07789069999125786\n"
     ]
    }
   ],
   "source": [
    "#Pemrograman Berbasis Objek\n",
    "class Segitiga:\n",
    "    def __init__(self, alas, tinggi):\n",
    "        self.alas = alas\n",
    "        self.tinggi = tinggi\n",
    "    def luas(self):\n",
    "        return 0.5*self.alas*self.tinggi\n",
    "segitiga = Segitiga(3, 4)\n",
    "segitiga.luas()\n",
    "\n",
    "#Pemrograman Berbasis Fungsi\n",
    "luas_segitiga = lambda alas, tinggi: 0.5*alas*tinggi\n",
    "luas_segitiga(3, 4)\n",
    "\n",
    "#Membandingkan kecepatan komputasi dari kedua pendekatan di atas\n",
    "import timeit\n",
    "\n",
    "#Pemrograman Berbasis Objek\n",
    "print(f\"Waktu komputasi Pemrograman Berbasis Objek: {timeit.timeit('segitiga.luas()', setup=\"from __main__ import Segitiga, segitiga\")}\")\n",
    "\n",
    "#Pemrograman Berbasis Fungsi\n",
    "print(f\"Waktu komputasi Pemrograman Berbasis Fungsi: {timeit.timeit('luas_segitiga(3, 4)', setup=\"from __main__ import luas_segitiga\")}\")\n",
    "\n",
    "#Dapat disimpulkan bahwa, pendekatan pemrograman berbasis fungsi lebih cepat komputasinya, karena tidak perlu membuat objek baru untuk mengoperasikan fungsi."
   ]
  },
  {
   "cell_type": "code",
   "execution_count": 124,
   "metadata": {},
   "outputs": [
    {
     "name": "stdout",
     "output_type": "stream",
     "text": [
      "None\n"
     ]
    }
   ],
   "source": [
    "#Pemrograman Prosedural\n",
    "def f(x):\n",
    "    return x - 2**x\n",
    "\n",
    "def bisection(a, b, tol):\n",
    "    if f(a)*f(b) > 0:\n",
    "        return\n",
    "    while (b-a)/2 > tol:\n",
    "        x2 = (a+b)/2\n",
    "        if f(x2) == 0:\n",
    "            return(x2)\n",
    "        elif f(a)*f(x2) < 0:\n",
    "            b = x2\n",
    "        else:\n",
    "            a = x2\n",
    "    return (a+b)/2\n",
    "\n",
    "print(bisection(0, 1, 10**-5))"
   ]
  },
  {
   "cell_type": "code",
   "execution_count": 125,
   "metadata": {},
   "outputs": [
    {
     "name": "stdout",
     "output_type": "stream",
     "text": [
      "None\n"
     ]
    }
   ],
   "source": [
    "#Pemrograman Fungsional\n",
    "f = lambda x: x - 2**x\n",
    "bisection = lambda a, b, tol: (a+b)/2 if (b-a) <= tol else bisection(a, (a+b)/2, tol) if f(a)*f((a+b)/2) < 0 else bisection((a+b)/2, b, tol) if f(b)*f((a+b)/2) < 0 else None\n",
    "\n",
    "print(bisection(0, 1, 10**-5))\n"
   ]
  }
 ],
 "metadata": {
  "kernelspec": {
   "display_name": "Python 3",
   "language": "python",
   "name": "python3"
  },
  "language_info": {
   "codemirror_mode": {
    "name": "ipython",
    "version": 3
   },
   "file_extension": ".py",
   "mimetype": "text/x-python",
   "name": "python",
   "nbconvert_exporter": "python",
   "pygments_lexer": "ipython3",
   "version": "3.12.2"
  }
 },
 "nbformat": 4,
 "nbformat_minor": 2
}

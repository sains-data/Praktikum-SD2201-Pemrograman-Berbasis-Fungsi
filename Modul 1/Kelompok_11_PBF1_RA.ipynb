{
  "nbformat": 4,
  "nbformat_minor": 0,
  "metadata": {
    "colab": {
      "provenance": []
    },
    "kernelspec": {
      "name": "python3",
      "display_name": "Python 3"
    },
    "language_info": {
      "name": "python"
    }
  },
  "cells": [
    {
      "cell_type": "code",
      "execution_count": 1,
      "metadata": {
        "colab": {
          "base_uri": "https://localhost:8080/"
        },
        "id": "xkcAI97jo--a",
        "outputId": "72af1714-d1c4-4ee8-bdee-e6c482af7234"
      },
      "outputs": [
        {
          "output_type": "execute_result",
          "data": {
            "text/plain": [
              "259"
            ]
          },
          "metadata": {},
          "execution_count": 1
        }
      ],
      "source": [
        "def f(x):\n",
        "  return 4*x\n",
        "def g(x):\n",
        "  return x*x\n",
        "def h(x):\n",
        "  return 3+x\n",
        "\n",
        "# composition\n",
        "h(g(f(4)))"
      ]
    },
    {
      "cell_type": "code",
      "source": [
        "def compose(f1,f2):\n",
        "  return lambda v: f1(f2(v))\n",
        "hgf = compose(h, compose(g,f))\n",
        "hgf(3)"
      ],
      "metadata": {
        "colab": {
          "base_uri": "https://localhost:8080/"
        },
        "id": "25VpOXgmqFil",
        "outputId": "35b4b10a-9a5c-4b11-bc6c-5dcda574daca"
      },
      "execution_count": 3,
      "outputs": [
        {
          "output_type": "execute_result",
          "data": {
            "text/plain": [
              "147"
            ]
          },
          "metadata": {},
          "execution_count": 3
        }
      ]
    },
    {
      "cell_type": "code",
      "source": [
        "class Value:\n",
        " def __init__(self, value):\n",
        "   self.value = value\n",
        " # `value >> func`\n",
        " def __rshift__(self, other):\n",
        "  return other(self.value)\n",
        "def f(x):\n",
        " return Value(4*x)\n",
        "def g(x):\n",
        " return Value(x * x)\n",
        "def h(x):\n",
        " return Value(3 + x)\n",
        "# this is known as \"continuation passing\" style\n",
        "# evaluate this, then apply that value\n",
        "result = Value(3) >> f >> g >> h\n",
        "result.value\n"
      ],
      "metadata": {
        "colab": {
          "base_uri": "https://localhost:8080/"
        },
        "id": "iJQiBaY4qjmi",
        "outputId": "88939819-d901-45d6-ae99-bc9de12d6df8"
      },
      "execution_count": 7,
      "outputs": [
        {
          "output_type": "execute_result",
          "data": {
            "text/plain": [
              "147"
            ]
          },
          "metadata": {},
          "execution_count": 7
        }
      ]
    },
    {
      "cell_type": "code",
      "source": [
        "import time\n",
        "st = time.time()\n",
        "\n",
        "class Sides:\n",
        " def __init__(self,a, b, c):\n",
        "  self.a = a\n",
        "  self.b = b\n",
        "  self.c = c\n",
        "\n",
        "class A(Sides):\n",
        " def area(self):\n",
        "   s = (self.a * self.b * self.c)/2\n",
        "   return s\n",
        "t = A(2,3,4)\n",
        "print(\"area of Triangle : {}\".format(t.area()))\n",
        "et = time.time()\n",
        "elapsed_time = et - st\n",
        "print('Execution time:', elapsed_time, 'seconds')"
      ],
      "metadata": {
        "colab": {
          "base_uri": "https://localhost:8080/"
        },
        "id": "_J6fnaFprQSD",
        "outputId": "e5b8fed7-619f-483c-870e-b2ada1686e66"
      },
      "execution_count": 12,
      "outputs": [
        {
          "output_type": "stream",
          "name": "stdout",
          "text": [
            "area of Triangle : 12.0\n",
            "Execution time: 0.001626729965209961 seconds\n"
          ]
        }
      ]
    },
    {
      "cell_type": "code",
      "source": [
        "import time\n",
        "st=time.time()\n",
        "sg= lambda a,b,c: (a*b*c)/2\n",
        "sg(2,3,4)\n",
        "\n",
        "et =time.time()\n",
        "elapsed_time=et-st\n",
        "print('execution time:', elapsed_time, 'seconds')"
      ],
      "metadata": {
        "colab": {
          "base_uri": "https://localhost:8080/"
        },
        "id": "wkV0gbW8uWp2",
        "outputId": "777d277e-472d-4c1b-c9db-e2201f8a8f8c"
      },
      "execution_count": 15,
      "outputs": [
        {
          "output_type": "stream",
          "name": "stdout",
          "text": [
            "execution time: 0.00016021728515625 seconds\n"
          ]
        }
      ]
    },
    {
      "cell_type": "code",
      "source": [
        "#defining fungction\n",
        "def f(x):\n",
        "  return x-2**-x\n",
        "\n",
        "#implementasi bisection method\n",
        "def bisection (x0,x1,e):\n",
        "  step=1\n",
        "  print('\\n\\n***BISECTION METHOD IMPLEMENTATION***')\n",
        "  condition =True\n",
        "  while condition:\n",
        "    x2  = (x0+x1)/2\n",
        "    print('iteration-%d, x2=%0.6f and f(x2)=%0.6f'  %(step, x2, f(x2)))\n",
        "\n",
        "    if f(x0)*f(x2)  < 0:\n",
        "      x1 = x2\n",
        "    else:\n",
        "      x0 =  x2\n",
        "    step = step +1\n",
        "    condition = abs(f(x2))> e\n",
        "  print('\\nRequired Root is : %0.8f' %x2)\n",
        "#input section\n",
        "x0= 0.01\n",
        "x1= 1\n",
        "e = 1e-5\n",
        "\n",
        "#checking corretness of initial guess value and bisection\n",
        "if f(x0)*f(x1)>0.0:\n",
        "  print('given guess values do not bracket the roor')\n",
        "  print(' try again with different guess value.')\n",
        "else:\n",
        "  bisection(x0,x1,e)\n",
        "\n"
      ],
      "metadata": {
        "colab": {
          "base_uri": "https://localhost:8080/"
        },
        "id": "a1ZmrDGztd1R",
        "outputId": "d5f53c02-324b-4b84-c536-ef3e8af9bcde"
      },
      "execution_count": 21,
      "outputs": [
        {
          "output_type": "stream",
          "name": "stdout",
          "text": [
            "\n",
            "\n",
            "***BISECTION METHOD IMPLEMENTATION***\n",
            "iteration-1, x2=0.505000 and f(x2)=-0.199660\n",
            "iteration-2, x2=0.752500 and f(x2)=0.158926\n",
            "iteration-3, x2=0.628750 and f(x2)=-0.017987\n",
            "iteration-4, x2=0.690625 and f(x2)=0.071040\n",
            "iteration-5, x2=0.659687 and f(x2)=0.026672\n",
            "iteration-6, x2=0.644219 and f(x2)=0.004380\n",
            "iteration-7, x2=0.636484 and f(x2)=-0.006794\n",
            "iteration-8, x2=0.640352 and f(x2)=-0.001205\n",
            "iteration-9, x2=0.642285 and f(x2)=0.001588\n",
            "iteration-10, x2=0.641318 and f(x2)=0.000192\n",
            "iteration-11, x2=0.640835 and f(x2)=-0.000507\n",
            "iteration-12, x2=0.641077 and f(x2)=-0.000158\n",
            "iteration-13, x2=0.641198 and f(x2)=0.000017\n",
            "iteration-14, x2=0.641137 and f(x2)=-0.000070\n",
            "iteration-15, x2=0.641167 and f(x2)=-0.000027\n",
            "iteration-16, x2=0.641182 and f(x2)=-0.000005\n",
            "\n",
            "Required Root is : 0.64118240\n"
          ]
        }
      ]
    },
    {
      "cell_type": "code",
      "source": [
        "print ('\\tBisection Method')\n",
        "a=0\n",
        "b=3\n",
        "for i in range(8):\n",
        "  print(\"-------------------iteration\", i+1,\"------------------\")\n",
        "  print()\n",
        "  print('a=',a)\n",
        "  print('b=',b)\n",
        "  x=(a+b)/2\n",
        "  print('x=x', x)\n",
        "  fa=2*a-5 # give function here\n",
        "  print('fa=', fa)\n",
        "  fb = 2*b - 5# Give the function here.\n",
        "  print('fb= ', fb)\n",
        "  fx = 2*x - 5# Give the function here.\n",
        "  print('fx= ', fx)\n",
        "  print()\n",
        "  if (fa < 0 and fx < 0) or (fa > 0 and fx > 0):\n",
        "    a = x\n",
        "  else:\n",
        "    b = x\n"
      ],
      "metadata": {
        "colab": {
          "base_uri": "https://localhost:8080/"
        },
        "id": "R04k50DLyecq",
        "outputId": "9294f2ca-d423-42f0-fd83-da06ece605e3"
      },
      "execution_count": 26,
      "outputs": [
        {
          "output_type": "stream",
          "name": "stdout",
          "text": [
            "\tBisection Method\n",
            "-------------------iteration 1 ------------------\n",
            "\n",
            "a= 0\n",
            "b= 3\n",
            "x=x 1.5\n",
            "fa= -5\n",
            "fb=  1\n",
            "fx=  -2.0\n",
            "\n",
            "-------------------iteration 2 ------------------\n",
            "\n",
            "a= 1.5\n",
            "b= 3\n",
            "x=x 2.25\n",
            "fa= -2.0\n",
            "fb=  1\n",
            "fx=  -0.5\n",
            "\n",
            "-------------------iteration 3 ------------------\n",
            "\n",
            "a= 2.25\n",
            "b= 3\n",
            "x=x 2.625\n",
            "fa= -0.5\n",
            "fb=  1\n",
            "fx=  0.25\n",
            "\n",
            "-------------------iteration 4 ------------------\n",
            "\n",
            "a= 2.25\n",
            "b= 2.625\n",
            "x=x 2.4375\n",
            "fa= -0.5\n",
            "fb=  0.25\n",
            "fx=  -0.125\n",
            "\n",
            "-------------------iteration 5 ------------------\n",
            "\n",
            "a= 2.4375\n",
            "b= 2.625\n",
            "x=x 2.53125\n",
            "fa= -0.125\n",
            "fb=  0.25\n",
            "fx=  0.0625\n",
            "\n",
            "-------------------iteration 6 ------------------\n",
            "\n",
            "a= 2.4375\n",
            "b= 2.53125\n",
            "x=x 2.484375\n",
            "fa= -0.125\n",
            "fb=  0.0625\n",
            "fx=  -0.03125\n",
            "\n",
            "-------------------iteration 7 ------------------\n",
            "\n",
            "a= 2.484375\n",
            "b= 2.53125\n",
            "x=x 2.5078125\n",
            "fa= -0.03125\n",
            "fb=  0.0625\n",
            "fx=  0.015625\n",
            "\n",
            "-------------------iteration 8 ------------------\n",
            "\n",
            "a= 2.484375\n",
            "b= 2.5078125\n",
            "x=x 2.49609375\n",
            "fa= -0.03125\n",
            "fb=  0.015625\n",
            "fx=  -0.0078125\n",
            "\n"
          ]
        }
      ]
    },
    {
      "cell_type": "code",
      "source": [],
      "metadata": {
        "id": "dn6_n9lPyp1g"
      },
      "execution_count": null,
      "outputs": []
    }
  ]
}
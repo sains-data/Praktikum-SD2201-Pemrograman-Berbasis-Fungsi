{
  "nbformat": 4,
  "nbformat_minor": 0,
  "metadata": {
    "colab": {
      "provenance": []
    },
    "kernelspec": {
      "name": "python3",
      "display_name": "Python 3"
    },
    "language_info": {
      "name": "python"
    }
  },
  "cells": [
    {
      "cell_type": "markdown",
      "source": [
        "Nama Kelompok:\n",
        "1. OKTAVIA NURWINDA PUSPITASARI - 122450041\n",
        "2. MUTIARA DIAN PITALOKA - 122450047\n",
        "3. SYADZA PUSPADARI AZHAR - 122450072\n",
        "4. KAYLA AMANDA SUKMA - 122450086\n",
        "5. MUHAMMAD WAFI RAIHAN - 122450144"
      ],
      "metadata": {
        "id": "8A4UHGXzEfAW"
      }
    },
    {
      "cell_type": "markdown",
      "source": [
        "# Tugas Kelompok\n",
        "1. Buatlah fungsi komposisi dengan nilai f(x) = (4^x), g(x) = (x^x) dan h(x) = 3+x dengan pemrograman  prosedural 3 fungsi dan pemrograman fungsional dengan lambda"
      ],
      "metadata": {
        "id": "QKu3XKyP98I_"
      }
    },
    {
      "cell_type": "markdown",
      "source": [
        "Prosedural:"
      ],
      "metadata": {
        "id": "LY5JqhY5-AVU"
      }
    },
    {
      "cell_type": "code",
      "execution_count": 2,
      "metadata": {
        "colab": {
          "base_uri": "https://localhost:8080/"
        },
        "id": "JJAdAAkc8jdU",
        "outputId": "d4e95fb7-1f19-4667-8e2d-409a186a0d6c"
      },
      "outputs": [
        {
          "output_type": "stream",
          "name": "stdout",
          "text": [
            "259\n"
          ]
        }
      ],
      "source": [
        "def f(x):\n",
        "  return 4**x\n",
        "\n",
        "def g(x):\n",
        "  return x**2\n",
        "\n",
        "def h(x):\n",
        "  return 3 + x\n",
        "\n",
        "def komposisi(x):\n",
        "  return h(g(f(x)))\n",
        "\n",
        "print(komposisi(2))"
      ]
    },
    {
      "cell_type": "markdown",
      "source": [
        "Fungsional:"
      ],
      "metadata": {
        "id": "hrSo8ngu-nJ4"
      }
    },
    {
      "cell_type": "code",
      "source": [
        "f = lambda x: 4**x\n",
        "g = lambda x: x**2\n",
        "h = lambda x: 3 + x\n",
        "komposisi = lambda x: h(g(f(x)))\n",
        "\n",
        "print(komposisi(2))"
      ],
      "metadata": {
        "colab": {
          "base_uri": "https://localhost:8080/"
        },
        "id": "jZm3XlRz-lSd",
        "outputId": "12ed609e-c622-45f9-893c-0498f22c59c7"
      },
      "execution_count": 3,
      "outputs": [
        {
          "output_type": "stream",
          "name": "stdout",
          "text": [
            "259\n"
          ]
        }
      ]
    },
    {
      "cell_type": "markdown",
      "source": [
        "2. Pemrograman Berorientasi Objek:"
      ],
      "metadata": {
        "id": "5T1xLteP-H1I"
      }
    },
    {
      "cell_type": "code",
      "source": [
        "class Fungsi:\n",
        "  def __init__(self):\n",
        "    pass\n",
        "\n",
        "  def f(self, x):\n",
        "    return 4 ** x\n",
        "\n",
        "  def g(self, x):\n",
        "    return x ** 2\n",
        "\n",
        "  def h(self, x):\n",
        "    return 3 + x\n",
        "\n",
        "  def komposisi(self, x):\n",
        "    return self.h(self.g(self.f(x)))\n",
        "\n",
        "F = Fungsi()\n",
        "print(F.komposisi(2))"
      ],
      "metadata": {
        "colab": {
          "base_uri": "https://localhost:8080/"
        },
        "id": "Au6eGQkI-GR_",
        "outputId": "377a2292-159f-4ae4-a9ac-aaf79ea31b9e"
      },
      "execution_count": 13,
      "outputs": [
        {
          "output_type": "stream",
          "name": "stdout",
          "text": [
            "259\n"
          ]
        }
      ]
    },
    {
      "cell_type": "markdown",
      "source": [
        "\n",
        "3. Analisis Komparasi:\n",
        " * Prosedural: kode secara keseluruhan lebih mudah dipahami, namun baris yang digunakan lebih panjang/banyak.\n",
        " * Fungsional: kode lebih ringkas karena hanya perlu satu baris saja untuk membuat satu fungsi, akan tetapi hanya bisa memiliki satu isi atau ekspresi.\n",
        " * OOP: lebih modular dan dapat digunakan secara berulang, tapi kode lebih rumit dan kompleks."
      ],
      "metadata": {
        "id": "2QWCKamA_sJL"
      }
    },
    {
      "cell_type": "markdown",
      "source": [
        "4. Luas Segitiga:\n",
        "\n",
        "Prosedural:"
      ],
      "metadata": {
        "id": "5oYIEH47_x9A"
      }
    },
    {
      "cell_type": "code",
      "source": [
        "def luas_segitiga(alas, tinggi):\n",
        "  return (alas * tinggi) / 2\n",
        "\n",
        "print(luas_segitiga(5, 4))"
      ],
      "metadata": {
        "colab": {
          "base_uri": "https://localhost:8080/"
        },
        "id": "L9zp_fxc_qdg",
        "outputId": "405f55dd-d13f-46b4-c029-a697efaf80ff"
      },
      "execution_count": 18,
      "outputs": [
        {
          "output_type": "stream",
          "name": "stdout",
          "text": [
            "10.0\n"
          ]
        }
      ]
    },
    {
      "cell_type": "markdown",
      "source": [
        "Fungsional:"
      ],
      "metadata": {
        "id": "JLpMEva4_7-g"
      }
    },
    {
      "cell_type": "code",
      "source": [
        "luas_segitiga = lambda alas, tinggi: (alas * tinggi) / 2\n",
        "\n",
        "print(luas_segitiga(5, 4))"
      ],
      "metadata": {
        "colab": {
          "base_uri": "https://localhost:8080/"
        },
        "id": "NmZl7gxr_5td",
        "outputId": "bb40d683-d102-470d-a4b4-8a1ce2ff6d95"
      },
      "execution_count": 19,
      "outputs": [
        {
          "output_type": "stream",
          "name": "stdout",
          "text": [
            "10.0\n"
          ]
        }
      ]
    },
    {
      "cell_type": "markdown",
      "source": [
        "Perbandingan Kecepatan:\n",
        " * Prosedural dan fungsional memiliki kecepatan yang sama."
      ],
      "metadata": {
        "id": "2pGVs8bpADYq"
      }
    },
    {
      "cell_type": "markdown",
      "source": [
        "5. Algoritma Metode Bisection:\n",
        "\n",
        "Prosedural:"
      ],
      "metadata": {
        "id": "joY5blyjAMPc"
      }
    },
    {
      "cell_type": "code",
      "source": [
        "def metode_bisection(f, a, b, tol):\n",
        "  x0 = a\n",
        "  x1 = b\n",
        "  while abs(x1 - x0) > tol:\n",
        "    x2 = (x0 + x1) / 2\n",
        "    if f(x0) * f(x2) < 0:\n",
        "      x0 = x2\n",
        "    else:\n",
        "      x1 = x2\n",
        "  return (x0 + x1) / 2\n",
        "\n",
        "def f(x):\n",
        "  return x - 2**x\n",
        "\n",
        "a = 0.1\n",
        "b = 0.9\n",
        "tol = 1e-5\n",
        "\n",
        "akar = metode_bisection(f, a, b, tol)\n",
        "\n",
        "print(akar)"
      ],
      "metadata": {
        "colab": {
          "base_uri": "https://localhost:8080/"
        },
        "id": "Zry4HPVgAEIH",
        "outputId": "943edee9-06ab-4309-f782-1b03dbfa2c82"
      },
      "execution_count": 16,
      "outputs": [
        {
          "output_type": "stream",
          "name": "stdout",
          "text": [
            "0.1000030517578125\n"
          ]
        }
      ]
    },
    {
      "cell_type": "markdown",
      "source": [
        "Fungsional:"
      ],
      "metadata": {
        "id": "NWI2gf3NAUMF"
      }
    },
    {
      "cell_type": "code",
      "source": [
        "from math import log2\n",
        "\n",
        "def metode_bisection(f, a, b, tol):\n",
        "  x0 = a\n",
        "  x1 = b\n",
        "  while abs(x1 - x0) > tol:\n",
        "    x2 = (x0 + x1) / 2\n",
        "    if f(x0) * f(x2) < 0:\n",
        "      x0 = x2\n",
        "    else:\n",
        "      x1 = x2\n",
        "  return (x0 + x1) / 2\n",
        "\n",
        "def f(x):\n",
        "  return x - 2**x\n",
        "\n",
        "a = 0.1\n",
        "b = 0.9\n",
        "tol = 1e-5\n",
        "\n",
        "akar = metode_bisection(f, a, b, tol)\n",
        "\n",
        "print(akar)"
      ],
      "metadata": {
        "colab": {
          "base_uri": "https://localhost:8080/"
        },
        "id": "XK0RPlHFAUoO",
        "outputId": "bdd87969-a8e9-41b7-e012-ab5ec48367a6"
      },
      "execution_count": 17,
      "outputs": [
        {
          "output_type": "stream",
          "name": "stdout",
          "text": [
            "0.1000030517578125\n"
          ]
        }
      ]
    },
    {
      "cell_type": "markdown",
      "source": [
        "Perbandingan Kecepatan:\n",
        " * algoritma bisection dengan metode prosedural dan fungsional memiliki kecepatan yang sama.\n"
      ],
      "metadata": {
        "id": "sKNF5s4bAb1a"
      }
    }
  ]
}

{
  "nbformat": 4,
  "nbformat_minor": 0,
  "metadata": {
    "colab": {
      "provenance": []
    },
    "kernelspec": {
      "name": "python3",
      "display_name": "Python 3"
    },
    "language_info": {
      "name": "python"
    }
  },
  "cells": [
    {
      "cell_type": "markdown",
      "source": [
        "# Tugas Kelompok 1 Prak. PBF RA\n",
        "\n",
        "Anggota Kelompok 1 PBF:\n",
        "- Dhea Amelia Putri - 122450004\n",
        "- Khoirul Mizan Abdullah - 122450010\n",
        "- Jeremia Susanto - 122450022\n",
        "- Ibrahim Al-Kahfi - 122450100\n",
        "- Nabila Zakiyah Zahra - 122450139\n",
        "\n",
        "Tugas Jurnal Kelompok (Tahun 2023)\n",
        "1. Buatlah fungsi komposisi dengan nilai f(x) = 4^x, g(x) = x^x, dan h(x) = 3 + x dengan pemrograman prosedural tiga fungsi dan pemrograman fungsional dengan lambda.\n",
        "2. Buatlah pemrograman berbasis objek pada soal no.1\n",
        "3. Berikan Analisis Komparasi soal 1 dan 2\n",
        "4. Buatlah satu penyelesaian Luas Segitiga dengan menggunakan Pemrograman berorientasi Objek dan Pemrograman berbasis Fungsi. uji dengan membandingkan mana yang tercepat komputasinya.\n",
        "\n",
        "Special Soal 5: Diberikan Algoritma Metode Bisection berikut:\n",
        "1. start\n",
        "2. Define function f(x)\n",
        "3. Choose initial guesses x0 and x1 such that f(x0)f(x1) < 0\n",
        "4. Choose pre-specified tolerable error e.\n",
        "5. Calculate new approximated root as x2 = (x0 + x1)/2\n",
        "6. Calculate f(x0)f(x2)\n",
        "   a. if f(x0)f(x2) < 0 then x0 = x0 and x1 = x2\n",
        "   b. if f(x0)f(x2) > 0 then x0 = x2 and x1 = x1\n",
        "   c. if f(x0)f(x2) = 0 then goto (8)\n",
        "7. if |f(x2)| > e then goto (5) otherwise goto (8)\n",
        "8. Display x2 as root\n",
        "9. Stop\n",
        "\n",
        "Buatlah prosedural programming dari persoalan di atas dan ubahlah dengan functional programming. lakukan dengan batas toleransi 10^-5. dengan fungsi yang diberikan sebagai berikut: x - 2^x dan nilai a dan b adalah di antara 0 dan 1 (nilai antara tidak boleh 0 dan 1).\n",
        "\n"
      ],
      "metadata": {
        "id": "WNFK6VJQ5yJe"
      }
    },
    {
      "cell_type": "markdown",
      "source": [
        "## **No. 1 Pemrograman prosedural Tiga Fungsi**"
      ],
      "metadata": {
        "id": "c4UEhB2y6kvA"
      }
    },
    {
      "cell_type": "code",
      "execution_count": 7,
      "metadata": {
        "colab": {
          "base_uri": "https://localhost:8080/"
        },
        "id": "HormiKKr5nKd",
        "outputId": "3e4b14c6-f755-4b29-e310-df34127a0cef"
      },
      "outputs": [
        {
          "output_type": "stream",
          "name": "stdout",
          "text": [
            "Hasil komposisi h(g(f(4))): 259\n"
          ]
        }
      ],
      "source": [
        "# Mendefinisikan fungsi f(x)\n",
        "def f(x):\n",
        "    return 4*x\n",
        "\n",
        "# Mendefinisikan fungsi g(x)\n",
        "def g(x):\n",
        "    return x*x\n",
        "\n",
        "# Mendefinisikan fungsi h(x)\n",
        "def h(x):\n",
        "    return 3+x\n",
        "\n",
        "# Menghitung komposisi dari fungsi-fungsi f, g, dan h dengan input 4\n",
        "result = h(g(f(4)))\n",
        "\n",
        "# Menampilkan hasil komposisi\n",
        "print(\"Hasil komposisi h(g(f(4))):\", result)"
      ]
    },
    {
      "cell_type": "markdown",
      "source": [
        "## **No. 2 Pemrograman Fungsional dengan Lambda**"
      ],
      "metadata": {
        "id": "czZZAo9RAqjR"
      }
    },
    {
      "cell_type": "code",
      "source": [
        "# Mendefinisikan fungsi komposisi yang menggabungkan dua fungsi\n",
        "def compose(f1, f2):\n",
        "    # Mengembalikan fungsi lambda yang menjalankan f1 terhadap f2\n",
        "    return lambda v: f1(f2(v).value) if isinstance(f2(v), Value) else f1(f2(v))\n",
        "\n",
        "# Menggabungkan fungsi h dengan komposisi g dan f\n",
        "hgf = compose(h, compose(g, f))\n",
        "\n",
        "# Memanggil fungsi hgf dengan argumen 3\n",
        "result = hgf(3)\n",
        "\n",
        "# Menampilkan hasil\n",
        "print(\"Hasil komposisi hgf(3):\", result.value)"
      ],
      "metadata": {
        "colab": {
          "base_uri": "https://localhost:8080/"
        },
        "id": "ZABaVshi_GEj",
        "outputId": "ebbf779a-f04b-40c8-be87-dba3e1a8a55b"
      },
      "execution_count": 17,
      "outputs": [
        {
          "output_type": "stream",
          "name": "stdout",
          "text": [
            "Hasil komposisi hgf(3): 147\n"
          ]
        }
      ]
    },
    {
      "cell_type": "markdown",
      "source": [
        "## **No. 3 Pemrograman Berbasis Objek**"
      ],
      "metadata": {
        "id": "eXTP1RpXD1ra"
      }
    },
    {
      "cell_type": "code",
      "source": [
        "# Membuat sebuah kelas bernama Value\n",
        "class Value:\n",
        "   # Mendefinisikan fungsi untuk menginisialisasi objek dengan nilai tertentu\n",
        "   def __init__(self, value):\n",
        "      self.value = value\n",
        "\n",
        "   # Fungsi ini akan dijalankan ketika operator '>>' digunakan dari kanan ke kiri (right shift)\n",
        "   # Mengembalikan hasil dari operasi fungsi lain terhadap nilai yang dimiliki oleh objek\n",
        "   def __rshift__(self, other):\n",
        "      return other(self.value)\n",
        "\n",
        "# Mendefinisikan fungsi f(x) yang mengembalikan objek Value dengan nilai 4*x\n",
        "def f(x):\n",
        "   return Value(4*x)\n",
        "\n",
        "# Mendefinisikan fungsi g(x) yang mengembalikan objek Value dengan nilai x * x\n",
        "def g(x):\n",
        "   return Value(x * x)\n",
        "\n",
        "# Mendefinisikan fungsi h(x) yang mengembalikan objek Value dengan nilai 3 + x\n",
        "def h(x):\n",
        "   return Value(3 + x)\n",
        "\n",
        "# Menerapkan \"continuation passing\" style, yaitu mengevaluasi lalu menerapkan nilai tersebut\n",
        "# Melakukan operasi fungsi secara berurutan: f, g, h terhadap objek Value yang memiliki nilai 3\n",
        "result = Value(3) >> f >> g >> h\n",
        "\n",
        "# Mengakses nilai dari hasil operasi yang telah dilakukan\n",
        "result_value = result.value\n",
        "\n",
        "# Menampilkan hasil\n",
        "print(\"Hasil komposisi Value(3) >> f >> g >> h:\", result_value)"
      ],
      "metadata": {
        "colab": {
          "base_uri": "https://localhost:8080/"
        },
        "id": "HJWpeS5EDQkt",
        "outputId": "82270e5b-a9ec-4f63-8bd2-451200e245fe"
      },
      "execution_count": 12,
      "outputs": [
        {
          "output_type": "stream",
          "name": "stdout",
          "text": [
            "Hasil komposisi Value(3) >> f >> g >> h: 147\n"
          ]
        }
      ]
    },
    {
      "cell_type": "markdown",
      "source": [
        "## **No. 4 Analisis Komparasi**"
      ],
      "metadata": {
        "id": "yyIuZqDfFnKx"
      }
    },
    {
      "cell_type": "markdown",
      "source": [
        "**Analisis Komparasi:**\n",
        "\n",
        "**Pendekatan Prosedural:** Lebih gampang dipahami karena pakai cara yang umum dengan memisah-misahkan fungsi. Kekurangannya sih agak terbatas aja jika kita perlu gabung-gabung fungsi yang lebih ribet.\n",
        "\n",
        "**Pendekatan Fungsional (Lambda):** Lebih simpel dan langsung to the point dengan fungsi lambda, cocok untuk kasus-kasus yang sederhana. Kekurangannya sedikit bisa ngebuat kepala pusing kalau belum terbiasa menggunakan fungsi lambda dan fungsi tingkat tinggi.\n",
        "\n",
        "**Pendekatan Berbasis Objek:** Lebih fleksibel dan bisa dipakai berulang-ulang dengan gampang. Cocok untuk situasi di mana kita perlu ngebuat komposisi fungsi dalam berbagai situasi. Pemrogramannya lebih kompleks, tapi bisa memberi kerangka kerja yang lebih bagus untuk kode yang besar dan kompleks."
      ],
      "metadata": {
        "id": "2MkDzP_nGSsZ"
      }
    },
    {
      "cell_type": "markdown",
      "source": [
        "## **No. 5 Penyelesaian Luas Segitiga dan Pembandingan Kecepatan Komputasi**"
      ],
      "metadata": {
        "id": "cZJ-ZzfbHCax"
      }
    },
    {
      "cell_type": "markdown",
      "source": [
        "### Pemrograman Berorientasi Objek"
      ],
      "metadata": {
        "id": "ohHPbV3gHtZ0"
      }
    },
    {
      "cell_type": "code",
      "source": [
        "class Segitiga:\n",
        "    def __init__(self, alas, tinggi):\n",
        "        self.alas = alas\n",
        "        self.tinggi = tinggi\n",
        "\n",
        "    def hitung_luas(self):\n",
        "        return 0.5 * self.alas * self.tinggi\n",
        "\n",
        "# Membuat objek segitiga\n",
        "segitiga_oop = Segitiga(5, 8)\n",
        "\n",
        "# Menghitung luas segitiga menggunakan metode pemrograman berorientasi objek\n",
        "luas_oop = segitiga_oop.hitung_luas()\n",
        "\n",
        "# Menampilkan hasil\n",
        "print(\"Luas segitiga dengan pendekatan OOP:\", luas_oop)"
      ],
      "metadata": {
        "id": "XaqcBcVIHyQV",
        "outputId": "c6330cf6-631a-4c62-faad-94e73ff954e6",
        "colab": {
          "base_uri": "https://localhost:8080/"
        }
      },
      "execution_count": 21,
      "outputs": [
        {
          "output_type": "stream",
          "name": "stdout",
          "text": [
            "Luas segitiga dengan pendekatan OOP: 20.0\n"
          ]
        }
      ]
    },
    {
      "cell_type": "markdown",
      "source": [
        "### Pemrograman Berbasis Fungsi"
      ],
      "metadata": {
        "id": "vJEyWLH1H8ia"
      }
    },
    {
      "cell_type": "code",
      "source": [
        "def hitung_luas_segitiga(alas, tinggi):\n",
        "    return 0.5 * alas * tinggi\n",
        "\n",
        "# Menghitung luas segitiga menggunakan metode pemrograman berbasis fungsi\n",
        "luas_fungsional = hitung_luas_segitiga(5, 8)\n",
        "\n",
        "# Menampilkan hasilnya\n",
        "print(\"Luas segitiga dengan pendekatan Fungsional:\", luas_fungsional)"
      ],
      "metadata": {
        "id": "9_Uf3k19IAp4",
        "outputId": "9b654adf-add5-42a5-869c-d1b44a487053",
        "colab": {
          "base_uri": "https://localhost:8080/"
        }
      },
      "execution_count": 20,
      "outputs": [
        {
          "output_type": "stream",
          "name": "stdout",
          "text": [
            "Luas segitiga dengan pendekatan Fungsional: 20.0\n"
          ]
        }
      ]
    },
    {
      "cell_type": "markdown",
      "source": [
        "### Mengukur Kecepatan Komputasi dengan Menggunakan Modul timeit"
      ],
      "metadata": {
        "id": "uQaUn2BkI3V1"
      }
    },
    {
      "cell_type": "code",
      "source": [
        "import timeit\n",
        "\n",
        "# Membuat setup untuk timeit\n",
        "# Masukkan setup oop\n",
        "setup_oop = '''\n",
        "class Segitiga:\n",
        "    def __init__(self, alas, tinggi):\n",
        "        self.alas = alas\n",
        "        self.tinggi = tinggi\n",
        "\n",
        "    def hitung_luas(self):\n",
        "        return 0.5 * self.alas * self.tinggi\n",
        "\n",
        "segitiga_oop = Segitiga(5, 8)\n",
        "'''\n",
        "\n",
        "# Masukkan setup fungsional\n",
        "setup_fungsional = '''\n",
        "def hitung_luas_segitiga(alas, tinggi):\n",
        "    return 0.5 * alas * tinggi\n",
        "'''\n",
        "\n",
        "# Mengukur waktu eksekusi untuk pendekatan OOP\n",
        "time_oop = timeit.timeit(stmt='segitiga_oop.hitung_luas()', setup=setup_oop, number=1000000)\n",
        "\n",
        "# Mengukur waktu eksekusi untuk pendekatan Fungsional\n",
        "time_fungsional = timeit.timeit(stmt='hitung_luas_segitiga(5, 8)', setup=setup_fungsional, number=1000000)\n",
        "\n",
        "print(\"Waktu eksekusi pendekatan OOP:\", time_oop)\n",
        "print(\"Waktu eksekusi pendekatan Fungsional:\", time_fungsional)"
      ],
      "metadata": {
        "id": "2zE7EuXaI3vT",
        "outputId": "cf5a2f9e-ddfa-4149-db7c-626d08de2f1c",
        "colab": {
          "base_uri": "https://localhost:8080/"
        }
      },
      "execution_count": 27,
      "outputs": [
        {
          "output_type": "stream",
          "name": "stdout",
          "text": [
            "Waktu eksekusi pendekatan OOP: 0.18249657299975297\n",
            "Waktu eksekusi pendekatan Fungsional: 0.14494073800005935\n"
          ]
        }
      ]
    },
    {
      "cell_type": "markdown",
      "source": [
        "### **Kesimpulan**\n",
        "\n",
        "Dari hasil pengujian menggunakan modul timeit, terlihat bahwa pendekatan berbasis fungsi (Fungsional) menunjukkan waktu eksekusi yang lebih cepat dibandingkan dengan pendekatan berorientasi objek (OOP) dalam menghitung luas segitiga. Ini menunjukkan bahwa dalam kasus ini, penggunaan fungsi sederhana untuk melakukan perhitungan lebih efisien secara waktu. Namun, perlu diingat bahwa kecepatan eksekusi tidak selalu menjadi satu-satunya pertimbangan dalam memilih pendekatan. Kepastian, kejelasan, dan kemudahan pemeliharaan kode juga merupakan faktor penting yang perlu dipertimbangkan dalam pengembangan perangkat lunak."
      ],
      "metadata": {
        "id": "BKPs65Z8KbcY"
      }
    }
  ]
}
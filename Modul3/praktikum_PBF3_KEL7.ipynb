{
  "nbformat": 4,
  "nbformat_minor": 0,
  "metadata": {
    "colab": {
      "provenance": []
    },
    "kernelspec": {
      "name": "python3",
      "display_name": "Python 3"
    },
    "language_info": {
      "name": "python"
    }
  },
  "cells": [
    {
      "cell_type": "code",
      "execution_count": null,
      "metadata": {
        "id": "MDiXImzxtcIn"
      },
      "outputs": [],
      "source": [
        "from functools import reduce\n",
        "\n",
        "def mean(data):\n",
        "    return sum(data) / len(data)\n",
        "\n",
        "def variance(data):\n",
        "    mu = mean(data)\n",
        "    return reduce(lambda acc, x: acc + (x - mu) ** 2, data) / (len(data) - 1)\n",
        "\n",
        "def standard_deviation(data):\n",
        "    return variance(data) ** 0.5\n"
      ]
    },
    {
      "cell_type": "code",
      "source": [
        "data = []\n",
        "n = int(input(\"Masukkan jumlah nilai: \"))\n",
        "for i in range(n):\n",
        "    data.append(int(input(f\"Masukkan nilai ke-{i + 1}: \")))\n",
        "\n",
        "print(f\"Data: {data}\")\n",
        "\n",
        "print(f\"Rata-rata: {mean(data)}\")\n",
        "print(f\"Varians: {variance(data)}\")\n",
        "print(f\"Simpangan Baku: {standard_deviation(data)}\")"
      ],
      "metadata": {
        "colab": {
          "base_uri": "https://localhost:8080/"
        },
        "id": "sF7OayvlxC92",
        "outputId": "21cbbaa5-9044-4a72-96bd-6d7285689c0c"
      },
      "execution_count": null,
      "outputs": [
        {
          "output_type": "stream",
          "name": "stdout",
          "text": [
            "Masukkan jumlah nilai: 10\n",
            "Masukkan nilai ke-1: 1\n",
            "Masukkan nilai ke-2: 2\n",
            "Masukkan nilai ke-3: 3\n",
            "Masukkan nilai ke-4: 4\n",
            "Masukkan nilai ke-5: 5\n",
            "Masukkan nilai ke-6: 6\n",
            "Masukkan nilai ke-7: 7\n",
            "Masukkan nilai ke-8: 8\n",
            "Masukkan nilai ke-9: 9\n",
            "Masukkan nilai ke-10: 10\n",
            "Data: [1, 2, 3, 4, 5, 6, 7, 8, 9, 10]\n",
            "Rata-rata: 5.5\n",
            "Varians: 7.027777777777778\n",
            "Simpangan Baku: 2.650995620097811\n"
          ]
        }
      ]
    }
  ]
}
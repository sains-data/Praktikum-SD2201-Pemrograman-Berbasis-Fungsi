{
  "nbformat": 4,
  "nbformat_minor": 0,
  "metadata": {
    "colab": {
      "provenance": []
    },
    "kernelspec": {
      "name": "python3",
      "display_name": "Python 3"
    },
    "language_info": {
      "name": "python"
    }
  },
  "cells": [
    {
      "cell_type": "markdown",
      "source": [
        "# Tugas Kelompok Praktikum PBF 1\n",
        "\n",
        "Kelompok 3"
      ],
      "metadata": {
        "id": "VjTB3ggIBIwI"
      }
    },
    {
      "cell_type": "markdown",
      "source": [
        "## Nomor 1\n",
        "\n",
        "Buatlah fungsi komposisi dengan nilai  f(x)=4x,g(x)=xx  dan  h(x)=3+x  dengan pemrograman prosedural tiga fungsi dan pemrograman fungsional dengan lambda.   \n",
        "\n",
        "Jawaban:"
      ],
      "metadata": {
        "id": "DL6aSMDdBP7O"
      }
    },
    {
      "cell_type": "markdown",
      "source": [
        "### a. Pemrograman prosedural tiga fungsi"
      ],
      "metadata": {
        "id": "IXV3cCBcFvnk"
      }
    },
    {
      "cell_type": "code",
      "source": [
        "# Mendefinisikan fungsi eksponensial 4^x\n",
        "def f(x):\n",
        "    return 4**x\n",
        "\n",
        "# Mendefinisikan fungsi kuadrat x^2\n",
        "def g(x):\n",
        "    return x*x\n",
        "\n",
        "# Mendefinisikan fungsi linear 3 + x\n",
        "def h(x):\n",
        "    return 3+x\n",
        "\n",
        "# Mendefinisikan fungsi komposisi f(g(h(x)))\n",
        "def komposisi(x):\n",
        "    return h(g(f(x)))\n",
        "\n",
        "# Meminta input nilai x dari user\n",
        "masukan = input((\"Masukan nilai x: \"))\n",
        "x = float(masukan)\n",
        "\n",
        "# Menghitung hasil\n",
        "hasil = komposisi(x)\n",
        "\n",
        "#Menampilkan hasil kepada user\n",
        "print(f\"Hasil komposisi h(g(f({masukan})))\", hasil)"
      ],
      "metadata": {
        "colab": {
          "base_uri": "https://localhost:8080/"
        },
        "id": "ULPL1I7xBHIG",
        "outputId": "4fc3bbe5-44a2-4a93-eba4-8df52cd238ce"
      },
      "execution_count": 58,
      "outputs": [
        {
          "output_type": "stream",
          "name": "stdout",
          "text": [
            "Masukan nilai x: 2\n",
            "Hasil komposisi h(g(f(2))) 259.0\n"
          ]
        }
      ]
    },
    {
      "cell_type": "markdown",
      "source": [
        "### b. Pemrograman fungsional lambda"
      ],
      "metadata": {
        "id": "ucTP_OxVFyBI"
      }
    },
    {
      "cell_type": "code",
      "source": [
        "#Definisi fungsi sebagai fungsi lambda\n",
        "f = lambda x: 4**x\n",
        "g = lambda x: x**2\n",
        "h = lambda x: 3 + x\n",
        "komposisi = lambda x: h(g(f(x)))\n",
        "\n",
        "#Menampilkan hasil pad auser\n",
        "print(\"Hasil koposisi: \", komposisi(2))"
      ],
      "metadata": {
        "colab": {
          "base_uri": "https://localhost:8080/"
        },
        "id": "-7R1LWiOfpKx",
        "outputId": "b1f617f6-fe22-42da-fca6-888162f6a675"
      },
      "execution_count": 64,
      "outputs": [
        {
          "output_type": "stream",
          "name": "stdout",
          "text": [
            "Hasil koposisi:  259\n"
          ]
        }
      ]
    },
    {
      "cell_type": "markdown",
      "source": [
        "### Nomor 2\n",
        "pemrograman berbasis objek pada soal no.1"
      ],
      "metadata": {
        "id": "y6hlcacTbdvP"
      }
    },
    {
      "cell_type": "code",
      "source": [
        "#Membuat kelas value\n",
        "class Value:\n",
        "    def __init__(self, value):\n",
        "        self.value = value\n",
        "\n",
        "    def __rshift__(self, other):\n",
        "        return other(self.value)\n",
        "\n",
        "#Definisi fungsi\n",
        "def f(x):\n",
        "    return Value(4**x)\n",
        "def g(x):\n",
        "    return Value(x * x)\n",
        "\n",
        "def h(x):\n",
        "    return Value(3 + x)\n",
        "\n",
        "#Mencetak hasil\n",
        "hasil = Value(2) >> f >> g >> h\n",
        "print(\"Hasil komposisi: \", hasil.value)"
      ],
      "metadata": {
        "id": "f98WdgiSFD8V",
        "colab": {
          "base_uri": "https://localhost:8080/"
        },
        "outputId": "ee8818c9-01fb-4395-c7e2-86dd4465b2ad"
      },
      "execution_count": 63,
      "outputs": [
        {
          "output_type": "stream",
          "name": "stdout",
          "text": [
            "Hasil komposisi:  259\n"
          ]
        }
      ]
    },
    {
      "cell_type": "markdown",
      "source": [
        "## Nomor 3\n",
        "\n",
        "Analisis Komparasi:    \n",
        "Prosedural: lebih mudah dipahami, tapi kode lebih panjang.   \n",
        "Fungsional: lebih ringkas, tapi mungkin lebih sulit dipahami.    \n",
        "OOP: lebih modular dan reusable, tapi kode lebih kompleks.    \n"
      ],
      "metadata": {
        "id": "15hgp48uh1mC"
      }
    },
    {
      "cell_type": "markdown",
      "source": [
        "## Nomor 4\n",
        "Buatlah satu penyelesaian Luas Segitiga dengan menggunakan Pemrograman berorientasi Objek dan Pemrograman berbasis Fungsi. uji dengan membandingkan mana yang tercepat komputasinya"
      ],
      "metadata": {
        "id": "W6QYJoWfc7Ff"
      }
    },
    {
      "cell_type": "code",
      "source": [
        "#Rumus segitiga\n",
        "import time\n",
        "st = time.time()\n",
        "\n",
        "def luas_segitiga(panjang,lebar,tinggi):\n",
        "    return (panjang*lebar*tinggi)/2\n",
        "luas_segitiga(2,3,4)\n",
        "\n",
        "et = time.time()\n",
        "elapsed_time = et - st\n",
        "print('Running time:', elapsed_time, 'seconds')"
      ],
      "metadata": {
        "colab": {
          "base_uri": "https://localhost:8080/"
        },
        "id": "Jt82haw7cBDO",
        "outputId": "381b2f99-45ff-4a96-fe97-7fbf46438c02"
      },
      "execution_count": 66,
      "outputs": [
        {
          "output_type": "stream",
          "name": "stdout",
          "text": [
            "Running time: 0.000244140625 seconds\n"
          ]
        }
      ]
    },
    {
      "cell_type": "code",
      "source": [
        "#Prosedural\n",
        "import time\n",
        "st = time.time()\n",
        "\n",
        "class Sides:\n",
        "    def __init__(self,a, b, c):\n",
        "        self.a = a\n",
        "        self.b = b\n",
        "        self.c = c\n",
        "\n",
        "class A(Sides):\n",
        "    def area(self):\n",
        "        s = (self.a * self.b * self.c)/2\n",
        "        return s\n",
        "\n",
        "t = A(2,3,4)\n",
        "\n",
        "print(\"Luas segitiga : {}\".format(t.area()))\n",
        "et = time.time()\n",
        "elapsed_time = et - st\n",
        "print('Running time:', elapsed_time, 'seconds')"
      ],
      "metadata": {
        "colab": {
          "base_uri": "https://localhost:8080/"
        },
        "id": "oLhW3_6kcLyg",
        "outputId": "1cbf40f9-cb38-496d-ad18-649424645cab"
      },
      "execution_count": 39,
      "outputs": [
        {
          "output_type": "stream",
          "name": "stdout",
          "text": [
            "area of Triangle : 12.0\n",
            "Execution time: 0.002192258834838867 seconds\n"
          ]
        }
      ]
    },
    {
      "cell_type": "code",
      "source": [
        "#Fungsional\n",
        "import time\n",
        "st = time.time()\n",
        "sg = lambda a,b,c: (a*b*c)/2\n",
        "sg(2,3,4)\n",
        "\n",
        "et = time.time()\n",
        "elapsed_time = et - st\n",
        "print('Running time:', elapsed_time, 'seconds')"
      ],
      "metadata": {
        "colab": {
          "base_uri": "https://localhost:8080/"
        },
        "id": "Rg0ceQkwcMSK",
        "outputId": "1de9e09e-2db7-4046-cd77-36a9690b5642"
      },
      "execution_count": 40,
      "outputs": [
        {
          "output_type": "stream",
          "name": "stdout",
          "text": [
            "Execution time: 0.00012826919555664062 seconds\n"
          ]
        }
      ]
    },
    {
      "cell_type": "markdown",
      "source": [
        "Kesimpulan :    \n",
        "Prosedural dan fungsional memiliki kecepatan yang sama. Namun cara fungsional lebih cepat daripada prosedural\n"
      ],
      "metadata": {
        "id": "_L8jx9QbizfF"
      }
    },
    {
      "cell_type": "markdown",
      "source": [
        "## Nomor 5\n",
        "\n",
        " Diberikan Algoritma Metode Bisection berikut:   \n",
        "\n",
        "1. start  \n",
        "2. Define function f(x)  \n",
        "3. Choose initial guesses x0 and x1 such that f(x0)f(x1) < 0  \n",
        "4. Choose pre-specified tolerable error e.  \n",
        "5. Calculate new approximated root as x2 = (x0 + x1)/2    \n",
        "6. Calculate f(x0)f(x2) a. if f(x0)f(x2) < 0 then x0 = x0 and x1 = x2 b. if f(x0)f(x2) > 0 then x0 = x2 and x1 = x1 c. if f(x0)f(x2) = 0 then goto (8)   \n",
        "7. if |f(x2)| > e then goto (5) otherwise goto (8)  \n",
        "8. Display x2 as root.  \n",
        "9. Stop"
      ],
      "metadata": {
        "id": "RJRPwZ5xiMb3"
      }
    },
    {
      "cell_type": "code",
      "source": [
        "# Mendefinisikan fungsi\n",
        "def f(x):\n",
        "    return x-2**-x\n",
        "\n",
        "def bisection(x0,x1,e):\n",
        "    step = 1\n",
        "    print('\\n\\n*** BISECTION METHOD IMPLEMENTATION ***')\n",
        "    condition = True\n",
        "    while condition:\n",
        "        x2 = (x0 + x1)/2\n",
        "        print('Iteration-%d, x2 = %0.6f and f(x2) = %0.6f' % (step, x2, f(x2)))\n",
        "\n",
        "        if f(x0) * f(x2) < 0:\n",
        "            x1 = x2\n",
        "        else:\n",
        "            x0 = x2\n",
        "\n",
        "        step = step + 1\n",
        "        condition = abs(f(x2)) > e\n",
        "\n",
        "    print('\\nRoot yang diperlukan adalah: %0.8f' % x2)\n",
        "\n",
        "x0 = 0.01\n",
        "x1 = 1\n",
        "e = 1e-5\n",
        "\n",
        "if f(x0) * f(x1) > 0.0:\n",
        "    print('Silakan coba lagi.')\n",
        "else:\n",
        "    bisection(x0,x1,e)"
      ],
      "metadata": {
        "colab": {
          "base_uri": "https://localhost:8080/"
        },
        "id": "qXV5Ft9acOnw",
        "outputId": "4fc6f0c1-541c-40b2-e4a4-d3bbcfdf2103"
      },
      "execution_count": 65,
      "outputs": [
        {
          "output_type": "stream",
          "name": "stdout",
          "text": [
            "\n",
            "\n",
            "*** BISECTION METHOD IMPLEMENTATION ***\n",
            "Iteration-1, x2 = 0.505000 and f(x2) = -0.199660\n",
            "Iteration-2, x2 = 0.752500 and f(x2) = 0.158926\n",
            "Iteration-3, x2 = 0.628750 and f(x2) = -0.017987\n",
            "Iteration-4, x2 = 0.690625 and f(x2) = 0.071040\n",
            "Iteration-5, x2 = 0.659687 and f(x2) = 0.026672\n",
            "Iteration-6, x2 = 0.644219 and f(x2) = 0.004380\n",
            "Iteration-7, x2 = 0.636484 and f(x2) = -0.006794\n",
            "Iteration-8, x2 = 0.640352 and f(x2) = -0.001205\n",
            "Iteration-9, x2 = 0.642285 and f(x2) = 0.001588\n",
            "Iteration-10, x2 = 0.641318 and f(x2) = 0.000192\n",
            "Iteration-11, x2 = 0.640835 and f(x2) = -0.000507\n",
            "Iteration-12, x2 = 0.641077 and f(x2) = -0.000158\n",
            "Iteration-13, x2 = 0.641198 and f(x2) = 0.000017\n",
            "Iteration-14, x2 = 0.641137 and f(x2) = -0.000070\n",
            "Iteration-15, x2 = 0.641167 and f(x2) = -0.000027\n",
            "Iteration-16, x2 = 0.641182 and f(x2) = -0.000005\n",
            "\n",
            "Root yang diperlukan adalah: 0.64118240\n"
          ]
        }
      ]
    },
    {
      "cell_type": "code",
      "source": [
        "print('\\tBISECTION METHOD')\n",
        "a=0\n",
        "b=3\n",
        "for i in range(8):\n",
        "    print('------------Iteration',i+1,'--------------------------')\n",
        "    print()\n",
        "    print('a= ', a)\n",
        "    print('b= ', b)\n",
        "    x = (a + b) / 2\n",
        "    print('x= ', x)\n",
        "    fa = 2*a - 5\n",
        "    print('fa= ', fa)\n",
        "    fb = 2*b - 5\n",
        "    print('fb= ', fb)\n",
        "    fx = 2*x - 5\n",
        "    print('fx= ', fx)\n",
        "    print()\n",
        "    if (fa < 0 and fx < 0) or (fa > 0 and fx > 0):\n",
        "        a = x\n",
        "    else:\n",
        "        b = x"
      ],
      "metadata": {
        "colab": {
          "base_uri": "https://localhost:8080/"
        },
        "id": "pQCFhpSycaRr",
        "outputId": "4d97a2de-3666-4e94-e0fd-21a7d9181a64"
      },
      "execution_count": 42,
      "outputs": [
        {
          "output_type": "stream",
          "name": "stdout",
          "text": [
            "\tBISECTION METHOD\n",
            "------------Iteration 1 --------------------------\n",
            "\n",
            "a=  0\n",
            "b=  3\n",
            "x=  1.5\n",
            "fa=  -5\n",
            "fb=  1\n",
            "fx=  -2.0\n",
            "\n",
            "------------Iteration 2 --------------------------\n",
            "\n",
            "a=  1.5\n",
            "b=  3\n",
            "x=  2.25\n",
            "fa=  -2.0\n",
            "fb=  1\n",
            "fx=  -0.5\n",
            "\n",
            "------------Iteration 3 --------------------------\n",
            "\n",
            "a=  2.25\n",
            "b=  3\n",
            "x=  2.625\n",
            "fa=  -0.5\n",
            "fb=  1\n",
            "fx=  0.25\n",
            "\n",
            "------------Iteration 4 --------------------------\n",
            "\n",
            "a=  2.25\n",
            "b=  2.625\n",
            "x=  2.4375\n",
            "fa=  -0.5\n",
            "fb=  0.25\n",
            "fx=  -0.125\n",
            "\n",
            "------------Iteration 5 --------------------------\n",
            "\n",
            "a=  2.4375\n",
            "b=  2.625\n",
            "x=  2.53125\n",
            "fa=  -0.125\n",
            "fb=  0.25\n",
            "fx=  0.0625\n",
            "\n",
            "------------Iteration 6 --------------------------\n",
            "\n",
            "a=  2.4375\n",
            "b=  2.53125\n",
            "x=  2.484375\n",
            "fa=  -0.125\n",
            "fb=  0.0625\n",
            "fx=  -0.03125\n",
            "\n",
            "------------Iteration 7 --------------------------\n",
            "\n",
            "a=  2.484375\n",
            "b=  2.53125\n",
            "x=  2.5078125\n",
            "fa=  -0.03125\n",
            "fb=  0.0625\n",
            "fx=  0.015625\n",
            "\n",
            "------------Iteration 8 --------------------------\n",
            "\n",
            "a=  2.484375\n",
            "b=  2.5078125\n",
            "x=  2.49609375\n",
            "fa=  -0.03125\n",
            "fb=  0.015625\n",
            "fx=  -0.0078125\n",
            "\n"
          ]
        }
      ]
    }
  ]
}
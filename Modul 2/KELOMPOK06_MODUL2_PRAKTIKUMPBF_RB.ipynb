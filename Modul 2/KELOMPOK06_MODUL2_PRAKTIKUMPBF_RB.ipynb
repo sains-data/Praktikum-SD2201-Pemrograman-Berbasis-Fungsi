{
  "nbformat": 4,
  "nbformat_minor": 0,
  "metadata": {
    "colab": {
      "provenance": []
    },
    "kernelspec": {
      "name": "python3",
      "display_name": "Python 3"
    },
    "language_info": {
      "name": "python"
    }
  },
  "cells": [
    {
      "cell_type": "markdown",
      "source": [
        "KEKOMPOK 6\n",
        "1. OKTAVIA NURWINDA PUSPITASARI - 122450041\n",
        "2. MUTIARA DIAN PITALOKA - 122450047\n",
        "3. SYADZA PUSPADARI AZHAR - 122450072\n",
        "4. KAYLA AMANDA SUKMA - 122450086\n",
        "5. MUHAMMAD WAFI RAIHAN - 122450144"
      ],
      "metadata": {
        "id": "EvDXjWbkPSY2"
      }
    },
    {
      "cell_type": "code",
      "source": [
        "# Data yang digunakan\n",
        "data = [\n",
        "    {'Nama': 'Joko', 'Usia': 20},\n",
        "    {'Nama': 'Kael', 'Usia': 23},\n",
        "    {'Nama': 'Anwar', 'Usia': 25},\n",
        "    {'Nama': 'Siti', 'Usia': 19},\n",
        "    {'Nama': 'Anisa', 'Usia': 18},\n",
        "]\n",
        "\n",
        "# Kriteria yang akan diurutkan\n",
        "kriteria_nama = 'Nama'\n",
        "kriteria_usia = 'Usia'\n",
        "\n",
        "# Mendefinisikan fungsi untuk pengurutan data\n",
        "def urutkan_data(data, kriteria):\n",
        "    return sorted(data, key=lambda x: x[kriteria])\n",
        "\n",
        "# Menggunakan map serta lambda untuk pengaplikasiaan pengurutan data\n",
        "hasil_urutan_nama = list(map(lambda x: urutkan_data(data, x), [kriteria_nama]))\n",
        "hasil_urutan_usia = list(map(lambda x: urutkan_data(data, x), [kriteria_usia]))\n",
        "\n",
        "# Menampilkan hasil output\n",
        "print(\"Hasil urutan berdasarkan nama:\", hasil_urutan_nama[0])\n",
        "print(\"Hasil urutan berdasarkan usia:\", hasil_urutan_usia[0])\n"
      ],
      "metadata": {
        "colab": {
          "base_uri": "https://localhost:8080/"
        },
        "id": "O7ZMEX8AaNvu",
        "outputId": "15db3c54-f636-4636-8998-57512a5fbec8"
      },
      "execution_count": null,
      "outputs": [
        {
          "output_type": "stream",
          "name": "stdout",
          "text": [
            "Hasil urutan berdasarkan nama: [{'Nama': 'Anisa', 'Usia': 18}, {'Nama': 'Anwar', 'Usia': 25}, {'Nama': 'Joko', 'Usia': 20}, {'Nama': 'Kael', 'Usia': 23}, {'Nama': 'Siti', 'Usia': 19}]\n",
            "Hasil urutan berdasarkan usia: [{'Nama': 'Anisa', 'Usia': 18}, {'Nama': 'Siti', 'Usia': 19}, {'Nama': 'Joko', 'Usia': 20}, {'Nama': 'Kael', 'Usia': 23}, {'Nama': 'Anwar', 'Usia': 25}]\n"
          ]
        }
      ]
    }
  ]
}

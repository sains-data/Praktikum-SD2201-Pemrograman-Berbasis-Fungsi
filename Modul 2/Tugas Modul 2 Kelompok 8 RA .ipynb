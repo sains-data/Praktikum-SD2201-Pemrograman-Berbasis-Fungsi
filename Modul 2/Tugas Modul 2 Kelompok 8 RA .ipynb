{
 "cells": [
  {
   "cell_type": "code",
   "execution_count": 92,
   "metadata": {},
   "outputs": [
    {
     "name": "stdout",
     "output_type": "stream",
     "text": [
      "SELAMAT DATANG DI APLIKASI PEMBERSIH DATA\n",
      "=========================================\n",
      "Pilih Fitur Pembersih Data:\n",
      "1. Menghapus spasi lebih\n",
      "2. Mengkonversi tulisan menjadi huruf kecil\n",
      "3. Menghapus karakter non-alphanumerik\n",
      "4. Keluar\n",
      "Kalimat sebelum perubahan : asdfasd      asdfasdf        asdfasd\n",
      "Kalimat setelah perubahan : asdfasd asdfasdf asdfasd\n",
      "=========================================\n",
      "Pilih Fitur Pembersih Data:\n",
      "1. Menghapus spasi lebih\n",
      "2. Mengkonversi tulisan menjadi huruf kecil\n",
      "3. Menghapus karakter non-alphanumerik\n",
      "4. Keluar\n",
      "Kalimat sebelum perubahan : ADFASDF  asdfasdfsad    asdfasdf SADFA\n",
      "Kalimat setelah perubahan : adfasdf asdfasdfsad asdfasdf sadfa\n",
      "=========================================\n",
      "Pilih Fitur Pembersih Data:\n",
      "1. Menghapus spasi lebih\n",
      "2. Mengkonversi tulisan menjadi huruf kecil\n",
      "3. Menghapus karakter non-alphanumerik\n",
      "4. Keluar\n",
      "Kalimat sebelum perubahan : asdfasdf#$*&$ aslfdsfnd83430*)&#$@\n",
      "Kalimat setelah perubahan : asdfasdf aslfdsfnd83430\n",
      "=========================================\n",
      "Pilih Fitur Pembersih Data:\n",
      "1. Menghapus spasi lebih\n",
      "2. Mengkonversi tulisan menjadi huruf kecil\n",
      "3. Menghapus karakter non-alphanumerik\n",
      "4. Keluar\n",
      "Terima Kasih!\n"
     ]
    }
   ],
   "source": [
    "#APLIKASI PEMBERSIH DATA\n",
    "#Kelompok 8 RA\n",
    "def aplikasi_pembersih_data():\n",
    "    #menghapus spasi berlebih\n",
    "    def hapus_spasi_lebih(data):\n",
    "        hapus_spasi = map(lambda x: x.strip(), data.split()) # memecah kalimat menjadi beberapa kata, lalu menghpaus spasi yang berlebih\n",
    "        return ' '.join(hapus_spasi) # mengembalikkan tiap kata menjadi kalimat utuh\n",
    "    \n",
    "    def konversi_tulisan_ke_huruf_kecil(data):\n",
    "        konversi_tulisan = map(lambda x: x.lower(), data.split()) #mememecah kalimat menjadi beberapa kata lalu tiap kata diubah menjadi huruf kecil semua\n",
    "        return ' '.join(konversi_tulisan) # mengembalikkan tiap kata menjadi kalimat utuh\n",
    "    \n",
    "    def hapus_nonalphanumerik(data):\n",
    "        hapus_nonalphanumerik = map(lambda x: ''.join(filter(str.isalnum, x)), data.split()) # memecah kalimat menjadi beberapa kata lalu tiap kata akan dicek apakah terdapat nonalpahnumerik\n",
    "        return ' '.join(hapus_nonalphanumerik)# mengembalikkan tiap kata menjadi menjadi kalimat utuh\n",
    "    #PROSES JALAN APLIKASI\n",
    "    print(\"SELAMAT DATANG DI APLIKASI PEMBERSIH DATA\")\n",
    "    print(\"=========================================\")\n",
    "    while True:\n",
    "        print(\"\"\"Pilih Fitur Pembersih Data:\n",
    "1. Menghapus spasi lebih\n",
    "2. Mengkonversi tulisan menjadi huruf kecil\n",
    "3. Menghapus karakter non-alphanumerik\n",
    "4. Keluar\"\"\")\n",
    "        input_user = int(input(\"Masukkan Pilihan: \"))\n",
    "        if input_user==4:\n",
    "            print(\"Terima Kasih!\")\n",
    "            break\n",
    "        input_kata = input(\"Masukkan kata : \")\n",
    "        if input_user==1:\n",
    "            hasil = hapus_spasi_lebih(input_kata)\n",
    "            print(f\"Kalimat sebelum perubahan : {input_kata}\")\n",
    "            print(f\"Kalimat setelah perubahan : {hasil}\")\n",
    "            print(\"=========================================\")\n",
    "        elif input_user==2:\n",
    "            hasil = konversi_tulisan_ke_huruf_kecil(input_kata)\n",
    "            print(f\"Kalimat sebelum perubahan : {input_kata}\")\n",
    "            print(f\"Kalimat setelah perubahan : {hasil}\")\n",
    "            print(\"=========================================\")\n",
    "        elif input_user==3:\n",
    "            hasil = hapus_nonalphanumerik(input_kata)\n",
    "            print(f\"Kalimat sebelum perubahan : {input_kata}\")\n",
    "            print(f\"Kalimat setelah perubahan : {hasil}\")\n",
    "            print(\"=========================================\")\n",
    "aplikasi_pembersih_data()# memanggil aplikasi"
   ]
  }
 ],
 "metadata": {
  "kernelspec": {
   "display_name": "Python 3",
   "language": "python",
   "name": "python3"
  },
  "language_info": {
   "codemirror_mode": {
    "name": "ipython",
    "version": 3
   },
   "file_extension": ".py",
   "mimetype": "text/x-python",
   "name": "python",
   "nbconvert_exporter": "python",
   "pygments_lexer": "ipython3",
   "version": "3.11.5"
  }
 },
 "nbformat": 4,
 "nbformat_minor": 2
}

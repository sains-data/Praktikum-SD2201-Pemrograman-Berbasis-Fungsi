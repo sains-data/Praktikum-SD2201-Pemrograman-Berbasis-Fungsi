{
  "nbformat": 4,
  "nbformat_minor": 0,
  "metadata": {
    "colab": {
      "provenance": []
    },
    "kernelspec": {
      "name": "python3",
      "display_name": "Python 3"
    },
    "language_info": {
      "name": "python"
    }
  },
  "cells": [
    {
      "cell_type": "markdown",
      "source": [
        "Anggota Kelompok 9:\n",
        "\n",
        "*  122450007_MUHAMMAD BAYU SYUHADA(RA)\n",
        "*  122450019 _ANISA FITRIYANI(RA)\n",
        "*  122450028 _UKASYAH MUNTAHA(RA)\n",
        "*  122450043 _JOHANNES KRISJON SILITONGA(RA)\n",
        "*  122450115 _SMERTNIKI JAVID AHMEDTHIAN(RA)\n",
        "\n"
      ],
      "metadata": {
        "id": "y4uuxdG1LDED"
      }
    },
    {
      "cell_type": "markdown",
      "source": [
        "# Buatlah fungsi komposisi dengan nilai f(x) = (4^x), g(x) = (x^x) dan h(x) = 3+x dengan pemrograman prosedural 3 fungsi dan pemrograman fungsional dengan lambda"
      ],
      "metadata": {
        "id": "Fr--z4XsOq1X"
      }
    },
    {
      "cell_type": "code",
      "execution_count": 1,
      "metadata": {
        "id": "nHIYoYHXKzWN",
        "colab": {
          "base_uri": "https://localhost:8080/"
        },
        "outputId": "f881ebe8-e6ba-4ca8-cf73-41ca835e41d3"
      },
      "outputs": [
        {
          "output_type": "stream",
          "name": "stdout",
          "text": [
            "Masukan nilai x : 2\n",
            "Hasil :  2738248761316017572742348936950010448551572158231779371511420498138539276297788309394191354517654433778305760249669055018654345038982960283040173260517312916290707801820674504366871632600804887963367337263522497825292336532140913808410030791539345419424032061850694542711196274001481398359789911818130649888463151791752429780547244641193312608638152999722631211840673827646616997262935164407810027909383249609045265422952174035491456768893888496923961830419221696465348280014055438553165447953246393547267908926735736893878246590624064523380774652728053757996417828938554196482295448971165496475437853387095634190399912509837356933670123261396478811191241421262493034193313021183420956181216717081868545513920021942580642796112558632389903266880666949210343989829365024474105599321362078321074638405091811240017997510533388875174033541343506776468179253992429037400216227010510981451940845736527038397421672469179155341784115474317896179501263356203326473302831475871635062518572068608761953174215709163510862454592893723775386427499438400294202336786154386609347634745375233076466505495806172092060594145963921181228307048477883816255817344716719634854129222601062360116788810639458446723330064225308353743906876465406644382408619382301724036817398756799298738170782278569658071633306237014715950374153723813558136622846483152909449741391381399776793638349889957165775278429275453407870615300019214044913567652886299492793737053811573216763858783936753122909415990826965860042906636995995036650971826579439450668265147929149343544753413556427163350892776854789102396987172517128962352485156201061670562094756205191570461642458688689506275096417062443317935980620073192797175444117282095687099957030761660644180614070821947348042170423675095783453097990299074095898225321797495260055964103872883081899874454355208544861277083817218702152903385728058864916087114646485217773956890624\n"
          ]
        }
      ],
      "source": [
        "#fungsi komposisi f(x)\n",
        "def f(x):\n",
        "    return 4 ** x\n",
        "\n",
        "#fungsi komposisi g(x)\n",
        "def g(x):\n",
        "    return x ** x\n",
        "\n",
        "#fungsi komposisi h(x)\n",
        "def h(x):\n",
        "    return 3 + x\n",
        "\n",
        "#fungsi prosedural\n",
        "def prosedural(x):\n",
        "    return f(g(h(x)))\n",
        "\n",
        "#meminta inputan x lalu menjalankan hasil prosedural\n",
        "try:\n",
        "  hasil = int(input(\"Masukan nilai x : \"))\n",
        "  print(\"Hasil : \", prosedural(hasil))\n",
        "except ValueError:\n",
        "    print(\"Input yang Anda masukkan bukan bilangan bulat. Silakan masukkan bilangan bulat.\")"
      ]
    },
    {
      "cell_type": "markdown",
      "source": [
        "Kode di atas menunjukkan penggunaan kata kunci def untuk mendefinisikan fungsi f(x), g(x), dan h(x), serta persamaan matematika seperti 4^x, x^x, dan 3 + x.\n",
        "\n",
        "Fungsi-fungsi tersebut menunjukkan persamaan matematika yang berbeda, seperti f(x) untuk menghitung x pangkat 4, g(x) untuk menghitung x pangkat x, dan h(x) untuk menambahkan 3 ke nilai x."
      ],
      "metadata": {
        "id": "HxsLajW6LTUs"
      }
    },
    {
      "cell_type": "code",
      "source": [
        "f = lambda x: 4 ** x #fungsi lambda f(x)\n",
        "g = lambda x: x ** x #fungsi lambda g(x)\n",
        "h = lambda x: 3 + x #fungsi lambda h(x)\n",
        "\n",
        "fungsi_lambda = lambda x: f(g(h(x))) #fungsi lambda\n",
        "\n",
        "#meminta inputan x lalu menjalankan hasil\n",
        "try:\n",
        "  hasil = int(input(\"Masukan nilai x : \"))\n",
        "  print(\"Hasil : \", fungsi_lambda(hasil))\n",
        "except ValueError:\n",
        "    print(\"Input yang Anda masukkan bukan bilangan bulat. Silakan masukkan bilangan bulat.\")"
      ],
      "metadata": {
        "id": "8LC6a4RXLXEm"
      },
      "execution_count": null,
      "outputs": []
    },
    {
      "cell_type": "markdown",
      "source": [
        "**Pemrograman fungsional** (fungsi lambda) merupakan metode di mana fungsi lambda digunakan untuk mendefinisikan suatu fungsi. Dalam konteks ini, tidak perlu menggunakan pernyataan return, dan pengimplementasian fungsi ini bersifat singkat, hanya memerlukan beberapa baris kode dibandingkan dengan pemrograman prosedural."
      ],
      "metadata": {
        "id": "dFt7PtUILaRR"
      }
    },
    {
      "cell_type": "markdown",
      "source": [
        "# 2. Pemrograman Berbasis Objek"
      ],
      "metadata": {
        "id": "IU4_yNQ1LrzZ"
      }
    },
    {
      "cell_type": "code",
      "source": [
        "#kelas untuk fungsi komposisi menggunakan OOP\n",
        "class FungsiKomposisi:\n",
        "    def __init__(self):\n",
        "        pass\n",
        "\n",
        "    def f(self, x): #fungsi komposisi f(x)\n",
        "        return 4 ** x\n",
        "\n",
        "    def g(self, x): #fungsi komposisi g(x)\n",
        "        return x ** x\n",
        "\n",
        "    def h(self, x): #fungsi komposisi h(x)\n",
        "        return 3 + x\n",
        "\n",
        "    def prosedural(x): #fungsi prosedural\n",
        "      return f(g(h(x)))\n",
        "\n",
        "#meminta inputan x lalu menjalankan hasil prosedural\n",
        "try :\n",
        "  hasil = int(input(\"Masukan nilai x : \"))\n",
        "  print(\"Hasil : \", prosedural(hasil))\n",
        "except ValueError:\n",
        "    print(\"Input yang Anda masukkan bukan bilangan bulat. Silakan masukkan bilangan bulat.\")"
      ],
      "metadata": {
        "id": "aek1PgY4Lvgn"
      },
      "execution_count": null,
      "outputs": []
    },
    {
      "cell_type": "markdown",
      "source": [
        "Implementasi di atas mencakup kelas Python bernama CompositionFunctions yang memuat tiga fungsi: f, g, dan h. Setiap fungsi ini menerima parameter x dan menghasilkan nilai berdasarkan rumus tertentu.\n",
        "\n",
        "Deklarasi Kelas (CompositionFunctions):\n",
        "Kelas ini memiliki tiga fungsi, yakni f, g, dan h.\n",
        "Fungsi __init__ berfungsi sebagai konstruktor tetapi tidak melakukan apa pun dalam contoh ini.\n",
        "\n",
        "Fungsi f(x):\n",
        "Ini adalah fungsi eksponensial dengan rumus 4^x.\n",
        "Parameter x digunakan sebagai input, dan fungsi ini mengembalikan nilai dari 4^x.\n",
        "\n",
        "Fungsi g(x):\n",
        "Merupakan fungsi pangkat dengan rumus x^x.\n",
        "Parameter x adalah input, dan fungsi ini mengembalikan nilai dari x^x.\n",
        "\n",
        "Fungsi h(x):\n",
        "Merupakan fungsi penjumlahan dengan rumus 3+x.\n",
        "Parameter x digunakan sebagai input, dan fungsi ini mengembalikan hasil dari 3+x."
      ],
      "metadata": {
        "id": "wcqPyruKLyxL"
      }
    },
    {
      "cell_type": "markdown",
      "source": [
        "# 3. Analisis Komparasi Soal 1 dan 2"
      ],
      "metadata": {
        "id": "XI0Ic_BRL8Q-"
      }
    },
    {
      "cell_type": "markdown",
      "source": [
        "Dari permasalan soal no 1 dan 2 di dapatkan bahwasannya pada pemograman berbasis objek itu memberiakan stuktur yang lebih terorganisir dan modular, tetapi jika kita membandingkannya dengan pemograman berbasis fungsi yang lebih efisen soal penggunaan memory, maupun juga waktu yang di perlukan sedangkan perbedaan pemrograman prosedural dan fungsional adalah pemrograman prosedural cenderung lebih mudah dipahami tetapi memiliki kode yang panjang. Pemgrograman fungsional sendiri memiliki kode yang lebih ringkas tetapi cenderung lebih susah dipahami."
      ],
      "metadata": {
        "id": "TOV4iGY_MA6i"
      }
    },
    {
      "cell_type": "markdown",
      "source": [
        "# 4. Penyelesaian Luas Segitiga"
      ],
      "metadata": {
        "id": "rmUHLyheMKM4"
      }
    },
    {
      "cell_type": "code",
      "source": [
        "#kelas untuk fungsi komposisi menggunakan OOP\n",
        "class Segitiga:\n",
        "    def __init__(self, alas, tinggi):\n",
        "        self.alas = alas\n",
        "        self.tinggi = tinggi\n",
        "\n",
        "    def hitung_luas(self): #fungsi menghitung luas segitiga\n",
        "        return 0.5 * self.alas * self.tinggi\n",
        "\n",
        "alas = int(input(\"Masukkan alas : \")) #variabel meminta inputan pengguna\n",
        "tinggi = int(input(\"Masukkan tinggi : \")) #variabel meminta inputan pengguna\n",
        "\n",
        "print(\"Luas segitiga : \", luas_segitiga(alas, tinggi)) #menjalankan hasil dari fungsi luas segitiga"
      ],
      "metadata": {
        "id": "264Wsp8-MM_F"
      },
      "execution_count": null,
      "outputs": []
    },
    {
      "cell_type": "markdown",
      "source": [
        "Deklarasi Kelas (Segitiga):\n",
        "\n",
        "Kelas ini mempunyai dua properti, yaitu panjang alas dan tinggi. Fungsi __init__ berperan sebagai konstruktor yang digunakan untuk mengatur nilai awal objek. Dalam contoh ini, objek Segitiga akan memiliki properti panjang alas dan tinggi setelah dibuat.\n",
        "\n",
        "Metode luas(self):\n",
        "Merupakan suatu metode (fungsi) yang menghitung luas segitiga berdasarkan formula\n",
        "luas = 1/2 * panjang alas * tinggi.\n",
        "Metode ini memanfaatkan properti panjang alas dan tinggi yang telah diinisialisasi sebelumnya."
      ],
      "metadata": {
        "id": "v8FwyZ-7MYOU"
      }
    },
    {
      "cell_type": "code",
      "source": [
        "def luas_segitiga(alas, tinggi): #fungsi menghitung luas segitiga\n",
        "    return 0.5 * alas * tinggi\n",
        "\n",
        "alas = int(input(\"Masukkan alas : \")) #variabel meminta inputan pengguna\n",
        "tinggi = int(input(\"Masukkan tinggi : \")) #variabel meminta inputan pengguna\n",
        "\n",
        "print(\"Luas segitiga : \", luas_segitiga(alas, tinggi)) #menjalankan hasil dari fungsi luas segitiga"
      ],
      "metadata": {
        "id": "AbtOypG-Mdwx"
      },
      "execution_count": null,
      "outputs": []
    },
    {
      "cell_type": "markdown",
      "source": [
        "sama seperti sebelumnya, perbedaanya adalah di pemograman berbasis fungsi yang dimana kodenya bisa lebih sedikit dan dari efisiensinya lebih cepat."
      ],
      "metadata": {
        "id": "7prh1qUJMhIF"
      }
    },
    {
      "cell_type": "markdown",
      "source": [
        "# 5. Penyelesaian Algoritma Metode Bisection"
      ],
      "metadata": {
        "id": "0baJpH30MoAW"
      }
    },
    {
      "cell_type": "code",
      "source": [
        "#funsi menggunakan metode bisection\n",
        "def metode_bisection(f, x0, x1, tolerance):\n",
        "    \"\"\"\n",
        "    Implementasi metode bisection untuk mencari akar dari fungsi f(x) di antara x0 dan x1\n",
        "    dengan toleransi error tertentu.\n",
        "\n",
        "    Args:\n",
        "    - f: fungsi f(x) yang akan dicari akarnya\n",
        "    - x0, x1: tebakan awal yang memenuhi f(x0)*f(x1) < 0\n",
        "    - tolerance: toleransi error yang diinginkan\n",
        "\n",
        "    Returns:\n",
        "    - root: akar dari fungsi f(x) yang ditemukan\n",
        "    \"\"\"\n",
        "\n",
        "    assert f(x0) * f(x1) < 0, \"Initial guesses do not bracket the root\" #mengecek apakah tebakan awal memenuhi syarat f(x0)*f(x1) < 0\n",
        "\n",
        "    # Inisialisasi nilai tengah dan iterasi\n",
        "    x2 = (x0 + x1) / 2\n",
        "    iteration = 0\n",
        "\n",
        "    # Loop sampai toleransi terpenuhi atau iterasi maksimum tercapai\n",
        "    while abs(f(x2)) > tolerance:\n",
        "        # Mengecek tanda dari f(x0)*f(x2)\n",
        "        if f(x0) * f(x2) < 0:\n",
        "            x1 = x2\n",
        "        elif f(x0) * f(x2) > 0:\n",
        "            x0 = x2\n",
        "        else:\n",
        "            break  # Jika f(x0)*f(x2) == 0, akar sudah ditemukan\n",
        "\n",
        "        x2 = (x0 + x1) / 2  #menghitung nilai tengah baru\n",
        "\n",
        "        iteration += 1 #menambah iterasi\n",
        "\n",
        "    return x2 #mengembalikan nilai\n",
        "\n",
        "def f(x): #fungsi dengan implementasinya\n",
        "    return x**2 - 4\n",
        "\n",
        "x0 = 0\n",
        "x1 = 3\n",
        "\n",
        "tolerance = 1e-6 #toleransi error\n",
        "\n",
        "#memanggil fungsi dan menjalankan dengan output hasil dari metode bisection\n",
        "root = metode_bisection(f, x0, x1, tolerance)\n",
        "print(\"Akar yang ditemukan:\", root)"
      ],
      "metadata": {
        "id": "beoj0LJVMs0K"
      },
      "execution_count": null,
      "outputs": []
    }
  ]
}
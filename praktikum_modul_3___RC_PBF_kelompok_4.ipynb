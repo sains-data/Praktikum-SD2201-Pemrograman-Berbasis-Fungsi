{
  "nbformat": 4,
  "nbformat_minor": 0,
  "metadata": {
    "colab": {
      "provenance": []
    },
    "kernelspec": {
      "name": "python3",
      "display_name": "Python 3"
    },
    "language_info": {
      "name": "python"
    }
  },
  "cells": [
    {
      "cell_type": "code",
      "source": [
        "def sieve_of_atkin(limit):\n",
        "    P = [2, 3]\n",
        "    sieve = [False] * (limit + 1)\n",
        "    for x in range(1, int(limit**0.5) + 1):\n",
        "        for y in range(1, int(limit**0.5) + 1):\n",
        "            n = 4*x**2 + y**2\n",
        "            if n <= limit and (n % 12 == 1 or n % 12 == 5):\n",
        "                sieve[n] = not sieve[n]\n",
        "            n = 3*x**2 + y**2\n",
        "            if n <= limit and n % 12 == 7:\n",
        "                sieve[n] = not sieve[n]\n",
        "            n = 3*x**2 - y**2\n",
        "            if x > y and n <= limit and n % 12 == 11:\n",
        "                sieve[n] = not sieve[n]\n",
        "    for n in range(5, int(limit**0.5) + 1):\n",
        "        if sieve[n]:\n",
        "            for k in range(n**2, limit + 1, n**2):\n",
        "                sieve[k] = False\n",
        "    for p in range(5, limit + 1):\n",
        "        if sieve[p]:\n",
        "            P.append(p)\n",
        "    return P\n",
        "\n",
        "limit = 500\n",
        "primes_up_to_limit = sieve_of_atkin(limit)\n",
        "print(f\"Bilangan prima hingga {limit}:\")\n",
        "print(primes_up_to_limit)\n"
      ],
      "metadata": {
        "colab": {
          "base_uri": "https://localhost:8080/"
        },
        "id": "ZIzP2go5FlJp",
        "outputId": "0d5943ca-1476-4d4c-acee-3a51a40cb39e"
      },
      "execution_count": 1,
      "outputs": [
        {
          "output_type": "stream",
          "name": "stdout",
          "text": [
            "Bilangan prima hingga 500:\n",
            "[2, 3, 5, 7, 11, 13, 17, 19, 23, 29, 31, 37, 41, 43, 47, 53, 59, 61, 67, 71, 73, 79, 83, 89, 97, 101, 103, 107, 109, 113, 127, 131, 137, 139, 149, 151, 157, 163, 167, 173, 179, 181, 191, 193, 197, 199, 211, 223, 227, 229, 233, 239, 241, 251, 257, 263, 269, 271, 277, 281, 283, 293, 307, 311, 313, 317, 331, 337, 347, 349, 353, 359, 367, 373, 379, 383, 389, 397, 401, 409, 419, 421, 431, 433, 439, 443, 449, 457, 461, 463, 467, 479, 487, 491, 499]\n"
          ]
        }
      ]
    }
  ]
}
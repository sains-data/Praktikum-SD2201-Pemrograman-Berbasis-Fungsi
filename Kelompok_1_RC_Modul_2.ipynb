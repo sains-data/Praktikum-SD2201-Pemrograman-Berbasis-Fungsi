{
  "nbformat": 4,
  "nbformat_minor": 0,
  "metadata": {
    "colab": {
      "provenance": []
    },
    "kernelspec": {
      "name": "python3",
      "display_name": "Python 3"
    },
    "language_info": {
      "name": "python"
    }
  },
  "cells": [
    {
      "cell_type": "markdown",
      "source": [
        "Kelompok 1 PBF :\n",
        "\n",
        "1. Rendi Alexander Hutagalung (122450057)\n",
        "\n",
        "⁠2.  Andre Hadiman Rotua Parhusip (122450108)\n",
        "\n",
        "3. Khoirul Anam (122450039)\n",
        "\n",
        "4. Lisa Diani Amelia (122450021)\n",
        "\n",
        "5. Cintya Bella ( 122450066)\n"
      ],
      "metadata": {
        "id": "HPt0S3MVSjXA"
      }
    },
    {
      "cell_type": "code",
      "source": [
        "from functools import reduce\n",
        "\n",
        "def remove_duplicates_map_reduce(input_list):\n",
        "    # Menggunakan map untuk membuat pasangan (elemen, index) dari input_list\n",
        "    elements_index = map(lambda x: (x, input_list.index(x)), input_list)\n",
        "\n",
        "    # Menggunakan reduce untuk menggabungkan tuple (elemen, index) yang unik\n",
        "    unique_elements = reduce(lambda a, b: a + [b] if b not in a else a, elements_index, [])\n",
        "\n",
        "    # Mengembalikan elemen unik dari unique_elements\n",
        "    return [element[0] for element in unique_elements]\n",
        "\n",
        "# Contoh penggunaan\n",
        "data = [1, 2, 3, 4, 2, 3, 5]\n",
        "result = remove_duplicates_map_reduce(data)\n",
        "print(result)\n"
      ],
      "metadata": {
        "colab": {
          "base_uri": "https://localhost:8080/"
        },
        "id": "QGztSwnwrLYE",
        "outputId": "d83e7a29-6e9b-446c-bbf0-e534b827a452"
      },
      "execution_count": 7,
      "outputs": [
        {
          "output_type": "stream",
          "name": "stdout",
          "text": [
            "[1, 2, 3, 4, 5]\n"
          ]
        }
      ]
    }
  ]
}
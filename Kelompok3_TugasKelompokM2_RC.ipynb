{
  "nbformat": 4,
  "nbformat_minor": 0,
  "metadata": {
    "colab": {
      "provenance": []
    },
    "kernelspec": {
      "name": "python3",
      "display_name": "Python 3"
    },
    "language_info": {
      "name": "python"
    }
  },
  "cells": [
    {
      "cell_type": "markdown",
      "source": [
        "# Tugas Kelompok Praktikum PBF Modul 2"
      ],
      "metadata": {
        "id": "yTEAz8i7o00m"
      }
    },
    {
      "cell_type": "markdown",
      "source": [
        "## Praktikum PBF RC | Kelompok 3\n",
        "1. Elok Fiola_122450051   \n",
        "2. Vira Putri Maharani_122450129  \n",
        "3. Rani Puspita Sari_122450030   \n",
        "4. ⁠Diana syafithri 122450141  \n",
        "5. Hermawan Manurung 122450069  \n",
        "6. ⁠Jihan Putri Yani_121450161  "
      ],
      "metadata": {
        "id": "jHvKHg2co54J"
      }
    },
    {
      "cell_type": "markdown",
      "source": [
        "### Aplikasi Penghitung Skor Pertandingan Badminton\n",
        "Munakan Fungsi reduce dan lambda untuk menghitung total skor berdasarkan list nilai atau poin yang diberikan"
      ],
      "metadata": {
        "id": "4HqpuzqGpJLj"
      }
    },
    {
      "cell_type": "code",
      "execution_count": 2,
      "metadata": {
        "id": "PE4jh9TG59ty",
        "colab": {
          "base_uri": "https://localhost:8080/"
        },
        "outputId": "1c4e75da-aeb2-4307-dbe3-2fa017600bfd"
      },
      "outputs": [
        {
          "output_type": "stream",
          "name": "stdout",
          "text": [
            "PAPAN PENGHITUNG SKOR PERTANDINGAN BADMINTON\n",
            "\n",
            "Cara Penggunaan:\n",
            "Masukkan skor tambahan\n",
            "'A' untuk Tim A\n",
            "'B' untuk Tim B\n",
            "'selesai' untuk mengakhiri\n",
            "\n",
            "Masukkan nama tim A: Tim Matrix\n",
            "Masukkan nama tim B: Tim Determinan\n",
            "\n",
            "Masukkan skor tambahan ('A' / 'B'), atau 'selesai' untuk mengakhiri): A\n",
            "Masukkan skor tambahan ('A' / 'B'), atau 'selesai' untuk mengakhiri): A\n",
            "Masukkan skor tambahan ('A' / 'B'), atau 'selesai' untuk mengakhiri): B\n",
            "Masukkan skor tambahan ('A' / 'B'), atau 'selesai' untuk mengakhiri): A\n",
            "Masukkan skor tambahan ('A' / 'B'), atau 'selesai' untuk mengakhiri): B\n",
            "Masukkan skor tambahan ('A' / 'B'), atau 'selesai' untuk mengakhiri): A\n",
            "Masukkan skor tambahan ('A' / 'B'), atau 'selesai' untuk mengakhiri): A\n",
            "Masukkan skor tambahan ('A' / 'B'), atau 'selesai' untuk mengakhiri): B\n",
            "Masukkan skor tambahan ('A' / 'B'), atau 'selesai' untuk mengakhiri): A\n",
            "Masukkan skor tambahan ('A' / 'B'), atau 'selesai' untuk mengakhiri): A\n",
            "Masukkan skor tambahan ('A' / 'B'), atau 'selesai' untuk mengakhiri): A\n",
            "Masukkan skor tambahan ('A' / 'B'), atau 'selesai' untuk mengakhiri): B\n",
            "Masukkan skor tambahan ('A' / 'B'), atau 'selesai' untuk mengakhiri): B\n",
            "Masukkan skor tambahan ('A' / 'B'), atau 'selesai' untuk mengakhiri): A\n",
            "Masukkan skor tambahan ('A' / 'B'), atau 'selesai' untuk mengakhiri): B\n",
            "Masukkan skor tambahan ('A' / 'B'), atau 'selesai' untuk mengakhiri): A\n",
            "Masukkan skor tambahan ('A' / 'B'), atau 'selesai' untuk mengakhiri): B\n",
            "Masukkan skor tambahan ('A' / 'B'), atau 'selesai' untuk mengakhiri): A\n",
            "Masukkan skor tambahan ('A' / 'B'), atau 'selesai' untuk mengakhiri): A\n",
            "Masukkan skor tambahan ('A' / 'B'), atau 'selesai' untuk mengakhiri): B\n",
            "Masukkan skor tambahan ('A' / 'B'), atau 'selesai' untuk mengakhiri): A\n",
            "Masukkan skor tambahan ('A' / 'B'), atau 'selesai' untuk mengakhiri): B\n",
            "Masukkan skor tambahan ('A' / 'B'), atau 'selesai' untuk mengakhiri): A\n",
            "Masukkan skor tambahan ('A' / 'B'), atau 'selesai' untuk mengakhiri): B\n",
            "Masukkan skor tambahan ('A' / 'B'), atau 'selesai' untuk mengakhiri): A\n",
            "Masukkan skor tambahan ('A' / 'B'), atau 'selesai' untuk mengakhiri): B\n",
            "Masukkan skor tambahan ('A' / 'B'), atau 'selesai' untuk mengakhiri): A\n",
            "Masukkan skor tambahan ('A' / 'B'), atau 'selesai' untuk mengakhiri): B\n",
            "Masukkan skor tambahan ('A' / 'B'), atau 'selesai' untuk mengakhiri): A\n",
            "Masukkan skor tambahan ('A' / 'B'), atau 'selesai' untuk mengakhiri): A\n",
            "Masukkan skor tambahan ('A' / 'B'), atau 'selesai' untuk mengakhiri): A\n",
            "Masukkan skor tambahan ('A' / 'B'), atau 'selesai' untuk mengakhiri): A\n",
            "Masukkan skor tambahan ('A' / 'B'), atau 'selesai' untuk mengakhiri): B\n",
            "Masukkan skor tambahan ('A' / 'B'), atau 'selesai' untuk mengakhiri): B\n",
            "Masukkan skor tambahan ('A' / 'B'), atau 'selesai' untuk mengakhiri): B\n",
            "Masukkan skor tambahan ('A' / 'B'), atau 'selesai' untuk mengakhiri): B\n",
            "Masukkan skor tambahan ('A' / 'B'), atau 'selesai' untuk mengakhiri): A\n",
            "\n",
            "Skor Akhir Pertandingan:\n",
            "[Tim Matrix: 21, Tim Determinan: 16]\n",
            "\n",
            "Tim Tim Matrix memenangkan pertandingan badminton!\n",
            "Dengan skor akhir [21, 16]\n"
          ]
        }
      ],
      "source": [
        "from functools import reduce\n",
        "\n",
        "# Menampilkan instruksi perintah untuk pengguna\n",
        "print(\"PAPAN PENGHITUNG SKOR PERTANDINGAN BADMINTON\")\n",
        "print(\"\\nCara Penggunaan:\")\n",
        "print(\"Masukkan skor tambahan\")\n",
        "print(\"'A' untuk Tim A\")\n",
        "print(\"'B' untuk Tim B\")\n",
        "print(\"'selesai' untuk mengakhiri\")\n",
        "print(\"\")\n",
        "\n",
        "# Lambda Functions\n",
        "hitung_skor = lambda poin: reduce(lambda a, b: (a[0] + 1, a[1]) if b == 'A' else (a[0], a[1] + 1), poin, (0, 0))\n",
        "cek_kemenangan = lambda skors, maks_skor, nama_tim_A, nama_tim_B: \\\n",
        "    nama_tim_A if skors[0] >= maks_skor else (nama_tim_B if skors[1] >= maks_skor else None)\n",
        "\n",
        "def main():\n",
        "    nama_tim_A = input(\"Masukkan nama tim A: \")\n",
        "    nama_tim_B = input(\"Masukkan nama tim B: \")\n",
        "    print()\n",
        "    maksimal_skor = 21\n",
        "    poin_pertandingan = []\n",
        "\n",
        "    while True:\n",
        "        tambahan_skor = input(f\"Masukkan skor tambahan ('A' / 'B'), atau 'selesai' untuk mengakhiri): \").upper()\n",
        "        if tambahan_skor == 'A' or tambahan_skor == 'B':\n",
        "            poin_pertandingan.append(tambahan_skor)\n",
        "            skor_akhir = hitung_skor(poin_pertandingan)\n",
        "            if skor_akhir[0] >= maksimal_skor or skor_akhir[1] >= maksimal_skor:\n",
        "                break\n",
        "        elif tambahan_skor == 'SELESAI':\n",
        "            break\n",
        "        else:\n",
        "            print(\"Masukkan tidak valid. Silakan masukkan 'A', 'B', atau 'selesai'.\")\n",
        "\n",
        "    print(\"\\nSkor Akhir Pertandingan:\")\n",
        "    print(f\"[{nama_tim_A}: {skor_akhir[0]}, {nama_tim_B}: {skor_akhir[1]}]\")\n",
        "\n",
        "    pemenang = cek_kemenangan(skor_akhir, maksimal_skor, nama_tim_A, nama_tim_B)\n",
        "    if pemenang:\n",
        "        print(\"\\nTim\", pemenang, \"memenangkan pertandingan badminton!\")\n",
        "        print(f\"Dengan skor akhir [{skor_akhir[0]}, {skor_akhir[1]}]\")\n",
        "    else:\n",
        "        print(\"Pertandingan belum selesai.\")\n",
        "\n",
        "if __name__ == \"__main__\":\n",
        "    main()"
      ]
    },
    {
      "cell_type": "code",
      "source": [],
      "metadata": {
        "id": "8qI955mDptnk"
      },
      "execution_count": null,
      "outputs": []
    }
  ]
}
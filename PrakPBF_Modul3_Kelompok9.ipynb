{
  "nbformat": 4,
  "nbformat_minor": 0,
  "metadata": {
    "colab": {
      "provenance": [],
      "include_colab_link": true
    },
    "kernelspec": {
      "name": "python3",
      "display_name": "Python 3"
    },
    "language_info": {
      "name": "python"
    }
  },
  "cells": [
    {
      "cell_type": "markdown",
      "metadata": {
        "id": "view-in-github",
        "colab_type": "text"
      },
      "source": [
        "<a href=\"https://colab.research.google.com/github/mine2710/kelompok9_modul01_prakpbf_rb/blob/master/PrakPBF_Modul3_Kelompok9.ipynb\" target=\"_parent\"><img src=\"https://colab.research.google.com/assets/colab-badge.svg\" alt=\"Open In Colab\"/></a>"
      ]
    },
    {
      "cell_type": "markdown",
      "source": [
        "Membuat Program Menghitung Skewness dan Kurtosis dari Data Berat Badan berbasis PBF"
      ],
      "metadata": {
        "id": "3QKRuTmclt99"
      }
    },
    {
      "cell_type": "code",
      "execution_count": null,
      "metadata": {
        "colab": {
          "base_uri": "https://localhost:8080/"
        },
        "id": "i9udLaIOhNUk",
        "outputId": "c0e2190e-6ae6-4470-f746-26b3ffc537c3"
      },
      "outputs": [
        {
          "output_type": "stream",
          "name": "stdout",
          "text": [
            "Skewness: -0.6936171955665138\n",
            "Kurtosis: -0.643637008119331\n",
            "Distribusi data cenderung simetris.\n",
            "Distribusi data cenderung normal.\n"
          ]
        }
      ],
      "source": [
        "import pandas as pd\n",
        "from scipy.stats import skew, kurtosis\n",
        "\n",
        "def hitung_skewness(data):\n",
        "    return skew(data)\n",
        "\n",
        "def hitung_kurtosis(data):\n",
        "    return kurtosis(data)\n",
        "\n",
        "def main():\n",
        "    # Ganti 'nama_file.xlsx' dengan nama file Excel Anda\n",
        "    nama_file_excel = 'berat badan + tinggi badan.xlsx'\n",
        "\n",
        "    # Baca data dari file Excel\n",
        "    data_excel = pd.read_excel(nama_file_excel)\n",
        "\n",
        "    # Pilih kolom yang ingin Anda analisis\n",
        "    kolom_yang_diinginkan = 'berat badan'\n",
        "\n",
        "    # Ambil data dari kolom yang dipilih\n",
        "    data = data_excel[kolom_yang_diinginkan]\n",
        "\n",
        "    # Hitung skewness dan kurtosis\n",
        "    nilai_skewness = hitung_skewness(data)\n",
        "    nilai_kurtosis = hitung_kurtosis(data)\n",
        "\n",
        "    # Tampilkan hasil\n",
        "    print(f'Skewness: {nilai_skewness}')\n",
        "    print(f'Kurtosis: {nilai_kurtosis}')\n",
        "\n",
        "    # Kesimpulan\n",
        "    if nilai_skewness < -1 or nilai_skewness > 1:\n",
        "        print('Distribusi data cenderung skew (miring).')\n",
        "    else:\n",
        "        print('Distribusi data cenderung simetris.')\n",
        "\n",
        "    if nilai_kurtosis < -1:\n",
        "        print('Distribusi data cenderung lebih memiliki ekor lebih panjang.')\n",
        "    elif nilai_kurtosis > 1:\n",
        "        print('Distribusi data cenderung lebih memiliki ekor lebih pendek.')\n",
        "    else:\n",
        "        print('Distribusi data cenderung normal.')\n",
        "\n",
        "if __name__ == \"__main__\":\n",
        "    main()\n"
      ]
    }
  ]
}
{
  "cells": [
    {
      "cell_type": "markdown",
      "metadata": {
        "id": "qLlmdwQxwJH9"
      },
      "source": [
        "### Soal 1"
      ]
    },
    {
      "cell_type": "code",
      "execution_count": 1,
      "metadata": {
        "colab": {
          "base_uri": "https://localhost:8080/"
        },
        "id": "K7FTqW4pt2O3",
        "outputId": "4bb37f9e-dd36-430a-e56b-472670970f45"
      },
      "outputs": [
        {
          "name": "stdout",
          "output_type": "stream",
          "text": [
            "Hasil komposisi dengan nilai x = 2 adalah: 2738248761316017572742348936950010448551572158231779371511420498138539276297788309394191354517654433778305760249669055018654345038982960283040173260517312916290707801820674504366871632600804887963367337263522497825292336532140913808410030791539345419424032061850694542711196274001481398359789911818130649888463151791752429780547244641193312608638152999722631211840673827646616997262935164407810027909383249609045265422952174035491456768893888496923961830419221696465348280014055438553165447953246393547267908926735736893878246590624064523380774652728053757996417828938554196482295448971165496475437853387095634190399912509837356933670123261396478811191241421262493034193313021183420956181216717081868545513920021942580642796112558632389903266880666949210343989829365024474105599321362078321074638405091811240017997510533388875174033541343506776468179253992429037400216227010510981451940845736527038397421672469179155341784115474317896179501263356203326473302831475871635062518572068608761953174215709163510862454592893723775386427499438400294202336786154386609347634745375233076466505495806172092060594145963921181228307048477883816255817344716719634854129222601062360116788810639458446723330064225308353743906876465406644382408619382301724036817398756799298738170782278569658071633306237014715950374153723813558136622846483152909449741391381399776793638349889957165775278429275453407870615300019214044913567652886299492793737053811573216763858783936753122909415990826965860042906636995995036650971826579439450668265147929149343544753413556427163350892776854789102396987172517128962352485156201061670562094756205191570461642458688689506275096417062443317935980620073192797175444117282095687099957030761660644180614070821947348042170423675095783453097990299074095898225321797495260055964103872883081899874454355208544861277083817218702152903385728058864916087114646485217773956890624\n"
          ]
        }
      ],
      "source": [
        "def f(x):\n",
        "    return 4 ** x\n",
        "\n",
        "def g(x):\n",
        "    return x ** x\n",
        "\n",
        "def h(x):\n",
        "    return 3 + x\n",
        "\n",
        "def komposisi_prosedural(x):\n",
        "    return f(g(h(x)))\n",
        "\n",
        "# Contoh penggunaan:\n",
        "nilai_x = 2\n",
        "hasil = komposisi_prosedural(nilai_x)\n",
        "print(\"Hasil komposisi dengan nilai x =\", nilai_x, \"adalah:\", hasil)\n"
      ]
    },
    {
      "cell_type": "code",
      "execution_count": 2,
      "metadata": {
        "colab": {
          "base_uri": "https://localhost:8080/"
        },
        "id": "iKALyNrqwEq4",
        "outputId": "b2a6d2f4-443f-492b-eb60-1f4573fdd784"
      },
      "outputs": [
        {
          "name": "stdout",
          "output_type": "stream",
          "text": [
            "Hasil komposisi dengan nilai x = 2 adalah: 2738248761316017572742348936950010448551572158231779371511420498138539276297788309394191354517654433778305760249669055018654345038982960283040173260517312916290707801820674504366871632600804887963367337263522497825292336532140913808410030791539345419424032061850694542711196274001481398359789911818130649888463151791752429780547244641193312608638152999722631211840673827646616997262935164407810027909383249609045265422952174035491456768893888496923961830419221696465348280014055438553165447953246393547267908926735736893878246590624064523380774652728053757996417828938554196482295448971165496475437853387095634190399912509837356933670123261396478811191241421262493034193313021183420956181216717081868545513920021942580642796112558632389903266880666949210343989829365024474105599321362078321074638405091811240017997510533388875174033541343506776468179253992429037400216227010510981451940845736527038397421672469179155341784115474317896179501263356203326473302831475871635062518572068608761953174215709163510862454592893723775386427499438400294202336786154386609347634745375233076466505495806172092060594145963921181228307048477883816255817344716719634854129222601062360116788810639458446723330064225308353743906876465406644382408619382301724036817398756799298738170782278569658071633306237014715950374153723813558136622846483152909449741391381399776793638349889957165775278429275453407870615300019214044913567652886299492793737053811573216763858783936753122909415990826965860042906636995995036650971826579439450668265147929149343544753413556427163350892776854789102396987172517128962352485156201061670562094756205191570461642458688689506275096417062443317935980620073192797175444117282095687099957030761660644180614070821947348042170423675095783453097990299074095898225321797495260055964103872883081899874454355208544861277083817218702152903385728058864916087114646485217773956890624\n"
          ]
        }
      ],
      "source": [
        "f = lambda x: 4 ** x\n",
        "g = lambda x: x ** x\n",
        "h = lambda x: 3 + x\n",
        "\n",
        "komposisi_fungsional = lambda x: f(g(h(x)))\n",
        "\n",
        "# Contoh penggunaan:\n",
        "nilai_x = 2\n",
        "hasil = komposisi_fungsional(nilai_x)\n",
        "print(\"Hasil komposisi dengan nilai x =\", nilai_x, \"adalah:\", hasil)\n"
      ]
    },
    {
      "cell_type": "markdown",
      "metadata": {
        "id": "r45-LhBtwgNS"
      },
      "source": [
        "### Soal 2"
      ]
    },
    {
      "cell_type": "code",
      "execution_count": 3,
      "metadata": {
        "colab": {
          "base_uri": "https://localhost:8080/"
        },
        "id": "sV9HNKRuwipP",
        "outputId": "4450b4d3-0097-4380-881d-03e0d25f220a"
      },
      "outputs": [
        {
          "name": "stdout",
          "output_type": "stream",
          "text": [
            "Hasil komposisi dengan nilai x = 2 adalah: 2738248761316017572742348936950010448551572158231779371511420498138539276297788309394191354517654433778305760249669055018654345038982960283040173260517312916290707801820674504366871632600804887963367337263522497825292336532140913808410030791539345419424032061850694542711196274001481398359789911818130649888463151791752429780547244641193312608638152999722631211840673827646616997262935164407810027909383249609045265422952174035491456768893888496923961830419221696465348280014055438553165447953246393547267908926735736893878246590624064523380774652728053757996417828938554196482295448971165496475437853387095634190399912509837356933670123261396478811191241421262493034193313021183420956181216717081868545513920021942580642796112558632389903266880666949210343989829365024474105599321362078321074638405091811240017997510533388875174033541343506776468179253992429037400216227010510981451940845736527038397421672469179155341784115474317896179501263356203326473302831475871635062518572068608761953174215709163510862454592893723775386427499438400294202336786154386609347634745375233076466505495806172092060594145963921181228307048477883816255817344716719634854129222601062360116788810639458446723330064225308353743906876465406644382408619382301724036817398756799298738170782278569658071633306237014715950374153723813558136622846483152909449741391381399776793638349889957165775278429275453407870615300019214044913567652886299492793737053811573216763858783936753122909415990826965860042906636995995036650971826579439450668265147929149343544753413556427163350892776854789102396987172517128962352485156201061670562094756205191570461642458688689506275096417062443317935980620073192797175444117282095687099957030761660644180614070821947348042170423675095783453097990299074095898225321797495260055964103872883081899874454355208544861277083817218702152903385728058864916087114646485217773956890624\n"
          ]
        }
      ],
      "source": [
        "class Fungsi:\n",
        "    def __init__(self, fungsi):\n",
        "        self.fungsi = fungsi\n",
        "\n",
        "    def evaluasi(self, x):\n",
        "        return self.fungsi(x)\n",
        "\n",
        "    def komposisi(self, fungsi_luar):\n",
        "        return Fungsi(lambda x: self.fungsi(fungsi_luar.evaluasi(x)))\n",
        "\n",
        "# Definisi fungsi f, g, dan h\n",
        "f = Fungsi(lambda x: 4 ** x)\n",
        "g = Fungsi(lambda x: x ** x)\n",
        "h = Fungsi(lambda x: 3 + x)\n",
        "\n",
        "# Hasil komposisi f(g(h(x)))\n",
        "hasil_komposisi = f.komposisi(g.komposisi(h))\n",
        "\n",
        "# Contoh penggunaan:\n",
        "nilai_x = 2\n",
        "hasil = hasil_komposisi.evaluasi(nilai_x)\n",
        "print(\"Hasil komposisi dengan nilai x =\", nilai_x, \"adalah:\", hasil)\n"
      ]
    },
    {
      "cell_type": "markdown",
      "metadata": {
        "id": "Vr969kDDwmnh"
      },
      "source": [
        "### Soal 3\n",
        "Analisis Komparatif:\n",
        "1. Pemrograman Prosedural:\n",
        "\n",
        "Keuntungan: Mudah dipahami dan diimplementasikan, tidak memerlukan konsep atau struktur khusus.\n",
        "Kerugian: Tidak modular, sulit untuk memanipulasi atau mengubah struktur fungsi dengan mudah.\n",
        "2. Pemrograman Fungsional dengan Lambda:\n",
        "\n",
        "Keuntungan: Lebih ringkas dan dapat memungkinkan ekspresi fungsi yang lebih langsung.\n",
        "Kerugian: Sulit untuk memahami kode yang kompleks, sulit untuk debug, dan sulit untuk memanipulasi struktur data kompleks.\n",
        "3. Pemrograman Berbasis Objek:\n",
        "\n",
        "Keuntungan: Modular, memungkinkan untuk memanipulasi dan menggabungkan struktur data dengan mudah.\n",
        "Kerugian: Memerlukan pemahaman konsep OOP yang lebih dalam, kode mungkin menjadi lebih panjang daripada pendekatan lainnya."
      ]
    },
    {
      "cell_type": "markdown",
      "metadata": {
        "id": "lWBM_4kqyULi"
      },
      "source": [
        "### Soal 4"
      ]
    },
    {
      "cell_type": "code",
      "execution_count": 4,
      "metadata": {
        "colab": {
          "base_uri": "https://localhost:8080/"
        },
        "id": "dcXFFERgyWOi",
        "outputId": "6c5921ed-536b-468b-bdd4-a4e047f50e90"
      },
      "outputs": [
        {
          "name": "stdout",
          "output_type": "stream",
          "text": [
            "Luas segitiga menggunakan pemrograman berorientasi objek: 20.0\n",
            "Waktu yang diperlukan: 0.00012421607971191406 detik\n"
          ]
        }
      ],
      "source": [
        "class Segitiga:\n",
        "    def __init__(self, alas, tinggi):\n",
        "        self.alas = alas\n",
        "        self.tinggi = tinggi\n",
        "\n",
        "    def hitung_luas(self):\n",
        "        return 0.5 * self.alas * self.tinggi\n",
        "\n",
        "# Uji performa pemrograman berorientasi objek\n",
        "import time\n",
        "\n",
        "start_time = time.time()\n",
        "\n",
        "segitiga1 = Segitiga(5, 8)\n",
        "luas1 = segitiga1.hitung_luas()\n",
        "\n",
        "end_time = time.time()\n",
        "elapsed_time_objek = end_time - start_time\n",
        "\n",
        "print(\"Luas segitiga menggunakan pemrograman berorientasi objek:\", luas1)\n",
        "print(\"Waktu yang diperlukan:\", elapsed_time_objek, \"detik\")\n"
      ]
    },
    {
      "cell_type": "code",
      "execution_count": 5,
      "metadata": {
        "colab": {
          "base_uri": "https://localhost:8080/"
        },
        "id": "mZfoQWAM0IGQ",
        "outputId": "32512945-9ed6-4e25-9e06-e472ed1cd3d4"
      },
      "outputs": [
        {
          "name": "stdout",
          "output_type": "stream",
          "text": [
            "Luas segitiga menggunakan pemrograman berbasis fungsi: 20.0\n",
            "Waktu yang diperlukan: 8.463859558105469e-05 detik\n"
          ]
        }
      ],
      "source": [
        "def hitung_luas_segitiga(alas, tinggi):\n",
        "    return 0.5 * alas * tinggi\n",
        "\n",
        "# Uji performa pemrograman berbasis fungsi\n",
        "import time\n",
        "\n",
        "start_time = time.time()\n",
        "\n",
        "luas2 = hitung_luas_segitiga(5, 8)\n",
        "\n",
        "end_time = time.time()\n",
        "elapsed_time_fungsi = end_time - start_time\n",
        "\n",
        "print(\"Luas segitiga menggunakan pemrograman berbasis fungsi:\", luas2)\n",
        "print(\"Waktu yang diperlukan:\", elapsed_time_fungsi, \"detik\")\n"
      ]
    },
    {
      "cell_type": "markdown",
      "metadata": {
        "id": "41bMyt7n0N9L"
      },
      "source": [
        "Kedua pendekatan tersebut akan menghasilkan luas segitiga yang sama, tetapi menggunakan pendekatan yang berbeda. Untuk membandingkan keduanya dalam hal kecepatan komputasi, kita dapat membandingkan waktu yang diperlukan untuk mengeksekusi keduanya. Dalam contoh di atas, kita menggunakan time.time() untuk mengukur waktu eksekusi.\n",
        "\n",
        "Setelah diuji, dapat dilihat waktu eksekusi dari kedua pendekatan tersebut. Yang mana pun pemrograman berorientasi objek lebih cepat dibandingkan pemrograman berbasis fungsi"
      ]
    },
    {
      "cell_type": "markdown",
      "metadata": {
        "id": "xdT0Blnl0sAe"
      },
      "source": [
        "### Special Soal 5"
      ]
    },
    {
      "cell_type": "code",
      "execution_count": null,
      "metadata": {
        "id": "lvxsCqCM0qlf"
      },
      "outputs": [],
      "source": [
        "def metode_bisection(a, b, e, f):\n",
        "    if f(a) * f(b) > 0:\n",
        "        raise ValueError(\"Penentuan interval salah\")\n",
        "\n",
        "    c = a\n",
        "    while (b - a) >= e:\n",
        "        c = (a + b) / 2\n",
        "        if f(c) == 0:\n",
        "            break\n",
        "        elif f(a) * f(c) < 0:\n",
        "            b = c\n",
        "        else:\n",
        "            a = c\n",
        "\n",
        "    return c\n",
        "\n",
        "# Contoh penggunaan\n",
        "def f(x):\n",
        "    return x ** 2 - 4\n",
        "\n",
        "hasil = metode_bisection(-10, 10, 0.0001, f)\n",
        "print(f\"Akarnya adalah {hasil}\")"
      ]
    },
    {
      "cell_type": "code",
      "execution_count": null,
      "metadata": {},
      "outputs": [],
      "source": []
    }
  ],
  "metadata": {
    "colab": {
      "provenance": []
    },
    "kernelspec": {
      "display_name": "Python 3",
      "name": "python3"
    },
    "language_info": {
      "name": "python"
    }
  },
  "nbformat": 4,
  "nbformat_minor": 0
}

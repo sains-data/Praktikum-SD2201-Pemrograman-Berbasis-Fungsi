{
  "nbformat": 4,
  "nbformat_minor": 0,
  "metadata": {
    "colab": {
      "provenance": []
    },
    "kernelspec": {
      "name": "python3",
      "display_name": "Python 3"
    },
    "language_info": {
      "name": "python"
    }
  },
  "cells": [
    {
      "cell_type": "markdown",
      "source": [
        "Tugas Kelempok Pratikum PBF Modul 1\n",
        "\n",
        "Kelompok 1\n",
        "\n",
        "Cyntia Kristina Sidauruk  122450023\n",
        "\n",
        "Patricia Leondrea Diajeng Putri 122450050\n",
        "\n",
        "Berliana Enda Putri 122450065\n",
        "\n",
        "Feryadi Yulius 122450087\n",
        "\n",
        "Naufal Fakhri 122450089\n",
        "\n",
        "\n",
        "\n",
        "\n",
        "\n",
        "\n"
      ],
      "metadata": {
        "id": "04dDnJ1semva"
      }
    },
    {
      "cell_type": "markdown",
      "source": [
        "Tugas Kelompok"
      ],
      "metadata": {
        "id": "G2raQ0oEfuWQ"
      }
    },
    {
      "cell_type": "markdown",
      "source": [
        "1. Buatlah fungsi komposisi dengan nilai f(x)=4^x ; g(x)=x^x dan h(x)=3+x\n",
        "dengan pemrograman prosedural tiga fungsi dan pemrograman fungsional\n",
        "dengan lamda"
      ],
      "metadata": {
        "id": "EThv-CiCfuv4"
      }
    },
    {
      "cell_type": "code",
      "source": [
        "#pemrograman prosedural tiga fungsi\n",
        "\n",
        "def f(x):\n",
        " return 4 ** x\n",
        "def g(x):\n",
        " return x ** x\n",
        "def h(x):\n",
        " return 3 + x\n",
        "def komposisi_prosedural(x):\n",
        " return f(g(h(x)))\n",
        "\n",
        "print(komposisi_prosedural(1))\n",
        "print(komposisi_prosedural(2))\n",
        "\n",
        "\n"
      ],
      "metadata": {
        "colab": {
          "base_uri": "https://localhost:8080/"
        },
        "id": "MzW_BvRdfsGj",
        "outputId": "cf0e6b9e-a617-4049-9c87-7827b9d512eb"
      },
      "execution_count": null,
      "outputs": [
        {
          "output_type": "stream",
          "name": "stdout",
          "text": [
            "13407807929942597099574024998205846127479365820592393377723561443721764030073546976801874298166903427690031858186486050853753882811946569946433649006084096\n",
            "2738248761316017572742348936950010448551572158231779371511420498138539276297788309394191354517654433778305760249669055018654345038982960283040173260517312916290707801820674504366871632600804887963367337263522497825292336532140913808410030791539345419424032061850694542711196274001481398359789911818130649888463151791752429780547244641193312608638152999722631211840673827646616997262935164407810027909383249609045265422952174035491456768893888496923961830419221696465348280014055438553165447953246393547267908926735736893878246590624064523380774652728053757996417828938554196482295448971165496475437853387095634190399912509837356933670123261396478811191241421262493034193313021183420956181216717081868545513920021942580642796112558632389903266880666949210343989829365024474105599321362078321074638405091811240017997510533388875174033541343506776468179253992429037400216227010510981451940845736527038397421672469179155341784115474317896179501263356203326473302831475871635062518572068608761953174215709163510862454592893723775386427499438400294202336786154386609347634745375233076466505495806172092060594145963921181228307048477883816255817344716719634854129222601062360116788810639458446723330064225308353743906876465406644382408619382301724036817398756799298738170782278569658071633306237014715950374153723813558136622846483152909449741391381399776793638349889957165775278429275453407870615300019214044913567652886299492793737053811573216763858783936753122909415990826965860042906636995995036650971826579439450668265147929149343544753413556427163350892776854789102396987172517128962352485156201061670562094756205191570461642458688689506275096417062443317935980620073192797175444117282095687099957030761660644180614070821947348042170423675095783453097990299074095898225321797495260055964103872883081899874454355208544861277083817218702152903385728058864916087114646485217773956890624\n"
          ]
        }
      ]
    },
    {
      "cell_type": "code",
      "source": [
        "#Pemograman fungsional dengan lamda\n",
        "\n",
        "f = lambda x: 4 ** x\n",
        "g = lambda x: x ** x\n",
        "h = lambda x: 3 + x\n",
        "komposisi_fungsional = lambda x: f(g(h(x)))\n",
        "\n",
        "\n",
        "print(komposisi_fungsional(1))\n",
        "print(komposisi_fungsional(2))"
      ],
      "metadata": {
        "id": "siDvrVIRiMHD"
      },
      "execution_count": null,
      "outputs": []
    },
    {
      "cell_type": "markdown",
      "source": [
        "2. Buatlah pemograman berbasis objek pada soal no 1"
      ],
      "metadata": {
        "id": "G18MyMBci5PK"
      }
    },
    {
      "cell_type": "code",
      "source": [
        "class Fungsi:\n",
        " def __init__(self, rumus):\n",
        "  self.rumus = rumus\n",
        "\n",
        " def hitung(self, x):\n",
        "  return self.rumus(x)\n",
        "\n",
        "class Komposisi:\n",
        " def __init__(self, f, g, h):\n",
        "  self.f = f\n",
        "  self.g = g\n",
        "  self.h = h\n",
        " def hitung(self, x):\n",
        "  return self.f.hitung(self.g.hitung(self.h.hitung(x)))\n",
        "\n",
        "f = Fungsi(lambda x: 4 ** x)\n",
        "g = Fungsi(lambda x: x ** x)\n",
        "h = Fungsi(lambda x: 3 + x)\n",
        "\n",
        "komposisi = Komposisi(f, g, h)\n",
        "\n",
        "print(komposisi.hitung(1))\n",
        "print(komposisi.hitung(2))"
      ],
      "metadata": {
        "colab": {
          "base_uri": "https://localhost:8080/"
        },
        "id": "lYep4EFhjV2T",
        "outputId": "db5e35f2-301f-4a53-910a-3396e61e2b11"
      },
      "execution_count": null,
      "outputs": [
        {
          "output_type": "stream",
          "name": "stdout",
          "text": [
            "13407807929942597099574024998205846127479365820592393377723561443721764030073546976801874298166903427690031858186486050853753882811946569946433649006084096\n",
            "2738248761316017572742348936950010448551572158231779371511420498138539276297788309394191354517654433778305760249669055018654345038982960283040173260517312916290707801820674504366871632600804887963367337263522497825292336532140913808410030791539345419424032061850694542711196274001481398359789911818130649888463151791752429780547244641193312608638152999722631211840673827646616997262935164407810027909383249609045265422952174035491456768893888496923961830419221696465348280014055438553165447953246393547267908926735736893878246590624064523380774652728053757996417828938554196482295448971165496475437853387095634190399912509837356933670123261396478811191241421262493034193313021183420956181216717081868545513920021942580642796112558632389903266880666949210343989829365024474105599321362078321074638405091811240017997510533388875174033541343506776468179253992429037400216227010510981451940845736527038397421672469179155341784115474317896179501263356203326473302831475871635062518572068608761953174215709163510862454592893723775386427499438400294202336786154386609347634745375233076466505495806172092060594145963921181228307048477883816255817344716719634854129222601062360116788810639458446723330064225308353743906876465406644382408619382301724036817398756799298738170782278569658071633306237014715950374153723813558136622846483152909449741391381399776793638349889957165775278429275453407870615300019214044913567652886299492793737053811573216763858783936753122909415990826965860042906636995995036650971826579439450668265147929149343544753413556427163350892776854789102396987172517128962352485156201061670562094756205191570461642458688689506275096417062443317935980620073192797175444117282095687099957030761660644180614070821947348042170423675095783453097990299074095898225321797495260055964103872883081899874454355208544861277083817218702152903385728058864916087114646485217773956890624\n"
          ]
        }
      ]
    },
    {
      "cell_type": "markdown",
      "source": [
        "3.Berikan analisis komparasi soal 1 dan 2"
      ],
      "metadata": {
        "id": "ewr06tLbkrnU"
      }
    },
    {
      "cell_type": "markdown",
      "source": [
        "\n",
        "kode ini menghitung komposisi fungsi f(g(h(x))) untuk x = 1 dan 2 menggunakan tiga metode:\n",
        "\n",
        "\n",
        "*   Kode Prosedural\n",
        "Kode ini menggunakan fungsi yang didefinisikan secara terpisah untuk menghitung f(x), g(x), dan h(x). Komposisi kemudian dihitung dengan memanggil fungsi-fungsi ini secara berurutan.\n",
        "*   Kode Fungsional dengan menggunakan  Lambda\n",
        "Kode ini menggunakan lambda expression untuk mendefinisikan fungsi f(x), g(x), dan h(x). Komposisi kemudian dihitung dengan menggunakan lambda expression untuk mendefinisikan fungsi komposisi.\n",
        "\n",
        "*   Kode Fungsional dengan menggunakan  Kelas:\n",
        "Kode ini menggunakan kelas untuk mendefinisikan fungsi f(x), g(x), dan h(x). Komposisi kemudian dihitung dengan membuat objek dari kelas Komposisi dan memanggil metode hitung().\n",
        "\n",
        "\n",
        "\n",
        "\n",
        "\n"
      ],
      "metadata": {
        "id": "LUHpfvGckvJd"
      }
    },
    {
      "cell_type": "markdown",
      "source": [
        "4. Buatlah satu penyelesaian Luas Segitiga dengan menggunakan\n",
        "Pemrograman berorientasi Objek dan Pemrograman berbasis Fungsi. Uji\n",
        "dengan membandingkan mana yang tercepat komputasinya"
      ],
      "metadata": {
        "id": "BtbsA8HAkxjJ"
      }
    },
    {
      "cell_type": "code",
      "source": [
        "# penyelesain luas segitiga dengan menggunakan pemograman berorientasi objek\n",
        "\n",
        "class Segitiga:\n",
        "\n",
        " def __init__(self, alas, tinggi):\n",
        "  self.alas = alas\n",
        "  self.tinggi = tinggi\n",
        "\n",
        " def luas(self):\n",
        "  return (self.alas * self.tinggi) / 2\n",
        "\n",
        "alas = float(input(\"Masukkan nilai alas: \"))\n",
        "tinggi = float(input(\"Masukkan nilai tinggi: \"))\n",
        "segitiga = Segitiga(alas,tinggi)\n",
        "print(f\"Luas segitiga adalah {segitiga.luas()}\")\n"
      ],
      "metadata": {
        "colab": {
          "base_uri": "https://localhost:8080/"
        },
        "id": "CbowWo4DmMcM",
        "outputId": "0ba787ca-e994-4d97-a95f-4941d1ba3fbe"
      },
      "execution_count": null,
      "outputs": [
        {
          "output_type": "stream",
          "name": "stdout",
          "text": [
            "Masukkan nilai alas: 6\n",
            "Masukkan nilai tinggi: 10\n",
            "Luas segitiga adalah 30.0\n"
          ]
        }
      ]
    },
    {
      "cell_type": "code",
      "source": [
        "#Penyelesaiab luas segitiga dengan menggunakan pemograman berbasis fungsi\n",
        "\n",
        "def luas_segitiga(alas, tinggi):\n",
        "    return (alas * tinggi) / 2\n",
        "\n",
        "def segitiga():\n",
        "\n",
        "    alas = float(input(\"Masukkan nilai alas: \"))\n",
        "    tinggi = float(input(\"Masukkan nilai tinggi: \"))\n",
        "    hasil = luas_segitiga(alas, tinggi)\n",
        "\n",
        "    print(f\"Luas segitiga adalah {hasil}\")\n",
        "\n",
        "if __name__ == \"__segitiga__\":\n",
        "    segitiga()\n",
        "\n",
        "print(f\"Luas segitiga adalah {luas_segitiga(alas, tinggi)}\")"
      ],
      "metadata": {
        "colab": {
          "base_uri": "https://localhost:8080/"
        },
        "id": "RBr2HOegnRPL",
        "outputId": "ca7ed983-efc4-4054-def7-e763f88aa522"
      },
      "execution_count": null,
      "outputs": [
        {
          "output_type": "stream",
          "name": "stdout",
          "text": [
            "Luas segitiga adalah 30.0\n"
          ]
        }
      ]
    },
    {
      "cell_type": "code",
      "source": [
        "\n",
        "import timeit\n",
        "\n",
        "# ini adalah fungsi uji untuk pemrograman berorientasi objek\n",
        "def test_object_oriented():\n",
        "    class Segitiga:\n",
        "        def __init__(self, alas, tinggi):\n",
        "            self.alas = alas\n",
        "            self.tinggi = tinggi\n",
        "\n",
        "        def luas(self):\n",
        "            return (self.alas * self.tinggi) / 2\n",
        "\n",
        "    segitiga = Segitiga(4, 9)\n",
        "    for i in range(1000000):\n",
        "        segitiga.luas()\n",
        "\n",
        "# ini adalah fungsi uji untuk pemrograman berbasis fungsi\n",
        "def test_functional():\n",
        "    def luas_segitiga(alas, tinggi):\n",
        "        return (alas * tinggi) / 2\n",
        "\n",
        "    for i in range(100000):\n",
        "        luas_segitiga(4, 9)\n",
        "\n",
        "# mencetak cara untuk membandingkan waktu eksekusi untuk masing-masing fungsi uji\n",
        "print(\"Waktu eksekusi untuk pemrograman berorientasi objek:\", timeit.timeit(test_object_oriented, number=100))\n",
        "print(\"Waktu eksekusi untuk pemrograman berbasis fungsi:\", timeit.timeit(test_functional, number=100))\n"
      ],
      "metadata": {
        "id": "KDnni1FXokEx",
        "colab": {
          "base_uri": "https://localhost:8080/"
        },
        "outputId": "72cccf16-f969-4b3b-c2b3-41144b5d97c0"
      },
      "execution_count": 7,
      "outputs": [
        {
          "output_type": "stream",
          "name": "stdout",
          "text": [
            "Waktu eksekusi untuk pemrograman berorientasi objek: 22.26232976099982\n",
            "Waktu eksekusi untuk pemrograman berbasis fungsi: 1.505958838000879\n"
          ]
        }
      ]
    },
    {
      "cell_type": "markdown",
      "source": [
        "pada pengujian waktu yang dilakukan didapatkan bahwa hasil yang diperolah setiap kali dieksekusi pemograman bisa berbeda beda,, namun pada percobaan yang dilakukan di dapatkan bahwah pemograman berbasis fungsi lebih cepat dari pada pemograman berbasis objek,, hal tersebut disebabkan karena pemograman berbasis fungsi lebih sederhana"
      ],
      "metadata": {
        "id": "3FVUOVGPwEvk"
      }
    },
    {
      "cell_type": "markdown",
      "source": [
        "5. Diberikan algoritma metode bisection berikut :\n",
        "\n",
        "Buatlah prosedural programing dari persoalan diatas dan ubalah dengan functional programing. lakukan batas toleransi 10^-5 dengan fungsi yang diberikan sebagai berikut x-2^x dan nilai a dan b adalah antara 0 dan 1 (nilai tidak boleh 0 dan 1)"
      ],
      "metadata": {
        "id": "l-BeCC9_oxkf"
      }
    },
    {
      "cell_type": "code",
      "source": [
        "# Mendefinisikan fungsi f(x) berupa x - 2**x\n",
        "def f(x):\n",
        "    return x - 2**x\n",
        "\n",
        "# Mendefinisikan fungsi bisection dengan parameter f, x0, x1, dan nilai toleransi error\n",
        "def bisection(f, x0, x1, tol=1e-5):\n",
        "\n",
        "    # Mengecek kondisi apakah f(x0) * f(x1) < 0, jika kurang dari 0 maka program dilanjutkan, jika lebih dari 0 program akan berhenti karena fungsinya tidak memiliki akar pada rentang yang diberikan\n",
        "    if f(x0) * f(x1) >= 0:\n",
        "        print(\"Tidak ada akar di dalam rentang yang diberikan\")\n",
        "        return None\n",
        "\n",
        "    # Melakukan iterasi\n",
        "    while (x1 - x0) >= tol:\n",
        "        x2 = (x0 + x1) / 2  # Mencari nilai x2 atau batas tengahnya\n",
        "        if f(x2) == 0:  # Jika f(x2) = 0 maka x2 adalah akarnya\n",
        "            return x2\n",
        "        elif f(x0) * f(x2) < 0:  # Atau, jika f(x0) * f(x2) < 0 maka x1 = x2\n",
        "            x1 = x2\n",
        "        else:  # Atau x0 = x2\n",
        "            x0 = x2\n",
        "\n",
        "    return (x0 + x1) / 2  # Mengembalikan nilai akhir\n",
        "\n",
        "# Menginisiasi x0, x1, dan nilai toleransi\n",
        "x0 = 0\n",
        "x1 = 1\n",
        "tolerance = 1e-5\n",
        "\n",
        "# Memanggil fungsi bisection\n",
        "result = bisection(f, x0, x1, tolerance)\n",
        "print(\"Akar yang ditemukan:\", result)"
      ],
      "metadata": {
        "id": "IrdBSW03oqzZ",
        "colab": {
          "base_uri": "https://localhost:8080/"
        },
        "outputId": "a28eced6-02db-45e2-a377-485b33afbdac"
      },
      "execution_count": null,
      "outputs": [
        {
          "output_type": "stream",
          "name": "stdout",
          "text": [
            "Tidak ada akar di dalam rentang yang diberikan\n",
            "Akar yang ditemukan: None\n"
          ]
        }
      ]
    }
  ]
}
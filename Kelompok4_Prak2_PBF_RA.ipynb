{
  "cells": [
    {
      "cell_type": "markdown",
      "metadata": {
        "id": "c5aUh9Ear5Qs"
      },
      "source": [
        "\n",
        "\n",
        "**Nama Anggota Kelompok 4 PBF RA**\n",
        "\n",
        "  - DANANG HILAL KURNIAWAN-122450085\n",
        "  - EKSANTY F SUGMA ISLAMIATY-122450001\n",
        "  - NAJLA JUWAIRIA-122450037\n",
        "  - KHARISA HARVANNY-122450061\n",
        "  - MIRZAN YUSUF RABBANI-122450118"
      ]
    },
    {
      "cell_type": "markdown",
      "metadata": {
        "id": "KC1gamxKs_gJ"
      },
      "source": [
        "**Pengurutan Data**"
      ]
    },
    {
      "cell_type": "code",
      "execution_count": 1,
      "metadata": {
        "id": "LLCgbWrGr1uo"
      },
      "outputs": [
        {
          "name": "stdout",
          "output_type": "stream",
          "text": [
            "Data acak sebelum diurutkan: [1, 51, 6, 10, 53, 90, 6, 11, 2, 100, 9, 27, 23, 38, 24, 30, 48, 30, 58, 100, 85, 37, 93, 44, 14, 21, 86, 79, 87, 9, 11, 85, 42, 36, 51, 24, 78, 25, 32, 82, 38, 87, 53, 35, 11, 46, 46, 96, 48, 20]\n",
            "Data acak setelah diurutkan: [1, 2, 6, 6, 9, 9, 10, 11, 11, 11, 14, 20, 21, 23, 24, 24, 25, 27, 30, 30, 32, 35, 36, 37, 38, 38, 42, 44, 46, 46, 48, 48, 51, 51, 53, 53, 58, 78, 79, 82, 85, 85, 86, 87, 87, 90, 93, 96, 100, 100]\n"
          ]
        }
      ],
      "source": []
    }
  ],
  "metadata": {
    "colab": {
      "private_outputs": true,
      "provenance": []
    },
    "kernelspec": {
      "display_name": "Python 3",
      "name": "python3"
    },
    "language_info": {
      "codemirror_mode": {
        "name": "ipython",
        "version": 3
      },
      "file_extension": ".py",
      "mimetype": "text/x-python",
      "name": "python",
      "nbconvert_exporter": "python",
      "pygments_lexer": "ipython3",
      "version": "3.11.3"
    }
  },
  "nbformat": 4,
  "nbformat_minor": 0
}

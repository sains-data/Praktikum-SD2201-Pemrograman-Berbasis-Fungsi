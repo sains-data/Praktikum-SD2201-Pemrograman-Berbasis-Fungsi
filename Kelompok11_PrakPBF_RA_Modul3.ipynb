{
  "nbformat": 4,
  "nbformat_minor": 0,
  "metadata": {
    "colab": {
      "provenance": []
    },
    "kernelspec": {
      "name": "python3",
      "display_name": "Python 3"
    },
    "language_info": {
      "name": "python"
    }
  },
  "cells": [
    {
      "cell_type": "code",
      "execution_count": 3,
      "metadata": {
        "colab": {
          "base_uri": "https://localhost:8080/"
        },
        "id": "TZMwwV6Q1bKs",
        "outputId": "bce37e1a-afda-45cc-d7d6-6d8328efb975"
      },
      "outputs": [
        {
          "output_type": "stream",
          "name": "stdout",
          "text": [
            "Masukkan nama file: dataa.xlsx\n",
            "Mean: 519.2834615384616\n",
            "Median: -444.73\n",
            "Modus: 437.27\n"
          ]
        }
      ],
      "source": [
        "import pandas as pd\n",
        "import statistics\n",
        "import os\n",
        "\n",
        "def hitung_mean(data):\n",
        "    return statistics.mean(data)\n",
        "\n",
        "def hitung_median(data):\n",
        "    return statistics.median(data)\n",
        "\n",
        "def hitung_modus(data):\n",
        "    try:\n",
        "        return statistics.mode(data)\n",
        "    except statistics.StatisticsError:\n",
        "        return \"Tidak ada modus\"\n",
        "\n",
        "def proses_file(nama_file):\n",
        "    ekstensi = os.path.splitext(nama_file)[1].lower()\n",
        "    if ekstensi == '.csv':\n",
        "        try:\n",
        "            df = pd.read_csv(nama_file)\n",
        "            data = df.iloc[:, 0].tolist()\n",
        "            return data\n",
        "        except FileNotFoundError:\n",
        "            print(\"File tidak ditemukan.\")\n",
        "            return []\n",
        "    elif ekstensi == '.xlsx':\n",
        "        try:\n",
        "            df = pd.read_excel(nama_file)\n",
        "            data = df.iloc[:, 0].tolist()\n",
        "            return data\n",
        "        except FileNotFoundError:\n",
        "            print(\"File tidak ditemukan.\")\n",
        "            return []\n",
        "    else:\n",
        "        print(\"Format file tidak didukung.\")\n",
        "        return []\n",
        "\n",
        "def main():\n",
        "    nama_file = input(\"Masukkan nama file: \")\n",
        "    data = proses_file(nama_file)\n",
        "    if data:\n",
        "        mean = hitung_mean(data)\n",
        "        median = hitung_median(data)\n",
        "        modus = hitung_modus(data)\n",
        "\n",
        "        print(\"Mean:\", mean)\n",
        "        print(\"Median:\", median)\n",
        "        print(\"Modus:\", modus)\n",
        "\n",
        "if __name__ == \"__main__\":\n",
        "    main()\n"
      ]
    }
  ]
}
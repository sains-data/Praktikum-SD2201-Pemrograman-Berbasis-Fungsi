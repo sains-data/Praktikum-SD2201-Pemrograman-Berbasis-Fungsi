{
  "nbformat": 4,
  "nbformat_minor": 0,
  "metadata": {
    "colab": {
      "provenance": []
    },
    "kernelspec": {
      "name": "python3",
      "display_name": "Python 3"
    },
    "language_info": {
      "name": "python"
    }
  },
  "cells": [
    {
      "cell_type": "markdown",
      "source": [
        "# buatlah fungsi komposisi dengan nilai f(x) = (4^x), g(x) = (x^x) dan h(x) = 3+x dengan pemrograman  prosedural 3 fungsi dan pemrograman fungsional dengan lambda"
      ],
      "metadata": {
        "id": "uZSOpX7dkZdc"
      }
    },
    {
      "cell_type": "code",
      "source": [
        "# Fungsi untuk f(x) = 4^x\n",
        "def f(x):\n",
        "    return 4 ** x\n",
        "\n",
        "# Fungsi untuk g(x) = x^x\n",
        "def g(x):\n",
        "    return x ** x\n",
        "\n",
        "# Fungsi untuk h(x) = 3 + x\n",
        "def h(x):\n",
        "    return 3 + x\n",
        "\n",
        "# Fungsi komposisi menggunakan 3 fungsi terpisah\n",
        "def komposisi_prosedural(x):\n",
        "    return f(g(h(x)))\n",
        "\n",
        "# Contoh penggunaan\n",
        "result_prosedural = komposisi_prosedural(2)\n",
        "print(\"Hasil komposisi (f ∘ g ∘ h)(2) dengan lambda adalah:\", result_prosedural)\n"
      ],
      "metadata": {
        "colab": {
          "base_uri": "https://localhost:8080/"
        },
        "id": "CLcijSeHghYR",
        "outputId": "f4153183-1c24-4230-a2f6-44b0a9f9d8f2"
      },
      "execution_count": null,
      "outputs": [
        {
          "output_type": "stream",
          "name": "stdout",
          "text": [
            "Hasil komposisi prosedural: 2738248761316017572742348936950010448551572158231779371511420498138539276297788309394191354517654433778305760249669055018654345038982960283040173260517312916290707801820674504366871632600804887963367337263522497825292336532140913808410030791539345419424032061850694542711196274001481398359789911818130649888463151791752429780547244641193312608638152999722631211840673827646616997262935164407810027909383249609045265422952174035491456768893888496923961830419221696465348280014055438553165447953246393547267908926735736893878246590624064523380774652728053757996417828938554196482295448971165496475437853387095634190399912509837356933670123261396478811191241421262493034193313021183420956181216717081868545513920021942580642796112558632389903266880666949210343989829365024474105599321362078321074638405091811240017997510533388875174033541343506776468179253992429037400216227010510981451940845736527038397421672469179155341784115474317896179501263356203326473302831475871635062518572068608761953174215709163510862454592893723775386427499438400294202336786154386609347634745375233076466505495806172092060594145963921181228307048477883816255817344716719634854129222601062360116788810639458446723330064225308353743906876465406644382408619382301724036817398756799298738170782278569658071633306237014715950374153723813558136622846483152909449741391381399776793638349889957165775278429275453407870615300019214044913567652886299492793737053811573216763858783936753122909415990826965860042906636995995036650971826579439450668265147929149343544753413556427163350892776854789102396987172517128962352485156201061670562094756205191570461642458688689506275096417062443317935980620073192797175444117282095687099957030761660644180614070821947348042170423675095783453097990299074095898225321797495260055964103872883081899874454355208544861277083817218702152903385728058864916087114646485217773956890624\n"
          ]
        }
      ]
    },
    {
      "cell_type": "code",
      "execution_count": null,
      "metadata": {
        "colab": {
          "base_uri": "https://localhost:8080/"
        },
        "id": "6U0azGnWejji",
        "outputId": "7a085710-2de7-4546-b2cd-94c2c3521614"
      },
      "outputs": [
        {
          "output_type": "stream",
          "name": "stdout",
          "text": [
            "Hasil komposisi (f ∘ g ∘ h)(2) dengan lambda adalah: 2738248761316017572742348936950010448551572158231779371511420498138539276297788309394191354517654433778305760249669055018654345038982960283040173260517312916290707801820674504366871632600804887963367337263522497825292336532140913808410030791539345419424032061850694542711196274001481398359789911818130649888463151791752429780547244641193312608638152999722631211840673827646616997262935164407810027909383249609045265422952174035491456768893888496923961830419221696465348280014055438553165447953246393547267908926735736893878246590624064523380774652728053757996417828938554196482295448971165496475437853387095634190399912509837356933670123261396478811191241421262493034193313021183420956181216717081868545513920021942580642796112558632389903266880666949210343989829365024474105599321362078321074638405091811240017997510533388875174033541343506776468179253992429037400216227010510981451940845736527038397421672469179155341784115474317896179501263356203326473302831475871635062518572068608761953174215709163510862454592893723775386427499438400294202336786154386609347634745375233076466505495806172092060594145963921181228307048477883816255817344716719634854129222601062360116788810639458446723330064225308353743906876465406644382408619382301724036817398756799298738170782278569658071633306237014715950374153723813558136622846483152909449741391381399776793638349889957165775278429275453407870615300019214044913567652886299492793737053811573216763858783936753122909415990826965860042906636995995036650971826579439450668265147929149343544753413556427163350892776854789102396987172517128962352485156201061670562094756205191570461642458688689506275096417062443317935980620073192797175444117282095687099957030761660644180614070821947348042170423675095783453097990299074095898225321797495260055964103872883081899874454355208544861277083817218702152903385728058864916087114646485217773956890624\n"
          ]
        }
      ],
      "source": [
        "# Fungsi f(x) = 4^x\n",
        "f = lambda x: 4 ** x\n",
        "\n",
        "# Fungsi g(x) = x^x\n",
        "g = lambda x: x ** x\n",
        "\n",
        "# Fungsi h(x) = 3 + x\n",
        "h = lambda x: 3 + x\n",
        "\n",
        "# Fungsi komposisi (f ∘ g ∘ h)(x) dengan lambda\n",
        "composition_lambda = lambda x: f(g(h(x)))\n",
        "\n",
        "# Contoh penggunaan\n",
        "result_lambda = composition_lambda(2)\n",
        "print(\"Hasil komposisi (f ∘ g ∘ h)(2) dengan lambda adalah:\", result_lambda)\n"
      ]
    },
    {
      "cell_type": "markdown",
      "source": [
        "# buatlah pemrograman berbasis objek padaa soal nomor 1"
      ],
      "metadata": {
        "id": "f-yd9QlKkgaD"
      }
    },
    {
      "cell_type": "code",
      "source": [
        "class FungsiMatematika:\n",
        "    def __init__(self):\n",
        "        pass\n",
        "\n",
        "    def f(self, x):\n",
        "        return 4 ** x\n",
        "\n",
        "    def g(self, x):\n",
        "        return x ** x\n",
        "\n",
        "    def h(self, x):\n",
        "        return 3 + x\n",
        "\n",
        "    def komposisi_objek(self, x):\n",
        "        return self.f(self.g(self.h(x)))\n",
        "\n",
        "# Contoh penggunaan\n",
        "fungsi_matematika = FungsiMatematika()\n",
        "result_objek = fungsi_matematika.komposisi_objek(2)\n",
        "print(\"Hasil komposisi (f ∘ g ∘ h)(2) dengan lambda adalah:\", result_objek)\n"
      ],
      "metadata": {
        "colab": {
          "base_uri": "https://localhost:8080/"
        },
        "id": "Hv6k0a3yio-P",
        "outputId": "c250a631-e410-4f55-db9b-5cfbe228bfc2"
      },
      "execution_count": null,
      "outputs": [
        {
          "output_type": "stream",
          "name": "stdout",
          "text": [
            "Hasil komposisi berbasis objek: 2738248761316017572742348936950010448551572158231779371511420498138539276297788309394191354517654433778305760249669055018654345038982960283040173260517312916290707801820674504366871632600804887963367337263522497825292336532140913808410030791539345419424032061850694542711196274001481398359789911818130649888463151791752429780547244641193312608638152999722631211840673827646616997262935164407810027909383249609045265422952174035491456768893888496923961830419221696465348280014055438553165447953246393547267908926735736893878246590624064523380774652728053757996417828938554196482295448971165496475437853387095634190399912509837356933670123261396478811191241421262493034193313021183420956181216717081868545513920021942580642796112558632389903266880666949210343989829365024474105599321362078321074638405091811240017997510533388875174033541343506776468179253992429037400216227010510981451940845736527038397421672469179155341784115474317896179501263356203326473302831475871635062518572068608761953174215709163510862454592893723775386427499438400294202336786154386609347634745375233076466505495806172092060594145963921181228307048477883816255817344716719634854129222601062360116788810639458446723330064225308353743906876465406644382408619382301724036817398756799298738170782278569658071633306237014715950374153723813558136622846483152909449741391381399776793638349889957165775278429275453407870615300019214044913567652886299492793737053811573216763858783936753122909415990826965860042906636995995036650971826579439450668265147929149343544753413556427163350892776854789102396987172517128962352485156201061670562094756205191570461642458688689506275096417062443317935980620073192797175444117282095687099957030761660644180614070821947348042170423675095783453097990299074095898225321797495260055964103872883081899874454355208544861277083817218702152903385728058864916087114646485217773956890624\n"
          ]
        }
      ]
    },
    {
      "cell_type": "markdown",
      "source": [
        "# berikan analisis komparasi pada 2 soal sebelumnya"
      ],
      "metadata": {
        "id": "XYi3rgz_knix"
      }
    },
    {
      "cell_type": "markdown",
      "source": [
        "**Komparasi Antara Pendekatan Prosedural dan Fungsional dengan Lambda:**\n",
        "\n",
        "1. **Pemrograman Prosedural:**\n",
        "   - **Kelebihan:**\n",
        "     - Lebih mudah dipahami oleh pemula karena menggunakan pendekatan yang mirip dengan langkah-langkah manusia.\n",
        "     - Fungsi-fungsi terpisah, memudahkan pemeliharaan dan pemecahan masalah.\n",
        "\n",
        "   - **Kekurangan:**\n",
        "     - Lebih panjang dan membutuhkan lebih banyak kode dibandingkan dengan pendekatan fungsional.\n",
        "     - Kode mungkin menjadi kompleks jika ada lebih banyak fungsi yang harus digabungkan.\n",
        "\n",
        "2. **Pemrograman Fungsional dengan Lambda:**\n",
        "   - **Kelebihan:**\n",
        "     - Kode lebih singkat dan ringkas, terutama saat menggunakan lambda untuk fungsi sederhana.\n",
        "     - Konsep komposisi fungsi dapat diekspresikan secara langsung dan elegan.\n",
        "\n",
        "   - **Kekurangan:**\n",
        "     - Mungkin sulit dipahami oleh orang yang kurang akrab dengan konsep fungsional atau lambda.\n",
        "     - Kurang eksplicit dalam pemisahan fungsi-fungsi, yang dapat membuat pemeliharaan lebih sulit jika kompleksitas tumbuh.\n",
        "\n",
        "**Pemrograman Berbasis Objek:**\n",
        "   - **Kelebihan:**\n",
        "     - Pemisahan fungsi-fungsi dalam sebuah kelas dapat meningkatkan keterbacaan dan pemeliharaan.\n",
        "     - Objek dapat menyimpan state internal jika diperlukan.\n",
        "\n",
        "   - **Kekurangan:**\n",
        "     - Mungkin terasa berlebihan untuk kasus sederhana, seperti contoh di atas.\n",
        "     - Memerlukan lebih banyak kode dibandingkan dengan pendekatan fungsional.\n",
        "\n",
        "**Kesimpulan:**\n",
        "Pemilihan antara pendekatan prosedural, fungsional, atau berbasis objek tergantung pada kebutuhan proyek, kompleksitas tugas, dan preferensi pengembang. Pendekatan fungsional dengan lambda cenderung lebih ringkas, sementara pendekatan berbasis objek mungkin lebih sesuai untuk proyek-proyek yang memerlukan pemodelan yang lebih kompleks atau mempertahankan state internal."
      ],
      "metadata": {
        "id": "LijtUhs3kq0f"
      }
    },
    {
      "cell_type": "markdown",
      "source": [
        "# buatlah 1 penyelesaian luas segitiga dengan menggunakan pemrograman berorientasi objek dan pemrograman berbasis fungsi. uji dengan membandingkan mana yang tercepat komputasinya"
      ],
      "metadata": {
        "id": "PxAtLUjRoBRh"
      }
    },
    {
      "cell_type": "code",
      "source": [
        "class SegitigaOOP:\n",
        "    def __init__(self, alas, tinggi):\n",
        "        self.alas = alas\n",
        "        self.tinggi = tinggi\n",
        "\n",
        "    def hitung_luas(self):\n",
        "        return 0.5 * self.alas * self.tinggi\n",
        "\n",
        "# Pengujian\n",
        "segitiga_oop = SegitigaOOP(alas=10, tinggi=5)\n",
        "luas_oop = segitiga_oop.hitung_luas()\n",
        "print(\"Luas segitiga berbasis objek:\", luas_oop)"
      ],
      "metadata": {
        "colab": {
          "base_uri": "https://localhost:8080/"
        },
        "id": "lHGwYNg0jyOL",
        "outputId": "f594b364-ee17-43e1-dd67-94de084085fa"
      },
      "execution_count": null,
      "outputs": [
        {
          "output_type": "stream",
          "name": "stdout",
          "text": [
            "Luas segitiga berbasis objek: 25.0\n"
          ]
        }
      ]
    },
    {
      "cell_type": "code",
      "source": [
        "def hitung_luas_segitiga(alas, tinggi):\n",
        "    return 0.5 * alas * tinggi\n",
        "\n",
        "# Pengujian\n",
        "luas_fungsi = hitung_luas_segitiga(alas=10, tinggi=5)\n",
        "print(\"Luas segitiga berbasis fungsi:\", luas_fungsi)"
      ],
      "metadata": {
        "colab": {
          "base_uri": "https://localhost:8080/"
        },
        "id": "FrnvTu32j2qs",
        "outputId": "2adce8e7-35be-443a-faef-09b9089f599b"
      },
      "execution_count": null,
      "outputs": [
        {
          "output_type": "stream",
          "name": "stdout",
          "text": [
            "Luas segitiga berbasis fungsi: 25.0\n"
          ]
        }
      ]
    },
    {
      "cell_type": "code",
      "source": [
        "import timeit\n",
        "\n",
        "# Pengujian Berbasis Objek\n",
        "time_oop = timeit.timeit(\"segitiga_oop.hitung_luas()\", setup=\"from __main__ import SegitigaOOP; segitiga_oop = SegitigaOOP(10, 5)\", number=1000000)\n",
        "\n",
        "# Pengujian Berbasis Fungsi\n",
        "time_fungsi = timeit.timeit(\"hitung_luas_segitiga(10, 5)\", setup=\"from __main__ import hitung_luas_segitiga\", number=1000000)\n",
        "\n",
        "# Hasil Pengujian\n",
        "print(\"Waktu eksekusi berbasis objek:\", time_oop)\n",
        "print(\"Waktu eksekusi berbasis fungsi:\", time_fungsi)"
      ],
      "metadata": {
        "colab": {
          "base_uri": "https://localhost:8080/"
        },
        "id": "eaFEJaBQj4gA",
        "outputId": "4a081a9c-791b-4d85-869f-f091260c1b7b"
      },
      "execution_count": null,
      "outputs": [
        {
          "output_type": "stream",
          "name": "stdout",
          "text": [
            "Waktu eksekusi berbasis objek: 0.3528987749998578\n",
            "Waktu eksekusi berbasis fungsi: 0.29187256899990643\n"
          ]
        }
      ]
    }
  ]
}

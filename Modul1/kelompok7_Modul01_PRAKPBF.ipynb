{
  "cells": [
    {
      "cell_type": "markdown",
      "metadata": {},
      "source": [
        "<h3>Soal1<h3>"
      ]
    },
    {
      "cell_type": "code",
      "execution_count": 6,
      "metadata": {
        "colab": {
          "base_uri": "https://localhost:8080/",
          "height": 199
        },
        "id": "1QEdCeDeqerD",
        "outputId": "d5578095-27be-404c-9a4e-a13b297158ba"
      },
      "outputs": [
        {
          "name": "stdout",
          "output_type": "stream",
          "text": [
            "18446744073709551619\n",
            "time : 0.0\n"
          ]
        }
      ],
      "source": [
        "import time\n",
        "def f(x):\n",
        "  return 4**x\n",
        "\n",
        "def g(x):\n",
        "  return x**x\n",
        "\n",
        "def h(x):\n",
        "  return 3 + x\n",
        "\n",
        "start_time = time.time()\n",
        "# Example usage:\n",
        "composed_function = h(g(f(2)))\n",
        "\n",
        "end_time = time.time()\n",
        "print(composed_function)\n",
        "\n",
        "print(f\"time : {end_time-start_time}\")"
      ]
    },
    {
      "cell_type": "code",
      "execution_count": 14,
      "metadata": {
        "colab": {
          "base_uri": "https://localhost:8080/"
        },
        "id": "uyzy1DqOrxRu",
        "outputId": "c30233f1-edef-42fa-bcb4-e815cc42e785"
      },
      "outputs": [
        {
          "name": "stdout",
          "output_type": "stream",
          "text": [
            "18446744073709551619\n",
            "time : -539.4197092056274\n"
          ]
        }
      ],
      "source": [
        "## Lambda\n",
        "f = lambda x: 4**x\n",
        "g = lambda x: x**x\n",
        "h = lambda x: 3 + x\n",
        "\n",
        "start_time = time.time()\n",
        "# Example usage:\n",
        "composed_function = h(g(f(2)))\n",
        "\n",
        "start_time = time.time()\n",
        "print(composed_function)\n",
        "print(f\"time : {end_time-start_time}\")\n"
      ]
    },
    {
      "cell_type": "markdown",
      "metadata": {},
      "source": [
        "<h3>Soal2<h3>"
      ]
    },
    {
      "cell_type": "code",
      "execution_count": 15,
      "metadata": {
        "colab": {
          "base_uri": "https://localhost:8080/"
        },
        "id": "MlA-1avvsABd",
        "outputId": "3b2fe161-5ab3-496e-826e-bf1e630cbb84"
      },
      "outputs": [
        {
          "name": "stdout",
          "output_type": "stream",
          "text": [
            "18446744073709551619\n",
            "time : -542.1538965702057\n"
          ]
        }
      ],
      "source": [
        "## OOP\n",
        "class Function:\n",
        "  def __init__(self, formula):\n",
        "    self.formula = formula\n",
        "\n",
        "  def __call__(self, x):\n",
        "    return eval(self.formula, {\"x\": x})\n",
        "\n",
        "f = Function(\"4**x\")\n",
        "g = Function(\"x**x\")\n",
        "h = Function(\"3 + x\")\n",
        "\n",
        "# Example usage:\n",
        "start_time = time.time()\n",
        "# Example usage:\n",
        "composed_function = h(g(f(2)))\n",
        "\n",
        "start_time = time.time()\n",
        "print(composed_function)\n",
        "print(f\"time : {end_time-start_time}\")"
      ]
    },
    {
      "cell_type": "markdown",
      "metadata": {},
      "source": [
        "<h3>Soal3<h3>"
      ]
    },
    {
      "cell_type": "markdown",
      "metadata": {},
      "source": [
        "Menggunakan module 'time', diketahui bahwa kecepatan pemrograman prosedural adalah \\ 8.94 * 10^-05 detik yang mana lebih cepat dari pemrograman berbasis fungsional (0.00011229515075683594 detik) ataupun pemrograman berbasis objek (0.00011229515075683594 detik)."
      ]
    },
    {
      "cell_type": "code",
      "execution_count": 17,
      "metadata": {},
      "outputs": [
        {
          "name": "stdout",
          "output_type": "stream",
          "text": [
            "100.0\n",
            "18446744073709551619\n",
            "time : 0.0\n"
          ]
        }
      ],
      "source": [
        "def luas_segitiga(alas, tinggi):\n",
        "  return 0.5 * alas * tinggi\n",
        "\n",
        "# Example usage:\n",
        "print(luas_segitiga(20, 10))\n",
        "\n",
        "start_time = time.time()  \n",
        "end_time = time.time()\n",
        "print(composed_function)\n",
        "print(f\"time : {end_time-start_time}\")"
      ]
    },
    {
      "cell_type": "code",
      "execution_count": 2,
      "metadata": {},
      "outputs": [
        {
          "name": "stdout",
          "output_type": "stream",
          "text": [
            "Area of the triangle: 100.0\n",
            "waktu : 0.0\n"
          ]
        }
      ],
      "source": [
        "import time\n",
        "\n",
        "class Triangle:\n",
        "  \"\"\"\n",
        "  Represents a triangle and its properties.\n",
        "  \"\"\"\n",
        "\n",
        "  def __init__(self, base, height):\n",
        "    \"\"\"\n",
        "    Initializes a Triangle object.\n",
        "\n",
        "    Args:\n",
        "        base: The base of the triangle.\n",
        "        height: The height of the triangle.\n",
        "    \"\"\"\n",
        "    self.base = base\n",
        "    self.height = height\n",
        "\n",
        "  def calculate_area(self):\n",
        "    \"\"\"\n",
        "    Calculates the area of the triangle.\n",
        "\n",
        "    Returns:\n",
        "        The area of the triangle.\n",
        "    \"\"\"\n",
        "\n",
        "    return 0.5 * self.base * self.height\n",
        "\n",
        "# Example usage\n",
        "start_time = time.time()\n",
        "triangle = Triangle(20, 10)\n",
        "area = triangle.calculate_area()\n",
        "print(f\"Area of the triangle: {area}\")\n",
        "end_time= time.time()\n",
        "print(f\"waktu : {end_time-start_time}\")"
      ]
    },
    {
      "cell_type": "code",
      "execution_count": 4,
      "metadata": {},
      "outputs": [
        {
          "name": "stdout",
          "output_type": "stream",
          "text": [
            "Luas segitiga dengan fungsi: 20.0\n"
          ]
        }
      ],
      "source": [
        "import time\n",
        "\n",
        "def hitung_luas_segitiga(alas, tinggi):\n",
        "    return 0.5 * alas * tinggi\n",
        "\n",
        "#example use\n",
        "start_time = time.time()\n",
        "\n",
        "luas = hitung_luas_segitiga(5, 8)\n",
        "print(\"Luas segitiga dengan fungsi:\", luas)"
      ]
    },
    {
      "cell_type": "code",
      "execution_count": null,
      "metadata": {},
      "outputs": [],
      "source": [
        "def bisection_method(f, x0, x1, tol):\n",
        "    while True:\n",
        "        x2 = (x0 + x1) / 2\n",
        "        f_x0 = f(x0)\n",
        "        f_x2 = f(x2)\n",
        "\n",
        "        if abs(f_x2) < tol:\n",
        "            return x2\n",
        "\n",
        "        if f_x0 * f_x2 < 0:\n",
        "            x1 = x2\n",
        "        elif f_x0 * f_x2 > 0:\n",
        "            x0 = x2\n",
        "        else:\n",
        "            return x2\n",
        "\n",
        "# Fungsi yang diberikan: f(x) = x - 2^x\n",
        "f = lambda x: x - 2**x\n",
        "\n",
        "# Initial guesses\n",
        "initial_guess_x0 = 0.1\n",
        "initial_guess_x1 = 0.9\n",
        "\n",
        "# Tolerance\n",
        "tolerance = 1e-5\n",
        "\n",
        "# Menjalankan metode bisection\n",
        "root = bisection_method(f, initial_guess_x0, initial_guess_x1, tolerance)\n",
        "print(\"Root found:\", root)\n"
      ]
    }
  ],
  "metadata": {
    "colab": {
      "provenance": []
    },
    "kernelspec": {
      "display_name": "Python 3",
      "name": "python3"
    },
    "language_info": {
      "codemirror_mode": {
        "name": "ipython",
        "version": 3
      },
      "file_extension": ".py",
      "mimetype": "text/x-python",
      "name": "python",
      "nbconvert_exporter": "python",
      "pygments_lexer": "ipython3",
      "version": "3.11.4"
    }
  },
  "nbformat": 4,
  "nbformat_minor": 0
}

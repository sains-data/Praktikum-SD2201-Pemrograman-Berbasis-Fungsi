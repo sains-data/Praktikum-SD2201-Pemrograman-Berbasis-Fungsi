{
  "nbformat": 4,
  "nbformat_minor": 0,
  "metadata": {
    "colab": {
      "provenance": []
    },
    "kernelspec": {
      "name": "python3",
      "display_name": "Python 3"
    },
    "language_info": {
      "name": "python"
    }
  },
  "cells": [
    {
      "cell_type": "markdown",
      "source": [
        "# Dataset\n",
        "**Internet**\n",
        "1. Data Kelurahan,kecamatan,dll\n",
        "2. Wordlist Indonesia (kata sifat, kata benda, dll)\n",
        "3. Nama orang yang umum di Indonesia\n",
        "\n",
        "*tambahan*\n",
        "1. layanan email\n",
        "2. prefix tempat\n",
        "3. prefix administrasi"
      ],
      "metadata": {
        "id": "xDtV25HCIB9U"
      }
    },
    {
      "cell_type": "code",
      "execution_count": null,
      "metadata": {
        "id": "fo2ybQJ1GWsb"
      },
      "outputs": [],
      "source": [
        "import pandas as pd\n",
        "\n",
        "# Data daerah\n",
        "df = pd.read_csv(\"/content/daerah.csv\")\n",
        "\n",
        "# Data wordlist indonesia\n",
        "fword = open(\"/content/wordlist.txt\",\"r\")\n",
        "word = fword.read().split(\"\\n\")\n",
        "\n",
        "# Data nama orang di indonesia\n",
        "fNama = open(\"/content/nama.txt\",\"r\")\n",
        "nama = fNama.read().split(\"\\n\")\n",
        "# Data layanan email\n",
        "email = ['@gmail.com','@yahoo.com','@outlook.com']\n",
        "# Lokasi tempat\n",
        "tempat = [\"Perumahan\",\"Jalan\",\"Gang\",\"Komplek\",\"Gedung\"]\n",
        "# Administrasi daerah Indonesia\n",
        "administrasi = [\"Kelurahan\",\"Kecamatan\",\"Kota/Kabupaten\",\"Provinsi\",\"Kode Pos\"]"
      ]
    },
    {
      "cell_type": "markdown",
      "source": [
        "## Fungsi tambahan"
      ],
      "metadata": {
        "id": "fDOg4TGO0Jpj"
      }
    },
    {
      "cell_type": "code",
      "source": [
        "# membuat kapital perkalimat\n",
        "kapital = lambda x:x[0].upper()+x[1:]\n",
        "# menggabungkan list\n",
        "merge = lambda lst,s=\"\":s.join([str(v) for v in lst])"
      ],
      "metadata": {
        "id": "i3Yd-27zQBKs"
      },
      "execution_count": null,
      "outputs": []
    },
    {
      "cell_type": "markdown",
      "source": [],
      "metadata": {
        "id": "6spJJ1Qn3jCy"
      }
    },
    {
      "cell_type": "code",
      "source": [
        "import random as rd\n",
        "\n",
        "# Metode/Fungsi\n",
        "# mengacak list dengan melakukan acakan berdasarkan panjang list\n",
        "# output: isi dari list\n",
        "acakList = lambda lst: lst[rd.randint(0,len(lst)-1)]\n",
        "\n",
        "# mengacak index\n",
        "# output: index list\n",
        "acakIndex = lambda lst: rd.randint(0,len(lst)-1)\n",
        "\n",
        "# mengacak huruf berdasarkan list huruf A sampai Z yang digenerate dengan mengubah unicode menjadi karakter huruf\n",
        "# output: string huruf\n",
        "acakHuruf = lambda: acakList([chr(i+65) for i in range(26)])\n",
        "\n",
        "# mengacak dataframe daerah dan mengubahnya kedalam satu list\n",
        "acakDaerah = lambda state: state.iloc[acakIndex(state)].to_list()\n",
        "\n",
        "# mengacak list nama berdasarkan dataset nama\n",
        "acakNama = lambda: acakList(nama)\n",
        "\n",
        "# mengacak angka dan mengubahnya menjadi string menggunakan fungsi str dan random\n",
        "acakAngka = lambda n: str(rd.randint(1,n))\n",
        "\n",
        "# menggabungkan 2 list menjadi 1 string\n",
        "gabungList = lambda lst1,lst2: list(map(lambda x: merge(x,' '), zip(lst2, lst1)))\n",
        "\n",
        "def generate():\n",
        "\n",
        "  # Generate 12 angka untuk nomor telepon\n",
        "  # format nomor telepon : +628<<9 angka acak>>\n",
        "  noTelepon = [\"+628\"]+[acakAngka(9) for _ in range(9)]\n",
        "  finalTelepon = merge(noTelepon)\n",
        "\n",
        "  # Generate 3 kombinasi nama\n",
        "  # format nama : <<depan>><<tengah>><<akhir>>\n",
        "  # contoh : Rian jim saragih\n",
        "  namaOrang = list(map(kapital,[acakNama() for _ in range(3)]))\n",
        "  finalNama = merge(namaOrang,' ')\n",
        "\n",
        "  # Generate daerah\n",
        "  # format : Kelurahan, Kecamatan, Kota/Kabupaten, Provinsi, Kodepos\n",
        "  # contoh : Kelurahan Muara Sekalo, Kecamatan Sumay, Kota/Kabupaten Tebo, Provinsi Jambi, Kode Pos 37573\n",
        "  finalDaerah = acakDaerah(df)[::-1]\n",
        "  finalDaerah = finalDaerah[1:]+[finalDaerah[0]]\n",
        "  finalDaerah = merge(gabungList(finalDaerah,administrasi),', ')\n",
        "\n",
        "  # Generate email\n",
        "  # format email : <<Nama>><<3 angka acak>>@<<email provider.com>>\n",
        "  # contoh : jim123@gmail.com\n",
        "  finalEmail = f\"{acakList(namaOrang)}{merge([acakAngka(9) for _ in range(3)])}{acakList(email)}\"\n",
        "\n",
        "  # Generate nama jalan\n",
        "  # format nama jalan <<Perumahan/Gang/Jalan/dll>><<wordlist>>\n",
        "  finalNamaJalan = f\"{acakList(tempat)} {kapital(acakList(word))}\"\n",
        "  # format nama blok Blok <<huruf acak>><<angka acak>> No <<angka acak>>, RT <<angka acak>>, RW <<angka acak>>\n",
        "  finalBlok = f\"Blok {acakHuruf()}{acakAngka(10)} No {acakAngka(20)}, RT {acakAngka(10)} RW {acakAngka(10)}\"\n",
        "  # contoh: Jalan Tari, Blok Y10 No 3, RT 5 RW 3\n",
        "\n",
        "  return {\n",
        "      \"nama\":finalNama,\n",
        "      \"email\":finalEmail,\n",
        "      \"telepon\":finalTelepon,\n",
        "      \"alamat\":f\"{finalNamaJalan}, {finalBlok}. {finalDaerah}\"\n",
        "  }"
      ],
      "metadata": {
        "id": "zbu-LOUM9A2R"
      },
      "execution_count": null,
      "outputs": []
    },
    {
      "cell_type": "code",
      "source": [
        "#@title Generate Data Sintesis Otomatis, geser slider dan run\n",
        "# @markdown ## Total data sintesis\n",
        "total = 100 # @param {type:\"slider\", min:0, max:100, step:1}\n",
        "print(\"Total\",total,\"data:\")\n",
        "print(\"===========\")\n",
        "for i in range(total):\n",
        "  print(generate())"
      ],
      "metadata": {
        "colab": {
          "base_uri": "https://localhost:8080/"
        },
        "id": "6HvSK6R7GEK4",
        "outputId": "a2cef3bc-2344-49f7-bb4f-0a0c80d48eab"
      },
      "execution_count": null,
      "outputs": [
        {
          "output_type": "stream",
          "name": "stdout",
          "text": [
            "Total 100 data:\n",
            "===========\n",
            "{'nama': 'Husna Dono Siska', 'email': 'Dono743@yahoo.com', 'telepon': '+628924337671', 'alamat': 'Gang Mukun, Blok X8 No 11, RT 9 RW 6. Kelurahan Ngluwar, Kecamatan Ngluwar, Kota/Kabupaten Magelang, Provinsi Jawa Tengah, Kode Pos 56485.0'}\n",
            "{'nama': 'Helmi Luthfi Puspa', 'email': 'Luthfi477@gmail.com', 'telepon': '+628562516787', 'alamat': 'Jalan Jeruji, Blok G8 No 9, RT 4 RW 7. Kelurahan Karang Anyar, Kecamatan Tanjung Palas, Kota/Kabupaten Bulungan (Bulongan), Provinsi Kalimantan Utara, Kode Pos 77214.0'}\n",
            "{'nama': 'Yulianti Desty Erni', 'email': 'Erni294@gmail.com', 'telepon': '+628479138319', 'alamat': 'Jalan Ceking, Blok T3 No 6, RT 3 RW 8. Kelurahan Moti Kota, Kecamatan Moti (Pulau Moti), Kota/Kabupaten Ternate, Provinsi Maluku Utara, Kode Pos 97751.0'}\n",
            "{'nama': 'Silvia Yanti Wiwik', 'email': 'Yanti342@gmail.com', 'telepon': '+628737633669', 'alamat': 'Komplek Mendapati, Blok Y7 No 20, RT 4 RW 5. Kelurahan Gledeg, Kecamatan Karanganom, Kota/Kabupaten Klaten, Provinsi Jawa Tengah, Kode Pos 57475.0'}\n",
            "{'nama': 'Kiki Yayuk Hendy', 'email': 'Hendy328@gmail.com', 'telepon': '+628884536588', 'alamat': 'Perumahan Cenangau, Blok C5 No 13, RT 1 RW 5. Kelurahan Gadingan, Kecamatan Mojolaban, Kota/Kabupaten Sukoharjo, Provinsi Jawa Tengah, Kode Pos 57554.0'}\n",
            "{'nama': 'Supriyanto Merry Adinda', 'email': 'Supriyanto885@gmail.com', 'telepon': '+628688424924', 'alamat': 'Perumahan Mengairi, Blok Z7 No 4, RT 9 RW 9. Kelurahan Krowe, Kecamatan Lembeyan, Kota/Kabupaten Magetan, Provinsi Jawa Timur, Kode Pos 63372.0'}\n",
            "{'nama': 'Ike Niken Anggraeni', 'email': 'Niken429@gmail.com', 'telepon': '+628848367664', 'alamat': 'Jalan Eksperimen, Blok W1 No 4, RT 1 RW 3. Kelurahan Pejawaran, Kecamatan Pejawaran, Kota/Kabupaten Banjarnegara, Provinsi Jawa Tengah, Kode Pos 53454.0'}\n",
            "{'nama': 'Anindita Prasetya Dede', 'email': 'Prasetya317@outlook.com', 'telepon': '+628971681633', 'alamat': 'Perumahan Pengusut, Blok F1 No 8, RT 6 RW 6. Kelurahan Dragan, Kecamatan Musuk, Kota/Kabupaten Boyolali, Provinsi Jawa Tengah, Kode Pos 57331.0'}\n",
            "{'nama': 'Yani Puspa Dita', 'email': 'Yani337@outlook.com', 'telepon': '+628442762932', 'alamat': 'Komplek Menyingkirkan, Blok V5 No 20, RT 6 RW 1. Kelurahan Medangsari, Kecamatan Arut Selatan, Kota/Kabupaten Kotawaringin Barat, Provinsi Kalimantan Tengah, Kode Pos 74117.0'}\n",
            "{'nama': 'Aprilia Megawati Lenny', 'email': 'Lenny799@yahoo.com', 'telepon': '+628543538182', 'alamat': 'Jalan Kabul, Blok Y7 No 6, RT 8 RW 1. Kelurahan Penago Baru, Kecamatan Ilir Talo, Kota/Kabupaten Seluma, Provinsi Bengkulu, Kode Pos 38887.0'}\n",
            "{'nama': 'Parulian Setyowati Fuad', 'email': 'Setyowati816@gmail.com', 'telepon': '+628189724956', 'alamat': 'Jalan Membujur, Blok C4 No 6, RT 1 RW 5. Kelurahan Tendah, Kecamatan Cermin Nan Gadang, Kota/Kabupaten Sarolangun, Provinsi Jambi, Kode Pos 37382.0'}\n",
            "{'nama': 'Julia Siagian Rachmad', 'email': 'Siagian847@gmail.com', 'telepon': '+628815585415', 'alamat': 'Gang Pencinta, Blok M8 No 10, RT 8 RW 5. Kelurahan Kebet, Kecamatan Lamongan, Kota/Kabupaten Lamongan, Provinsi Jawa Timur, Kode Pos 62218.0'}\n",
            "{'nama': 'Asri Prita Ika', 'email': 'Ika465@gmail.com', 'telepon': '+628582659798', 'alamat': 'Gang Pertengkaran, Blok C5 No 3, RT 7 RW 9. Kelurahan Cidadap, Kecamatan Curugbitung, Kota/Kabupaten Lebak, Provinsi Banten, Kode Pos 42381.0'}\n",
            "{'nama': 'Pertiwi Fuad Arya', 'email': 'Arya457@gmail.com', 'telepon': '+628425429814', 'alamat': 'Perumahan Tepos, Blok S4 No 14, RT 5 RW 6. Kelurahan Cijagra, Kecamatan Lengkong, Kota/Kabupaten Bandung, Provinsi Jawa Barat, Kode Pos 40265.0'}\n",
            "{'nama': 'Henny Rizki Merry', 'email': 'Rizki534@yahoo.com', 'telepon': '+628187759149', 'alamat': 'Jalan Pos, Blok F10 No 6, RT 3 RW 3. Kelurahan Napal Jungur, Kecamatan Lubuk Sandi, Kota/Kabupaten Seluma, Provinsi Bengkulu, Kode Pos 38882.0'}\n",
            "{'nama': 'Indri Denny Baskoro', 'email': 'Indri799@outlook.com', 'telepon': '+628794812499', 'alamat': 'Gang Otentik, Blok Q9 No 5, RT 9 RW 2. Kelurahan Kedungpapar, Kecamatan Sumobito, Kota/Kabupaten Jombang, Provinsi Jawa Timur, Kode Pos 61483.0'}\n",
            "{'nama': 'Didi Kurniati Andi', 'email': 'Didi634@outlook.com', 'telepon': '+628753239921', 'alamat': 'Gang Tituler, Blok U8 No 14, RT 1 RW 4. Kelurahan Bringin, Kecamatan Godong, Kota/Kabupaten Grobogan, Provinsi Jawa Tengah, Kode Pos 58162.0'}\n",
            "{'nama': 'Husnul Lestari Amir', 'email': 'Amir545@outlook.com', 'telepon': '+628173956358', 'alamat': 'Gang Kelautan, Blok F8 No 5, RT 3 RW 6. Kelurahan Ciketak, Kecamatan Kadugede, Kota/Kabupaten Kuningan, Provinsi Jawa Barat, Kode Pos 45561.0'}\n",
            "{'nama': 'Silvia Rosita Bobby', 'email': 'Rosita133@gmail.com', 'telepon': '+628718932813', 'alamat': 'Komplek Berhubungan, Blok A2 No 7, RT 5 RW 1. Kelurahan Tanjung Untung, Kecamatan Tewah, Kota/Kabupaten Gunung Mas, Provinsi Kalimantan Tengah, Kode Pos 74552.0'}\n",
            "{'nama': 'Andika Lukman Syarifah', 'email': 'Syarifah895@gmail.com', 'telepon': '+628437744663', 'alamat': 'Komplek Ortodoksi, Blok O3 No 3, RT 3 RW 9. Kelurahan Erersin, Kecamatan Aru Selatan Utara, Kota/Kabupaten Kepulauan Aru, Provinsi Maluku, Kode Pos 97668.0'}\n",
            "{'nama': 'Rahayu Nurmala Wibisono', 'email': 'Wibisono655@gmail.com', 'telepon': '+628763691145', 'alamat': 'Gedung Pencerobohan, Blok O2 No 17, RT 4 RW 10. Kelurahan Sekanak Raya, Kecamatan Belakang Padang, Kota/Kabupaten Batam, Provinsi Kepulauan Riau, Kode Pos 29416.0'}\n",
            "{'nama': 'Aditya Nugroho Irawati', 'email': 'Nugroho115@outlook.com', 'telepon': '+628231175733', 'alamat': 'Komplek Maklumat, Blok D7 No 2, RT 6 RW 10. Kelurahan Kiarapayung, Kecamatan Rancah, Kota/Kabupaten Ciamis, Provinsi Jawa Barat, Kode Pos 46387.0'}\n",
            "{'nama': 'Muchamad Widyastuti Imam', 'email': 'Widyastuti347@yahoo.com', 'telepon': '+628441745471', 'alamat': 'Jalan Memegas, Blok D7 No 17, RT 5 RW 2. Kelurahan Mulya Asri (Mulyo Asri), Kecamatan Tulang Bawang Tengah, Kota/Kabupaten Tulang Bawang Barat, Provinsi Lampung, Kode Pos 34693.0'}\n",
            "{'nama': 'Tarigan Cahyono Triana', 'email': 'Cahyono951@gmail.com', 'telepon': '+628624175699', 'alamat': 'Gedung Ikhtiar, Blok N8 No 8, RT 7 RW 2. Kelurahan Sudimoro, Kecamatan Semaka, Kota/Kabupaten Tanggamus, Provinsi Lampung, Kode Pos 35386.0'}\n",
            "{'nama': 'Arifin Ricky Andika', 'email': 'Ricky949@yahoo.com', 'telepon': '+628665664918', 'alamat': 'Gedung Deru, Blok U10 No 16, RT 3 RW 4. Kelurahan Salamanmloyo, Kecamatan Semarang Barat, Kota/Kabupaten Semarang, Provinsi Jawa Tengah, Kode Pos 50149.0'}\n",
            "{'nama': 'Wicaksono Apriani Yulianti', 'email': 'Wicaksono673@outlook.com', 'telepon': '+628745655779', 'alamat': 'Jalan Usiran, Blok L1 No 19, RT 3 RW 10. Kelurahan Timpah, Kecamatan Timpah, Kota/Kabupaten Kapuas, Provinsi Kalimantan Tengah, Kode Pos 73554.0'}\n",
            "{'nama': 'Mutiara Aryo Antonius', 'email': 'Antonius274@gmail.com', 'telepon': '+628912484565', 'alamat': 'Gedung Teratasi, Blok K7 No 17, RT 2 RW 7. Kelurahan Sukowilangun, Kecamatan Kalipare, Kota/Kabupaten Malang, Provinsi Jawa Timur, Kode Pos 65166.0'}\n",
            "{'nama': 'Hermanto Merry Bunga', 'email': 'Merry271@gmail.com', 'telepon': '+628293551693', 'alamat': 'Gang Pembaharuan, Blok Z1 No 7, RT 9 RW 9. Kelurahan Kunir, Kecamatan Sulang, Kota/Kabupaten Rembang, Provinsi Jawa Tengah, Kode Pos 59254.0'}\n",
            "{'nama': 'Syam Tommy Meita', 'email': 'Tommy315@gmail.com', 'telepon': '+628121413963', 'alamat': 'Gang Roket, Blok M5 No 14, RT 7 RW 9. Kelurahan Tumbang Puroh/Puruh, Kecamatan Kapuas Hulu, Kota/Kabupaten Kapuas, Provinsi Kalimantan Tengah, Kode Pos 74581.0'}\n",
            "{'nama': 'Samuel Heru Slamet', 'email': 'Heru235@gmail.com', 'telepon': '+628347894528', 'alamat': 'Gang Berbalas, Blok V10 No 3, RT 1 RW 6. Kelurahan Parakan, Kecamatan Ciomas, Kota/Kabupaten Bogor, Provinsi Jawa Barat, Kode Pos 16610.0'}\n",
            "{'nama': 'Jaya Setiadi Puspasari', 'email': 'Puspasari433@outlook.com', 'telepon': '+628781199642', 'alamat': 'Jalan Cakap, Blok M4 No 20, RT 10 RW 1. Kelurahan Ponowaren, Kecamatan Tawangsari, Kota/Kabupaten Sukoharjo, Provinsi Jawa Tengah, Kode Pos 57561.0'}\n",
            "{'nama': 'Hani Saputra Cahya', 'email': 'Saputra968@yahoo.com', 'telepon': '+628993347142', 'alamat': 'Komplek Pengadaan, Blok L7 No 6, RT 5 RW 6. Kelurahan Pangadegan, Kecamatan Wangon, Kota/Kabupaten Banyumas, Provinsi Jawa Tengah, Kode Pos 53176.0'}\n",
            "{'nama': 'Debora Suci Bangun', 'email': 'Suci773@outlook.com', 'telepon': '+628169948147', 'alamat': 'Gang Forklif, Blok A7 No 15, RT 9 RW 2. Kelurahan Pagerwangi, Kecamatan Balapulang, Kota/Kabupaten Tegal, Provinsi Jawa Tengah, Kode Pos 52464.0'}\n",
            "{'nama': 'Lilik Adi Ramadhani', 'email': 'Lilik679@yahoo.com', 'telepon': '+628183397726', 'alamat': 'Gang Berseni, Blok I1 No 5, RT 3 RW 9. Kelurahan Sukawening, Kecamatan Ciwidey, Kota/Kabupaten Bandung, Provinsi Jawa Barat, Kode Pos 40973.0'}\n",
            "{'nama': 'Satria Kartikasari Ani', 'email': 'Kartikasari657@yahoo.com', 'telepon': '+628696421599', 'alamat': 'Gedung Kerja, Blok D8 No 2, RT 10 RW 3. Kelurahan Gunung Kaler, Kecamatan Gunung Kaler, Kota/Kabupaten Tangerang, Provinsi Banten, Kode Pos 15620.0'}\n",
            "{'nama': 'Gunawan Wiwin Wibowo', 'email': 'Wibowo444@gmail.com', 'telepon': '+628159268291', 'alamat': 'Perumahan Penitisan, Blok E2 No 1, RT 5 RW 10. Kelurahan Batuampar, Kecamatan Guluk Guluk, Kota/Kabupaten Sumenep, Provinsi Jawa Timur, Kode Pos 69463.0'}\n",
            "{'nama': 'Suryani Nurhasanah Sembiring', 'email': 'Sembiring448@outlook.com', 'telepon': '+628758495127', 'alamat': 'Komplek Imunitas, Blok M5 No 13, RT 8 RW 2. Kelurahan Sukorejo, Kecamatan Sidayu, Kota/Kabupaten Gresik, Provinsi Jawa Timur, Kode Pos 61153.0'}\n",
            "{'nama': 'Reny Yuyun Baskoro', 'email': 'Baskoro172@gmail.com', 'telepon': '+628636624798', 'alamat': 'Gedung Tampal, Blok H1 No 1, RT 8 RW 4. Kelurahan Bakam, Kecamatan Bakam, Kota/Kabupaten Bangka, Provinsi Bangka Belitung, Kode Pos 33252.0'}\n",
            "{'nama': 'Ira Saragih Sofyan', 'email': 'Sofyan263@yahoo.com', 'telepon': '+628524456496', 'alamat': 'Perumahan Pelicin, Blok T5 No 2, RT 7 RW 5. Kelurahan Dinuk, Kecamatan Kramat, Kota/Kabupaten Tegal, Provinsi Jawa Tengah, Kode Pos 52181.0'}\n",
            "{'nama': 'Husnul Dian Anang', 'email': 'Husnul818@outlook.com', 'telepon': '+628237955455', 'alamat': 'Gang Pungkang, Blok F5 No 8, RT 8 RW 2. Kelurahan Jatisono, Kecamatan Gajah, Kota/Kabupaten Demak, Provinsi Jawa Tengah, Kode Pos 59581.0'}\n",
            "{'nama': 'Lia Vera Citra', 'email': 'Citra694@yahoo.com', 'telepon': '+628487351257', 'alamat': 'Gang Mematahkan, Blok R7 No 19, RT 5 RW 10. Kelurahan Bendungan, Kecamatan Cilegon, Kota/Kabupaten Cilegon, Provinsi Banten, Kode Pos 42417.0'}\n",
            "{'nama': 'Sarah Haris Yogi', 'email': 'Yogi837@yahoo.com', 'telepon': '+628958635772', 'alamat': 'Jalan Separatisme, Blok W7 No 3, RT 6 RW 2. Kelurahan Bangun Sari, Kecamatan Bekri, Kota/Kabupaten Lampung Tengah, Provinsi Lampung, Kode Pos 34162.0'}\n",
            "{'nama': 'Nurina Nani Helmi', 'email': 'Nani475@gmail.com', 'telepon': '+628548864356', 'alamat': 'Gedung Menguati, Blok Z4 No 12, RT 2 RW 8. Kelurahan Tunggulrejo, Kecamatan Grabag, Kota/Kabupaten Purworejo, Provinsi Jawa Tengah, Kode Pos 54265.0'}\n",
            "{'nama': 'Apriyani Hastuti Nanda', 'email': 'Nanda841@outlook.com', 'telepon': '+628928796413', 'alamat': 'Perumahan Kerincing, Blok P3 No 4, RT 3 RW 7. Kelurahan Tawangsari, Kecamatan Tembarak, Kota/Kabupaten Temanggung, Provinsi Jawa Tengah, Kode Pos 56261.0'}\n",
            "{'nama': 'Nurjanah Arya Suci', 'email': 'Nurjanah347@gmail.com', 'telepon': '+628542269347', 'alamat': 'Gang Intisari, Blok L5 No 12, RT 6 RW 1. Kelurahan Tanjungbaru, Kecamatan Cikarang Timur, Kota/Kabupaten Bekasi, Provinsi Jawa Barat, Kode Pos 17530.0'}\n",
            "{'nama': 'Putro Astria Irna', 'email': 'Astria291@outlook.com', 'telepon': '+628229849742', 'alamat': 'Jalan Belandung, Blok M5 No 15, RT 8 RW 9. Kelurahan Cambai Selatan, Kecamatan Namang, Kota/Kabupaten Bangka Tengah, Provinsi Bangka Belitung, Kode Pos 33684.0'}\n",
            "{'nama': 'Indriani Andhika Mayasari', 'email': 'Indriani945@yahoo.com', 'telepon': '+628539283516', 'alamat': 'Gang Interferensi, Blok S7 No 1, RT 5 RW 6. Kelurahan Kauman, Kecamatan Semarang Tengah, Kota/Kabupaten Semarang, Provinsi Jawa Tengah, Kode Pos 50188.0'}\n",
            "{'nama': 'Adinda Siagian Achmad', 'email': 'Achmad834@gmail.com', 'telepon': '+628135967141', 'alamat': 'Jalan Argumen, Blok I10 No 20, RT 7 RW 2. Kelurahan Ringinpitu, Kecamatan Kedungwaru, Kota/Kabupaten Tulungagung, Provinsi Jawa Timur, Kode Pos 66223.0'}\n",
            "{'nama': 'Endang Fitriana Rahmat', 'email': 'Rahmat714@yahoo.com', 'telepon': '+628198986771', 'alamat': 'Gang Mengamankan, Blok C7 No 16, RT 4 RW 2. Kelurahan Samudra Kulon, Kecamatan Gumelar, Kota/Kabupaten Banyumas, Provinsi Jawa Tengah, Kode Pos 53165.0'}\n",
            "{'nama': 'Mutiara Nanik Mariana', 'email': 'Mutiara829@yahoo.com', 'telepon': '+628994666599', 'alamat': 'Gedung Pertama, Blok D2 No 2, RT 1 RW 3. Kelurahan Gunungbau, Kecamatan Kintamani, Kota/Kabupaten Bangli, Provinsi Bali, Kode Pos 80652.0'}\n",
            "{'nama': 'Deri Karina Dedy', 'email': 'Karina874@gmail.com', 'telepon': '+628575643619', 'alamat': 'Gang Tega, Blok L3 No 3, RT 1 RW 9. Kelurahan Gamel, Kecamatan Plered, Kota/Kabupaten Cirebon, Provinsi Jawa Barat, Kode Pos 45154.0'}\n",
            "{'nama': 'Wawan Atik Veronika', 'email': 'Veronika635@yahoo.com', 'telepon': '+628216261529', 'alamat': 'Jalan Mencubit, Blok Z6 No 18, RT 5 RW 4. Kelurahan Harjowinangun, Kecamatan Balapulang, Kota/Kabupaten Tegal, Provinsi Jawa Tengah, Kode Pos 52464.0'}\n",
            "{'nama': 'Risa Peter Juli', 'email': 'Risa452@gmail.com', 'telepon': '+628177885172', 'alamat': 'Komplek Kemarau, Blok Q7 No 7, RT 4 RW 4. Kelurahan Sampih, Kecamatan Wonopringgo, Kota/Kabupaten Pekalongan, Provinsi Jawa Tengah, Kode Pos 51181.0'}\n",
            "{'nama': 'Emy Siregar Ningsih', 'email': 'Siregar314@yahoo.com', 'telepon': '+628861127231', 'alamat': 'Gang Meler, Blok S3 No 3, RT 7 RW 6. Kelurahan Kintap Pura (Kintapura), Kecamatan Kintap, Kota/Kabupaten Tanah Laut, Provinsi Kalimantan Selatan, Kode Pos 70883.0'}\n",
            "{'nama': 'Cahyani Trisnawati Ida', 'email': 'Ida794@yahoo.com', 'telepon': '+628435136272', 'alamat': 'Perumahan Berbudaya, Blok R2 No 18, RT 2 RW 10. Kelurahan Sambitan, Kecamatan Pakel, Kota/Kabupaten Tulungagung, Provinsi Jawa Timur, Kode Pos 66273.0'}\n",
            "{'nama': 'Febri Juli Atika', 'email': 'Febri676@yahoo.com', 'telepon': '+628898869521', 'alamat': 'Gedung Penjahat, Blok V8 No 7, RT 9 RW 1. Kelurahan Tumpukrenteng, Kecamatan Turen, Kota/Kabupaten Malang, Provinsi Jawa Timur, Kode Pos 65175.0'}\n",
            "{'nama': 'Andy Citra Friska', 'email': 'Andy127@yahoo.com', 'telepon': '+628223263784', 'alamat': 'Perumahan Pembarut, Blok G5 No 5, RT 4 RW 8. Kelurahan Long Paliran, Kecamatan Pujungan, Kota/Kabupaten Malinau, Provinsi Kalimantan Utara, Kode Pos 77562.0'}\n",
            "{'nama': 'Ferry Yolanda Anggia', 'email': 'Anggia115@yahoo.com', 'telepon': '+628279214546', 'alamat': 'Perumahan Santet, Blok C1 No 7, RT 2 RW 5. Kelurahan Bolihuangga, Kecamatan Limboto, Kota/Kabupaten Gorontalo, Provinsi Gorontalo, Kode Pos 96218.0'}\n",
            "{'nama': 'Tia Anggun Mutia', 'email': 'Tia225@outlook.com', 'telepon': '+628629854391', 'alamat': 'Jalan Cuti, Blok T1 No 19, RT 3 RW 4. Kelurahan Petak, Kecamatan Gianyar, Kota/Kabupaten Gianyar, Provinsi Bali, Kode Pos 80515.0'}\n",
            "{'nama': 'Artha Alif Tria', 'email': 'Alif768@yahoo.com', 'telepon': '+628668818342', 'alamat': 'Jalan Monyong, Blok J6 No 2, RT 9 RW 9. Kelurahan Sawahan, Kecamatan Juwiring, Kota/Kabupaten Klaten, Provinsi Jawa Tengah, Kode Pos 57472.0'}\n",
            "{'nama': 'Larasati Eka Megawati', 'email': 'Larasati914@yahoo.com', 'telepon': '+628923348228', 'alamat': 'Jalan Bersimpati, Blok J1 No 6, RT 3 RW 2. Kelurahan Napalan, Kecamatan Talo Kecil, Kota/Kabupaten Seluma, Provinsi Bengkulu, Kode Pos 38888.0'}\n",
            "{'nama': 'Anwar Mita Dahlia', 'email': 'Dahlia845@yahoo.com', 'telepon': '+628211881469', 'alamat': 'Gedung Luhung, Blok T1 No 7, RT 8 RW 10. Kelurahan Danau Kedap, Kecamatan Maro Sebo, Kota/Kabupaten Muaro Jambi, Provinsi Jambi, Kode Pos 36382.0'}\n",
            "{'nama': 'Rama Eva Mila', 'email': 'Rama748@gmail.com', 'telepon': '+628858173294', 'alamat': 'Gedung Sepuak, Blok H8 No 16, RT 8 RW 4. Kelurahan Tlogosono, Kecamatan Gebang, Kota/Kabupaten Purworejo, Provinsi Jawa Tengah, Kode Pos 54191.0'}\n",
            "{'nama': 'Isnaini Cahyani Luqman', 'email': 'Isnaini447@yahoo.com', 'telepon': '+628578595591', 'alamat': 'Gang Mengarut, Blok L10 No 3, RT 5 RW 1. Kelurahan Mijen, Kecamatan Mijen, Kota/Kabupaten Semarang, Provinsi Jawa Tengah, Kode Pos 50519.0'}\n",
            "{'nama': 'Arief Rachmat Himawan', 'email': 'Rachmat574@outlook.com', 'telepon': '+628238654868', 'alamat': 'Jalan Berkelintaran, Blok N8 No 1, RT 10 RW 7. Kelurahan Kalongsawah, Kecamatan Jasinga, Kota/Kabupaten Bogor, Provinsi Jawa Barat, Kode Pos 16670.0'}\n",
            "{'nama': 'Anggara Anis Ismail', 'email': 'Ismail195@gmail.com', 'telepon': '+628536822231', 'alamat': 'Komplek Kafir, Blok K3 No 19, RT 7 RW 8. Kelurahan Mekarpawitan, Kecamatan Paseh, Kota/Kabupaten Bandung, Provinsi Jawa Barat, Kode Pos 40383.0'}\n",
            "{'nama': 'Jaya Galih Lia', 'email': 'Galih484@outlook.com', 'telepon': '+628865533481', 'alamat': 'Jalan Pertunjukan, Blok K10 No 16, RT 5 RW 4. Kelurahan Penyengkuang, Kecamatan Sokan, Kota/Kabupaten Melawi, Provinsi Kalimantan Barat, Kode Pos 79675.0'}\n",
            "{'nama': 'Suryo Aisyah Wibowo', 'email': 'Aisyah149@yahoo.com', 'telepon': '+628293955591', 'alamat': 'Perumahan Memiting, Blok R5 No 1, RT 2 RW 4. Kelurahan Maindu, Kecamatan Montong, Kota/Kabupaten Tuban, Provinsi Jawa Timur, Kode Pos 62357.0'}\n",
            "{'nama': 'Rendy Hartati Anisa', 'email': 'Rendy119@yahoo.com', 'telepon': '+628291694528', 'alamat': 'Jalan Berganda, Blok E1 No 17, RT 9 RW 10. Kelurahan Kedungrejo, Kecamatan Rembang, Kota/Kabupaten Rembang, Provinsi Jawa Tengah, Kode Pos 59219.0'}\n",
            "{'nama': 'Adipati Vita Irwan', 'email': 'Irwan763@outlook.com', 'telepon': '+628786569298', 'alamat': 'Gang Berdekap, Blok T2 No 20, RT 2 RW 3. Kelurahan Panawa, Kecamatan Pamulihan, Kota/Kabupaten Garut, Provinsi Jawa Barat, Kode Pos 44168.0'}\n",
            "{'nama': 'Riski Galuh Aminah', 'email': 'Riski286@gmail.com', 'telepon': '+628622652642', 'alamat': 'Gedung Membantai, Blok B10 No 18, RT 2 RW 8. Kelurahan Liuk Bulu, Kecamatan Sembakung, Kota/Kabupaten Nunukan, Provinsi Kalimantan Utara, Kode Pos 77453.0'}\n",
            "{'nama': 'Indri Wahyuni Supriyanto', 'email': 'Supriyanto866@yahoo.com', 'telepon': '+628431789927', 'alamat': 'Perumahan Pinang, Blok I7 No 4, RT 10 RW 4. Kelurahan Karangpandan, Kecamatan Pakisaji, Kota/Kabupaten Malang, Provinsi Jawa Timur, Kode Pos 65162.0'}\n",
            "{'nama': 'Suryani Nita Emi', 'email': 'Nita132@gmail.com', 'telepon': '+628445947715', 'alamat': 'Komplek Melangit, Blok A7 No 6, RT 1 RW 6. Kelurahan Mekarsari, Kecamatan Cimanggis, Kota/Kabupaten Depok, Provinsi Jawa Barat, Kode Pos 16452.0'}\n",
            "{'nama': 'Sarah Lusiana Ratri', 'email': 'Ratri437@gmail.com', 'telepon': '+628788187766', 'alamat': 'Perumahan Kundangan, Blok G8 No 20, RT 2 RW 2. Kelurahan Bajayau Lama, Kecamatan Daha Barat, Kota/Kabupaten Hulu Sungai Selatan, Provinsi Kalimantan Selatan, Kode Pos 71252.0'}\n",
            "{'nama': 'Ibrahim Krisna Taufan', 'email': 'Ibrahim136@outlook.com', 'telepon': '+628268186221', 'alamat': 'Jalan Punakawan, Blok G7 No 11, RT 6 RW 6. Kelurahan Sarang Burung Kolam, Kecamatan Jawai, Kota/Kabupaten Sambas, Provinsi Kalimantan Barat, Kode Pos 79454.0'}\n",
            "{'nama': 'Anik Deddy Dimas', 'email': 'Deddy955@outlook.com', 'telepon': '+628546796229', 'alamat': 'Perumahan Bekas, Blok L8 No 9, RT 4 RW 8. Kelurahan Karangrejo, Kecamatan Kesesi, Kota/Kabupaten Pekalongan, Provinsi Jawa Tengah, Kode Pos 51162.0'}\n",
            "{'nama': 'Yudha Rahayu Luthfi', 'email': 'Yudha943@gmail.com', 'telepon': '+628586167465', 'alamat': 'Komplek Makaroni, Blok X5 No 15, RT 1 RW 2. Kelurahan Gunungsari, Kecamatan Tlogowungu, Kota/Kabupaten Pati, Provinsi Jawa Tengah, Kode Pos 59161.0'}\n",
            "{'nama': 'Henry Saputri Yuda', 'email': 'Henry912@outlook.com', 'telepon': '+628325511126', 'alamat': 'Gang Inga, Blok J6 No 15, RT 3 RW 4. Kelurahan Jayagiri, Kecamatan Panumbangan, Kota/Kabupaten Ciamis, Provinsi Jawa Barat, Kode Pos 46263.0'}\n",
            "{'nama': 'Juli Amir Eni', 'email': 'Amir836@gmail.com', 'telepon': '+628582789424', 'alamat': 'Gang Menyerbu, Blok B6 No 17, RT 8 RW 5. Kelurahan Limbangantengah, Kecamatan Blubur Limbangan, Kota/Kabupaten Garut, Provinsi Jawa Barat, Kode Pos 44186.0'}\n",
            "{'nama': 'Rani Indah Amir', 'email': 'Amir117@gmail.com', 'telepon': '+628365457369', 'alamat': 'Gang Menari, Blok B5 No 10, RT 8 RW 6. Kelurahan Kemiren, Kecamatan Srumbung, Kota/Kabupaten Magelang, Provinsi Jawa Tengah, Kode Pos 56483.0'}\n",
            "{'nama': 'Sitorus Effendi Resti', 'email': 'Effendi714@yahoo.com', 'telepon': '+628446859967', 'alamat': 'Perumahan Kapuk, Blok P7 No 1, RT 8 RW 9. Kelurahan Tagea, Kecamatan Gane Timur Tengah, Kota/Kabupaten Halmahera Selatan, Provinsi Maluku Utara, Kode Pos 97783.0'}\n",
            "{'nama': 'Zainal Azhari Lidya', 'email': 'Zainal275@outlook.com', 'telepon': '+628338854151', 'alamat': 'Jalan Berai, Blok I2 No 12, RT 6 RW 10. Kelurahan Kenanga Sari, Kecamatan Seputih Surabaya, Kota/Kabupaten Lampung Tengah, Provinsi Lampung, Kode Pos 34158.0'}\n",
            "{'nama': 'Mutiara Septi Gunawan', 'email': 'Septi586@yahoo.com', 'telepon': '+628957332254', 'alamat': 'Gedung Mewajibkan, Blok Q10 No 16, RT 7 RW 6. Kelurahan Banyuurip, Kecamatan Ujung Pangkah, Kota/Kabupaten Gresik, Provinsi Jawa Timur, Kode Pos 61154.0'}\n",
            "{'nama': 'Hapsari Ruth Anindita', 'email': 'Ruth946@yahoo.com', 'telepon': '+628468995631', 'alamat': 'Jalan Mental, Blok F6 No 5, RT 8 RW 2. Kelurahan Citapen, Kecamatan Cihampelas, Kota/Kabupaten Bandung Barat, Provinsi Jawa Barat, Kode Pos 40562.0'}\n",
            "{'nama': 'Purwanti Nugroho Ivan', 'email': 'Nugroho475@gmail.com', 'telepon': '+628659971929', 'alamat': 'Gedung Komunal, Blok U3 No 5, RT 2 RW 5. Kelurahan Aur Gading, Kecamatan Lungkang Kule, Kota/Kabupaten Kaur, Provinsi Bengkulu, Kode Pos 38956.0'}\n",
            "{'nama': 'Indah Eni Fanny', 'email': 'Fanny361@gmail.com', 'telepon': '+628195537964', 'alamat': 'Gang Mengembara, Blok L7 No 1, RT 2 RW 10. Kelurahan Muntang, Kecamatan Kemangkon, Kota/Kabupaten Purbalingga, Provinsi Jawa Tengah, Kode Pos 53381.0'}\n",
            "{'nama': 'Ita Hartono Andhika', 'email': 'Ita161@outlook.com', 'telepon': '+628665971534', 'alamat': 'Gang Butut, Blok C2 No 9, RT 1 RW 5. Kelurahan Liu Agu (Liagu), Kecamatan Sekatak, Kota/Kabupaten Bulungan (Bulongan), Provinsi Kalimantan Utara, Kode Pos 77263.0'}\n",
            "{'nama': 'Sandi Adriani Iskandar', 'email': 'Sandi697@outlook.com', 'telepon': '+628513249954', 'alamat': 'Gedung Menyudahi, Blok O4 No 12, RT 3 RW 3. Kelurahan Landih, Kecamatan Bangli, Kota/Kabupaten Bangli, Provinsi Bali, Kode Pos 80611.0'}\n",
            "{'nama': 'Tommy Erni Ibrahim', 'email': 'Erni863@outlook.com', 'telepon': '+628666324443', 'alamat': 'Jalan Kungkung, Blok I10 No 18, RT 6 RW 9. Kelurahan Tumpang Krasak, Kecamatan Jati, Kota/Kabupaten Kudus, Provinsi Jawa Tengah, Kode Pos 59349.0'}\n",
            "{'nama': 'Nyoman Annisa Febriyanti', 'email': 'Febriyanti793@gmail.com', 'telepon': '+628692397643', 'alamat': 'Jalan Preseden, Blok H1 No 19, RT 5 RW 9. Kelurahan Sarimahi, Kecamatan Ciparay, Kota/Kabupaten Bandung, Provinsi Jawa Barat, Kode Pos 40381.0'}\n",
            "{'nama': 'Sukma Cahyono Margaretha', 'email': 'Margaretha721@yahoo.com', 'telepon': '+628837945947', 'alamat': 'Gang Mencahayakan, Blok C8 No 5, RT 10 RW 1. Kelurahan Langadai, Kecamatan Kelumpang Hilir, Kota/Kabupaten Kotabaru, Provinsi Kalimantan Selatan, Kode Pos 72161.0'}\n",
            "{'nama': 'Listya Khairunnisa Setiawan', 'email': 'Setiawan417@outlook.com', 'telepon': '+628165165169', 'alamat': 'Perumahan Centang, Blok L2 No 6, RT 5 RW 10. Kelurahan Simpang Datuk, Kecamatan Nipah Panjang, Kota/Kabupaten Tanjung Jabung Timur, Provinsi Jambi, Kode Pos 36771.0'}\n",
            "{'nama': 'Helmi Widya Sofia', 'email': 'Sofia847@outlook.com', 'telepon': '+628646912165', 'alamat': 'Jalan Sifar, Blok O8 No 14, RT 7 RW 1. Kelurahan Terasbendung, Kecamatan Lebak Wangi, Kota/Kabupaten Serang, Provinsi Banten, Kode Pos 42184.0'}\n",
            "{'nama': 'Suci Mutia Syarifah', 'email': 'Suci137@gmail.com', 'telepon': '+628241982942', 'alamat': 'Perumahan Berlaku, Blok L5 No 14, RT 8 RW 1. Kelurahan Bukit Batu, Kecamatan Sei/Sungai Kunyit, Kota/Kabupaten Pontianak, Provinsi Kalimantan Barat, Kode Pos 78371.0'}\n",
            "{'nama': 'Kusumastuti Pamungkas Taufan', 'email': 'Taufan333@yahoo.com', 'telepon': '+628532579121', 'alamat': 'Komplek Menghujani, Blok M2 No 3, RT 2 RW 9. Kelurahan Limbung, Kecamatan Jebus, Kota/Kabupaten Bangka Barat, Provinsi Bangka Belitung, Kode Pos 33362.0'}\n",
            "{'nama': 'Sartika Purwanti Teguh', 'email': 'Teguh396@outlook.com', 'telepon': '+628537243765', 'alamat': 'Gedung Menjejerkan, Blok C4 No 6, RT 8 RW 3. Kelurahan Jatirangga, Kecamatan Jati Sampurna, Kota/Kabupaten Bekasi, Provinsi Jawa Barat, Kode Pos 17434.0'}\n",
            "{'nama': 'Annisa Febri Erni', 'email': 'Erni224@gmail.com', 'telepon': '+628727218384', 'alamat': 'Gedung Pengar, Blok H3 No 14, RT 6 RW 4. Kelurahan Gedongkiwo, Kecamatan Mantrijeron, Kota/Kabupaten Yogyakarta, Provinsi DI Yogyakarta, Kode Pos 55142.0'}\n",
            "{'nama': 'Tulus Anis Dian', 'email': 'Anis761@outlook.com', 'telepon': '+628594344744', 'alamat': 'Perumahan Serep, Blok M2 No 18, RT 9 RW 9. Kelurahan Mekarsari, Kecamatan Cipaku, Kota/Kabupaten Ciamis, Provinsi Jawa Barat, Kode Pos 46252.0'}\n",
            "{'nama': 'Mulyani Widyaningrum Leni', 'email': 'Widyaningrum777@outlook.com', 'telepon': '+628491729637', 'alamat': 'Komplek Tuna, Blok L3 No 15, RT 2 RW 2. Kelurahan Mekar Sari, Kecamatan Rumpin, Kota/Kabupaten Bogor, Provinsi Jawa Barat, Kode Pos 16350.0'}\n",
            "{'nama': 'Herman Wisnu Sekar', 'email': 'Wisnu627@yahoo.com', 'telepon': '+628971575442', 'alamat': 'Jalan Era, Blok Q10 No 1, RT 10 RW 2. Kelurahan Jamblang, Kecamatan Jamblang, Kota/Kabupaten Cirebon, Provinsi Jawa Barat, Kode Pos 45156.0'}\n"
          ]
        }
      ]
    }
  ]
}

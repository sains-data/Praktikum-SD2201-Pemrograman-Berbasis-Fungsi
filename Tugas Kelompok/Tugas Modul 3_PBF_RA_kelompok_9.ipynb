{
  "nbformat": 4,
  "nbformat_minor": 0,
  "metadata": {
    "colab": {
      "provenance": []
    },
    "kernelspec": {
      "name": "python3",
      "display_name": "Python 3"
    },
    "language_info": {
      "name": "python"
    }
  },
  "cells": [
    {
      "cell_type": "code",
      "source": [
        "def spearman_correlation(x, y):\n",
        "    n = len(x)\n",
        "    rank_x = {val: rank for rank, val in enumerate(sorted(set(x)), 1)}\n",
        "    rank_y = {val: rank for rank, val in enumerate(sorted(set(y)), 1)}\n",
        "    d = sum((rank_x[xi] - rank_y[yi]) ** 2 for xi, yi in zip(x, y))\n",
        "    return 1 - (6 * d) / (n * (n ** 2 - 1))\n",
        "\n",
        "# Data angka kecelakaan dan angka kematian\n",
        "angka_kecelakaan = [6083.00, 5616.00, 6465.00]\n",
        "angka_kematian = [1670.00, 1566.00, 1607.00]\n",
        "\n",
        "# Hitung koefisien korelasi Spearman\n",
        "spearman_coefficient = spearman_correlation(angka_kecelakaan, angka_kematian)\n",
        "\n",
        "print(\"Koefisien Korelasi Spearman:\", spearman_coefficient)\n"
      ],
      "metadata": {
        "colab": {
          "base_uri": "https://localhost:8080/"
        },
        "id": "i1iFYfLA3Ctr",
        "outputId": "6807f111-ab3e-49e7-8de1-3bcac9707deb"
      },
      "execution_count": 4,
      "outputs": [
        {
          "output_type": "stream",
          "name": "stdout",
          "text": [
            "Koefisien Korelasi Spearman: 0.5\n"
          ]
        }
      ]
    }
  ]
}
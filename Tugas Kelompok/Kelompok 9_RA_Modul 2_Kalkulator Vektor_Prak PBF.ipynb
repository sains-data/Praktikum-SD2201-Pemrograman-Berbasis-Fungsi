{
  "nbformat": 4,
  "nbformat_minor": 0,
  "metadata": {
    "colab": {
      "provenance": []
    },
    "kernelspec": {
      "name": "python3",
      "display_name": "Python 3"
    },
    "language_info": {
      "name": "python"
    }
  },
  "cells": [
    {
      "cell_type": "markdown",
      "source": [
        "##Penjumlahan vektor"
      ],
      "metadata": {
        "id": "fQ-_OD9VnFDn"
      }
    },
    {
      "cell_type": "code",
      "execution_count": null,
      "metadata": {
        "colab": {
          "base_uri": "https://localhost:8080/"
        },
        "id": "Ni-xqmkSmNd3",
        "outputId": "439c50ab-55fa-4a06-fc93-328f54c283ff"
      },
      "outputs": [
        {
          "output_type": "stream",
          "name": "stdout",
          "text": [
            "Hasil penjumlahan vektor: [5, 7, 9]\n"
          ]
        }
      ],
      "source": [
        "vector1 = [1, 2, 3]\n",
        "vector2 = [4, 5, 6]\n",
        "\n",
        "# Definisikan fungsi lambda untuk penjumlahan vektor\n",
        "add_vectors = lambda vec1, vec2: [x + y for x, y in zip(vec1, vec2)]\n",
        "\n",
        "# Panggil fungsi lambda untuk menambahkan vektor\n",
        "result_vector = add_vectors(vector1, vector2)\n",
        "\n",
        "print(\"Hasil penjumlahan vektor:\", result_vector)\n"
      ]
    },
    {
      "cell_type": "markdown",
      "source": [
        "##Pengurangan vektor"
      ],
      "metadata": {
        "id": "Bag57YSHnFgQ"
      }
    },
    {
      "cell_type": "code",
      "source": [
        "vector1 = [5, 2, 8]\n",
        "vector2 = [4, 5, 6]\n",
        "\n",
        "# Definisikan fungsi lambda untuk pengurangan vektor\n",
        "subtract_vectors = lambda vec1, vec2: [x - y for x, y in zip(vec1, vec2)]\n",
        "\n",
        "# Panggil fungsi lambda untuk mengurangkan vektor\n",
        "result_vector = subtract_vectors(vector1, vector2)\n",
        "\n",
        "print(\"Hasil pengurangan vektor:\", result_vector)\n"
      ],
      "metadata": {
        "colab": {
          "base_uri": "https://localhost:8080/"
        },
        "id": "Ihgk--qtmikT",
        "outputId": "cc62ba4b-5bfe-40eb-9c7e-7c29edf97c31"
      },
      "execution_count": null,
      "outputs": [
        {
          "output_type": "stream",
          "name": "stdout",
          "text": [
            "Hasil pengurangan vektor: [1, -3, 2]\n"
          ]
        }
      ]
    },
    {
      "cell_type": "markdown",
      "source": [
        "##perkalian vektor dengan skalar"
      ],
      "metadata": {
        "id": "-0tUv9e7nGP6"
      }
    },
    {
      "cell_type": "code",
      "source": [
        "vector = [1, 2, 3]\n",
        "scalar = 8\n",
        "\n",
        "# Definisikan fungsi lambda untuk perkalian vektor dengan skalar\n",
        "multiply_vector_scalar = lambda vec, scalar: [x * scalar for x in vec]\n",
        "\n",
        "# Panggil fungsi lambda untuk mengalikan vektor dengan skalar\n",
        "result_vector = multiply_vector_scalar(vector, scalar)\n",
        "\n",
        "print(\"Hasil perkalian vektor dengan skalar:\", result_vector)\n"
      ],
      "metadata": {
        "colab": {
          "base_uri": "https://localhost:8080/"
        },
        "id": "BvQQkwiNnDMZ",
        "outputId": "026eb0b9-13a5-42be-8b02-a5b53570ae87"
      },
      "execution_count": null,
      "outputs": [
        {
          "output_type": "stream",
          "name": "stdout",
          "text": [
            "Hasil perkalian vektor dengan skalar: [8, 16, 24]\n"
          ]
        }
      ]
    }
  ]
}
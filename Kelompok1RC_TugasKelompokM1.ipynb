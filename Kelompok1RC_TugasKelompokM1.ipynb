{
  "nbformat": 4,
  "nbformat_minor": 0,
  "metadata": {
    "colab": {
      "provenance": []
    },
    "kernelspec": {
      "name": "python3",
      "display_name": "Python 3"
    },
    "language_info": {
      "name": "python"
    }
  },
  "cells": [
    {
      "cell_type": "markdown",
      "source": [
        "# Tugas Kelompok 1\n",
        "Anggota:\n",
        "1.   Abit Ahmad Oktarian\n",
        "2.   Alyaa Nurul Islami\n",
        "3.   David Bobby C.N.\n",
        "4.   Nabila Anilda\n",
        "5.   Dearni Monica\n",
        "6.   Yohana Manik"
      ],
      "metadata": {
        "id": "6FnTk7sz1Wm3"
      }
    },
    {
      "cell_type": "markdown",
      "source": [
        "#No. 1\n",
        "Buatlah fungsi Komposisi dengan nilai\n",
        "![image.png](data:image/png;base64,iVBORw0KGgoAAAANSUhEUgAAAK0AAAAnCAYAAAB9hMj9AAAAAXNSR0IArs4c6QAAAARnQU1BAACxjwv8YQUAAAAJcEhZcwAAEnQAABJ0Ad5mH3gAABFNSURBVHhe7dsFrF3F1gfwjbu7uwd3d6dIgBAkuKQ4BAINQQoBGkgJUtwdSnHX4K6htMWlFIq7y/7mt17XeYfD7S3fK7e8+3L+yWT2Hlk2a9as2efeseqCqo02uhHGHlG30Ua3Qdtp2+h2aDttG90Obadto9uh7bRtdDu0nbaNboe207bR7dDpd9pff/21GmussarffvutGm+88SpDvSu///77iFGFSHn/+eefq3HGGWdES1WNO+64I55GDjTQTFrmoDWmgb+SMv/yyy+hbzNS1tQfvI899t+z79MGbE6OrLWza7PNW3laH20pj/dmO2Zb8/r8UyAjWSBt2SwrjMqunVqc0RCgLEaMZkF/+umnMGoy925c9qdxR4Wcr1Y4vvljGnjTEX+lI4PRD+iW+rYae3Txww8/hBw//vhj8EkeaRvtHfHMseq0YcprvPa/W9b/FLkZyZMyaSM3PVPuztCp0yJCYQVhi+U5FzkNQggLjXG2/xWYh6a55iWtMY1c8NTDc0dIJ8ooPLJx/wmanYwc448/fticA2rTr43tW5G2Tz2SlvmQcv83gKypF5BNG5uqU/bO0KnTMgBn+u6774LoJJNMEnU6FgbpbIwiUgwbNqxhrFEhDfn2228HrX/CYYEOeUKkk7QinZlu+lPnvwtoTTjhhA3bsSUeaRsgg9IRcvHhww8/DCduTnHSSf5ppM0mmGCC0JWO5M5n/WTvDJ06LQKMgQHHPfvss6urr766evnll6Ndf+58jM4666wYx/h/BblAAwcOrO66665wnlygMY2MbGT/9NNPR7T+G5yIM3CE77//vvrggw/ilPi7QO9cLHYlz6WXXhp8yGVD56nUiuYoawx73n333TFPuzUambOPadCNXOk33377bTV06NCwq/Tnk08+GaWso7yIIa7ef//9q+WXX74aMGBAEH7mmWcaYwjCwHPOOWe17rrrxq5GlhPqU5KNPu0EUxicsfv06VNtvfXW1YILLhjjtRmHvwXT1lWgA35k+fjjj6s999yzuuiii6pZZpkl5H7jjTeqe++9t5p++umr++67r1puueWqr7/+Opy7d+/eMYbR1XRqlZUjaUudIe2Ad54wxpDB+6233hoy9ejR4w8RE4xJGxqDhsBi0dVsZj3mm2++atlll42NaHxXgu7kALxyvenkOXWlN7nJOHjw4OrBBx+MDfrKK69Uq666avX4449XSyyxRLXHHnvE/A5RCI4UxSB1MVD9/PPPk6B+880361122aU+8sgj67IQdREiyqBBg+rddtutLotYl4hUF+PVRbgo+tHQps88dYlWjfnffPNN/frrr9dbbLFFXXZe9OFtTlFuhDRdB3IWJ4znww47LHR95513Qgaynn766XXZqPUXX3wRfQ8//HDdv3//+pxzzgndzAe6dSSvMfTEw1hjtH355ZcNu3hPWnhvvvnm9VdffTWCwr+R49nIM9vhmyV5WasNNtigLpswxnY12IpeuaYKvvSxpuqUTU03tqbLa6+9FnYtjltffPHF9c033zyCasfo1GkJQenbb789iKbRFUISAI4//vj6mmuuibY0pj4Cec73rI0paURj8YyDAw44oC6RLNr04WMOul0JsuBzzz331CXKhq6vvvpqQ+bPP/88HCKNyw7p5GSlT+rSkaza6JgLl86t1ueZDJ6NOe200+pLLrkk2ltBprQLWs30ss0YOOGEE+prr702+rrahnjgm/LYTClnypb92f7ZZ5/F80MPPRR2TTrmd4ZRJjpTTz11VYjGkTjppJNGW5kXoV4pxqguv/zy6C+7J0K98K8vj0SQuxhrbkJ/ETLGFGWqNddcM47lnG88el0NMkkLitNWq6yySrSRAf/mI/vRRx+tNt1002riiScOuYcMGRL9KePIjmB00Et9jZP7K97LIgUNOnvv169fHJH4kq21lAjdyG/zvThBpBF4oaGmizTBuDEF8tCPvchPZ4V89M0x5Et93Wf22WefaB8+fHjcHTpDp9o8+eSTVTmyw5Gefvrpauedd65uueWW6CMYQz/33HORM80000whKMaETOFvuOGGuLyZS5gHHngg6PXt27d69913Yw4FKLjwwgtXV111VePmnH1dDfLecccdVUlxqskmmyza0iFsxBlnnDHqXXfdtVpqqaVCL4Yu0bahay6A55FBP1txfjlbSTHCnvI6i4WuS1RJlarZZpvtT7ksXnLrm266qdpvv/2qF154oXrxxRfDnieddFJVToeQGx2Ya665Qq8S0YJ3V4Js1kpd0puqRPnqvPPOqy644IKwHfnOPffcqkT+WFc6zjDDDJGDn3jiiZF7m3vbbbfF+neGUf7nAoVdjo499tiqZ8+ejQXCWH3KKaeEUCVFaCygwglLfhKXNwtdUoxqk002CSe2IIT0bFMYnztv0UUXja8Uoi562lJE7yK2yN/RDb8VaDopVl555Wq66aaL+eU4ij7PYJE5DT4bbrhhdf3111dbbbVVOMC8884b0YHxSwpQrbDCCtVjjz0WzrT22mtXSy+99J8cqyOgnQvKJnvttVfYbPLJJ68uvPDCavfdd6+eeOKJoH/++efHJbfkyw1bp01tFKedy67xK620UnXdddeFnEsuuWREaJdIDsoZLL6xBx54YLXlllv+KeKiTS/Byac18uGTTt+MlGGqqaYKveeee+4RPf8C/djW144zzzyzOuaYY0JWctlY1q2kf6GvzV5SrurKK6+Medba5hUc1lprrWqBBRbo9AtUp5GWkB999FE4yCKLLBIMGIRyniGjZSqsMA5jmDf//PPHOMcvcMo55pijKjlbpBQZncxBgxOUfCjetSddm8DYiSaaKN45kyOns2IOMAA6SctiWRj08LrxxhvjOE7HgnQWhmfsfffdNxy1V69e1SGHHBKL8f8BGz377LPhsHfeeWc4LB2mnHLKavbZZ4+oCOWy15Aj5ZUKcAhRlmPrT3uSQxBgz3LxCr3yhKK3k4PDpF7NYGOnJZvqVwNnb7ajd5vAmrKp7/UdAe9HHnmk2mabbRq0pC6HHnpozNlss81CdzadddZZw67lMhaB7aijjooN57Slc6coA0aKonhdDIVCXXZiJNHayoI2kmWXp969e8ez9uIIjQvF+++/HzdH88pC12ussUb0lcWKuhgkxpmX88ui1FdccUW8o6XfRcecfDYv65GVYuiojUNHbX7yK5Eu+sk+ePDghjzFgUPfN954I3TMG77inS5JB92/AnOUHXfcsS5pVD1s2LB4h8MPP7xeZ511gg8ZjjjiiLpE3nhW0n70dylO+cuRWhdHb+gJ+lyAvKds5dSoS+QLWq1IWujnGpjbbNukb4x2IEtHQK9E2salc+jQoWFLl0H86Qj6FTTV7EreZp6dodNIa/f5fiYSOF4z0bdD7SrPRdkRo/+FjA5FiDhKcoeLZmVxos+uFT3scv05B008MppC8jIGP9FDdHS8SF1GVvQroj1Z8DK/GCSilt0uBTj66KMjjzr11FMj57r//vuDr2ffSvFWwDwgO1op46hAJxH0sssuq7bbbrtq5plnDpoioGORXaaYYorQ0SUP0C4L2DgmtSvm0cf3YmmMfpGVTcz3nOsE6BiT781I+aUq7huOdt/gydpsR7U2PN57772Y0woygW/ZZCCntAOWWWaZsBmb05l8CnnzRLUunsH8zvCHXoohBAh55rSrrbZawxDaLZ6a8wnzjjnv+lOIXBSLQdk333wzjgHCEUreJidLXgowoCMzeSnpuAwjHzrjjDPig/+ogAYj+mFESoJWHm36/Hjggom2d3pZOHDz9nEeb31sQV/PnMB7ypcypm6emxfExjYPyFEiTPTJIwcNGhRHPAdlY8d50sgvCmg5ZtEgKweyueTCZDbGpUyKwzFSJvayBrkRWoGPtSknWzgY/ubg1wr0tLsjONbl0c1Ie1g/MuJJJncXFy7rRm/85plnnhiT9jGXbZNGR/z/gDIo4HhwFBWhI1wrUBLuuly2or0YKNrVQjsMGDCg3nbbbaM/j5VsL04a3+LK5SaOCd8+4amnnqrL5SaeHTXmmFt2e4x766234jhJXp67EvSmP5QLZ8jgxw7ItCLt0Qxz9DnOHPl77713fGP1nnKrjSuOVk877bR1iehhK+lJnz59ghcboa+9RP26R48eQV+b78Hml4hcl5y6Hj58eBy35vnRB4YMGRJpDjuyp7UxRzphnI/2XW3DXH8y+mbPpnj7IQqkBr7nDxw4MN5HBw2nxbTZIQnAsBjLaxnEGMbIxTDOL0XGcDjtZSfFmJJYR3u5mdcnn3xyXW6v8WtHufVG3ibfRSN5WugHHnig3mijjYJGGh/PrjY4eW0UH/TLTTbkJmO5rYdsSkcykC3tIi82TyG7tpSdw+Lhl7SFFlqovvrqq+uLLrooAoI8nw2M47xpT/Kkjc3t169ftJeLTPwSt+uuu8YGKSdF3bNnz/gFjA2V3GicGv20Y1dDPktGsgpaAkA5reqXXnopflUk+98hR+OTl8pRIkwL3UK0I3z99dePMC8Py1zD2BHT4khxWzz44IPjKCgGirDvCJMSGLf44ovH8ebbHPqOB8eMcWXBGjdN+aW+nXbaKejkcZXydBXwcHxJhfBMXuTyaYfeCjlaQU7ji9OFvv3794/PPdrTXp4VR6Y/DmFn+b6/K/Bjha8ReKWujt/11luv2njjjWM+Ozl2ixOGfG7YxTnjxw3pRIngce8gB3ujofYJDM2DDjqo0d5VoH/ZXCETWa2zXNYnQnaQlllbetJntFCUCdjpGSXLhSEiYd++feudd945Qr2Iok8pCxDFbrZz7CCh37OoYQx66jyy8hm8iwhqUcEcUWb11VePn0pzPvpjAq1ykol+GTHZRd0KMjZHN8hjOuU3T+3ri2iYbdIP5neK5WmDJzqiZ69evUIWBf1MYYyVMjSPR09tXLYZV4JJ/eKLL4Y8xncl0MczbaJOu5Ep7eB5dNFwWsDs2WefDWOeffbZEdrvvvvuhiCMhnlzTRDPxx13XOSqDESwVCCRgqNjTiqgaLvqqqvicxMkLzCnmc6YQOqk5EZLeVpBVjrot3n9/QLQXzta/gCGTcsJEn3lRh7vPgMax8kssPHpYCeddFI4LxnSVsam/TynjOm4SYssNoPgk/PM6WpYJ3Kkv4B38qQM3kcX45Sj7JhiwAjv5T3CdzFcHCUrrrhitcMOO8QRnkeLI8izWphXjF9sscXi50RHwDTTTBNHQh6zkHO05zw81f5EzdHsE45+R6B2MKeZzpgA3sk3j/iUpxllMWIMuyn+AF4q5Cikr2JecZxGeuDXIb/o+cl4++23jx8ZoJmnZ78K+fnb1xmplHZgm6Sd47Mv7UkOn+v8dJ7yJ92uRLM8rXzTFt5HF42ctuyA+HyCMOUZWV6iPR0N45jUwtg8KEd7fOfzKcvnmlEBn3IER64mT/N5LBekO4DedGAPMsuL5aqtKNEvgkGJPpHvyUHZ1LwMCEkDPW0+q9nMfvnyqZD9lZzXDJtHH1taL38P4qdza5ABwJj85tvd8QenHfEYRvFOWW1qBhdBWg0GxmY/Z2f83GmdwQIxJuOK1njZKPh1B+Tmpms6Dt2VZhgD6XDNF146azdGX9pNu2IjuGwZm0Gl1bbZDmiYl3LlvHz+X0DDOyibUUPNEdOR05gihrZWWDCRxGLk8fVXgK6xHB59hse7O4H8bNS8yVthjD765ibNZ1Abo6T+akX6YENzPHPSOZthXq6VYp6xHDc3TEdydVf86a+80miUzi7PaYiOjKaP0RjPGOWvIHnhkzxao8h/M8hN5ma5O9LdOIXt2Clt1Kx387x81p7zFM7dkX2SZqKZXtboWJ//BYzyTxPbaOO/Dd0jeWyjjSa0nbaNboe207bR7dB22ja6HdpO20Y3Q1X9H7zu33zzFw4MAAAAAElFTkSuQmCC)\n",
        "dan\n",
        "![image.png](data:image/png;base64,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)\n",
        "dengan pemrograman prosedural tiga fungsi dan pemrograman fungsional lambda"
      ],
      "metadata": {
        "id": "RUdyZ7Z71mnI"
      }
    },
    {
      "cell_type": "code",
      "execution_count": 8,
      "metadata": {
        "id": "swn4ineR1OtW"
      },
      "outputs": [],
      "source": [
        "# Pemrograman Prosedural\n",
        "def f(x):\n",
        "    return 4\n",
        "\n",
        "def g(x):\n",
        "    return x ** 2\n",
        "\n",
        "def h(x):\n",
        "    return 3 + x\n",
        "\n",
        "def compositional_procedural(x):\n",
        "    return h(g(f(x)))"
      ]
    },
    {
      "cell_type": "code",
      "source": [
        "# Pemrograman Lambda\n",
        "f = lambda x: 4\n",
        "g = lambda x: x ** 2\n",
        "h = lambda x: 3 + x\n",
        "\n",
        "compositional_lambda = lambda x: h(g(f(x)))"
      ],
      "metadata": {
        "id": "8x-HmBiA2MnW"
      },
      "execution_count": 9,
      "outputs": []
    },
    {
      "cell_type": "code",
      "source": [
        "#Pemrograman Berbasis Object\n",
        "class Function:\n",
        "    def __init__(self, f):\n",
        "        self.f = f\n",
        "\n",
        "    def __call__(self, x):\n",
        "        return self.f(x)\n",
        "\n",
        "f = Function(lambda x: 4)\n",
        "g = Function(lambda x: x ** 2)\n",
        "h = Function(lambda x: 3 + x)\n",
        "\n",
        "compositional_oop = Function(lambda x: h(g(f(x))))"
      ],
      "metadata": {
        "id": "se0H6Oke2QVd"
      },
      "execution_count": 10,
      "outputs": []
    },
    {
      "cell_type": "markdown",
      "source": [
        "# 3. Analisis Komparasi dari soal no 1 dan 2\n",
        "analisis perbandingan implementasi prosedural dan berorientasi objek dari fungsi komposisi.\n",
        "\n",
        "Dalam hal keterbacaan dan kesederhanaan, implementasi prosedural bisa dibilang lebih sederhana dan mudah dipahami, karena melibatkan definisi tiga fungsi terpisah dan kemudian menggabungkannya menggunakan pemanggilan fungsi sederhana. Di sisi lain, implementasi berorientasi objek memerlukan definisi kelas Fungsi dan membungkus setiap fungsi dalam objek kelas tersebut, yang dapat menambah lapisan kompleksitas tambahan.\n",
        "\n",
        "Namun, implementasi berorientasi objek memiliki beberapa potensi keuntungan dalam hal modularitas dan ekstensibilitas. Dengan mendefinisikan kelas Fungsi, kita dapat dengan mudah menambahkan fungsi baru ke fungsi komposisi kita dengan membuat objek baru dari kelas tersebut. Kita juga dapat menambahkan metode atau atribut tambahan ke kelas Fungsi untuk menyediakan lebih banyak fungsi, seperti menyimpan metadata tentang fungsi atau memungkinkan modifikasi perilaku fungsi secara dinamis.\n",
        "\n",
        "Keuntungan lain dari pendekatan berorientasi objek adalah memungkinkan pemrograman yang lebih abstrak dan generik, di mana fungsi diperlakukan sebagai objek kelas satu yang dapat diteruskan dan dimanipulasi seperti tipe data lainnya. Ini dapat berguna dalam skenario pemrograman yang lebih kompleks di mana fungsi perlu dibuat secara dinamis atau disusun dengan cara yang rumit.\n",
        "\n",
        "Singkatnya, implementasi prosedural lebih sederhana dan mudah dibaca, tetapi implementasi berorientasi objek menyediakan lebih banyak modularitas, ekstensibilitas, dan abstraksi, yang dapat berguna dalam skenario pemrograman yang lebih kompleks. Pilihan implementasi pada akhirnya bergantung pada persyaratan spesifik dan tujuan desain proyek."
      ],
      "metadata": {
        "id": "RyEBe0865OqB"
      }
    },
    {
      "cell_type": "markdown",
      "source": [
        "# 4.\n",
        "buatlah satu penyelesaiian luas segitiga dengan menggunakan pemrograman berorientasi objek dan pemrograman berbasis fungsi. dan buatlah kesimpulan dengan membandingkan mana yang tercepat komputasinya"
      ],
      "metadata": {
        "id": "oX65yYNIOFq3"
      }
    },
    {
      "cell_type": "code",
      "source": [
        "#Pemrograman berbasis Objek\n",
        "class Triangle:\n",
        "    def __init__(self, base, height):\n",
        "        if base <= 0 or height <= 0:\n",
        "            raise ValueError(\"Nilai basis dan tinggi harus positif\")\n",
        "        self.base = base\n",
        "        self.height = height\n",
        "\n",
        "    def area(self):\n",
        "        return 0.5 * self.base * self.height\n",
        "\n",
        "    def perimeter(self):\n",
        "        return self.base + self.height + (self.base ** 2 + self.height ** 2) ** 0.5\n",
        "\n",
        "    def __str__(self):\n",
        "        return f\"Segitiga dengan basis {self.base}, tinggi {self.height}, dan luas {self.area()}\"\n",
        "\n",
        "triangle = Triangle(5, 10)\n",
        "print(triangle)\n",
        "print(f\"Luas: {triangle.area()}\")\n",
        "print(f\"Keliling: {triangle.perimeter()}\")\n"
      ],
      "metadata": {
        "colab": {
          "base_uri": "https://localhost:8080/"
        },
        "id": "S7tVl9L65U5x",
        "outputId": "5ea39b8d-a178-4606-9a78-19539b30ff11"
      },
      "execution_count": 2,
      "outputs": [
        {
          "output_type": "stream",
          "name": "stdout",
          "text": [
            "Segitiga dengan basis 5, tinggi 10, dan luas 25.0\n",
            "Luas: 25.0\n",
            "Keliling: 26.18033988749895\n"
          ]
        }
      ]
    },
    {
      "cell_type": "code",
      "source": [
        "#Pemrograman Berbasis Fungsi\n",
        "def triangle_area(base, height):\n",
        "    return 0.5 * base * height\n",
        "\n",
        "area = triangle_area(5, 10)\n",
        "print(f\"Luas segitiga: {area}\")"
      ],
      "metadata": {
        "colab": {
          "base_uri": "https://localhost:8080/"
        },
        "id": "Gf4EIXxTPRfG",
        "outputId": "282218b8-01d2-4d13-eea1-f7334d83d516"
      },
      "execution_count": 4,
      "outputs": [
        {
          "output_type": "stream",
          "name": "stdout",
          "text": [
            "Luas segitiga: 25.0\n"
          ]
        }
      ]
    },
    {
      "cell_type": "markdown",
      "source": [
        "# Membuat Calculator berdasarkan metode matematik di level advanced, menggunakan metode biseksi"
      ],
      "metadata": {
        "id": "YzYNWrVH1Lrb"
      }
    },
    {
      "cell_type": "code",
      "source": [
        "import math\n",
        "\n",
        "def biseksi(f, a, b, tol):\n",
        "    \"\"\"\n",
        "    Menggunakan metode biseksi untuk mencari akar dari fungsi f yang diberikan.\n",
        "\n",
        "    :param f: Fungsi yang akan dicari akarnya.\n",
        "    :param a: Batas awal interval.\n",
        "    :param b: Batas akhir interval.\n",
        "    :param tol: Toleransi epsilon untuk menentukan ketidakakuran.\n",
        "    :return: Akar dari fungsi f yang berada di antara a dan b.\n",
        "    \"\"\"\n",
        "    if f(a) * f(b) > 0:\n",
        "        print(\"Tidak ada akar yang berada di antara a dan b\")\n",
        "        return None\n",
        "    while (b - a) / 2 > tol:\n",
        "        midpoint = (a + b) / 2\n",
        "        if f(midpoint) == 0:\n",
        "            return midpoint\n",
        "        elif f(a) * f(midpoint) < 0:\n",
        "            b = midpoint\n",
        "        else:\n",
        "            a = midpoint\n",
        "    return (a + b) / 2\n",
        "\n",
        "# Contoh penggunaan\n",
        "def f(x):\n",
        "  return x**2 - 4\n",
        "\n",
        "a = 1\n",
        "b = 2\n",
        "tol = 1e-6\n",
        "\n",
        "akar = biseksi(f, a, b, tol)\n",
        "\n",
        "if akar is not None:\n",
        "  print(f\"Akar persamaan f(x) = 0: {akar}\")\n"
      ],
      "metadata": {
        "colab": {
          "base_uri": "https://localhost:8080/"
        },
        "id": "14xeQWYD1S7H",
        "outputId": "f6e84cfc-85b2-4eda-b119-b0a77bc12b26"
      },
      "execution_count": 7,
      "outputs": [
        {
          "output_type": "stream",
          "name": "stdout",
          "text": [
            "Akar persamaan f(x) = 0: 1.9999990463256836\n"
          ]
        }
      ]
    }
  ]
}
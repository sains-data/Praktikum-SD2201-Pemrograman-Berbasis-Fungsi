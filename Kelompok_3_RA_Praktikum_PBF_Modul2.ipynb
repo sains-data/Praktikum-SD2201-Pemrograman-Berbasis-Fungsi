{
  "nbformat": 4,
  "nbformat_minor": 0,
  "metadata": {
    "colab": {
      "provenance": []
    },
    "kernelspec": {
      "name": "python3",
      "display_name": "Python 3"
    },
    "language_info": {
      "name": "python"
    }
  },
  "cells": [
    {
      "cell_type": "markdown",
      "source": [
        "1. Haikal Dwi Syaputra (122450067)\n",
        "2. Baruna Abirawa (122450097)\n",
        "3. Nisrina Nur Afifah (122450052)\n",
        "4. Muhammad Regi Abdi Putra Amanta (122450031)\n",
        "5. Sahid Maulana (122450109)"
      ],
      "metadata": {
        "id": "TBPICdAY1Vy2"
      }
    },
    {
      "cell_type": "code",
      "source": [
        "from math import radians, sin, cos, sqrt, atan2\n",
        "\n",
        "#menggunakan fungsi lambda untuk menghitung jarak antara dua titik koordinat\n",
        "jaraktempat = lambda koordinat1, koordinat2: \\\n",
        "    6371 * 2 * atan2(sqrt(sin(radians(koordinat2[0] - koordinat1[0]) / 2)**2 +\n",
        "                         cos(radians(koordinat1[0])) * cos(radians(koordinat2[0])) *\n",
        "                         sin(radians(koordinat2[1] - koordinat1[1]) / 2)**2),\n",
        "                     sqrt(1 - (sin(radians(koordinat2[0] - koordinat1[0]) / 2)**2 +\n",
        "                               cos(radians(koordinat1[0])) * cos(radians(koordinat2[0])) *\n",
        "                               sin(radians(koordinat2[1] - koordinat1[1]) / 2)**2)))\n",
        "\n",
        "#daftar antar koordinat (lintang, bujur)\n",
        "koordinat = [\n",
        "    (-5.357105, 105.314865),  #ITERA sebagai koordinat 1\n",
        "    (-5.382407, 105.303705),  #UIN RIL sebagai koordinat 2\n",
        "    (-5.360559, 105.304367),  #PB sebagai koordinat 3\n",
        "    (-5.382660, 105.282450)   #Transmart sebagai koordinat 4\n",
        "]\n",
        "\n",
        "tempat = {\n",
        "    1: \"ITERA\",\n",
        "    2: \"UIN RIL\",\n",
        "    3: \"PB Swalayan\",\n",
        "    4: \"Transmart\"\n",
        "}\n",
        "\n",
        "#fungsi untuk mendapatkan input lokasi dari pengguna\n",
        "def input_lokasi():\n",
        "    while True:\n",
        "        lokasi = int(input(\"Masukkan nomor lokasi (1-4): \"))\n",
        "        if lokasi not in range(1, 5):\n",
        "            print(\"Lokasi tidak tersedia, Mohon masukkan nomor lokasi antara 1 dan 4.\")\n",
        "        else:\n",
        "            return lokasi\n",
        "\n",
        "#penggabungan hasil menggunakan fungsi map dan lambda\n",
        "lokasi = input_lokasi()\n",
        "jarak = list(map(lambda x: jaraktempat(koordinat[lokasi-1], x), koordinat))\n",
        "print(f\"Jarak dari {tempat[lokasi]} ke semua lokasi lainnya:\")\n",
        "for i, j in enumerate(jarak):\n",
        "    if i != lokasi - 1:\n",
        "        print(f\"{tempat[lokasi]} dan {tempat[i+1]}: {j:.2f} km\")\n"
      ],
      "metadata": {
        "colab": {
          "base_uri": "https://localhost:8080/"
        },
        "id": "fO2w6wyhYxdW",
        "outputId": "ee92a4e5-3841-4d65-b062-b9c2a186e3ff"
      },
      "execution_count": 1,
      "outputs": [
        {
          "output_type": "stream",
          "name": "stdout",
          "text": [
            "Masukkan nomor lokasi (1-4): 1\n",
            "Jarak dari ITERA ke semua lokasi lainnya:\n",
            "ITERA dan UIN RIL: 3.07 km\n",
            "ITERA dan PB Swalayan: 1.22 km\n",
            "ITERA dan Transmart: 4.58 km\n"
          ]
        }
      ]
    }
  ]
}
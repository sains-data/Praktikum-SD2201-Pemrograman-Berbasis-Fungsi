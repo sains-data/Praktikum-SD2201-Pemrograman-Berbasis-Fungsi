{
  "nbformat": 4,
  "nbformat_minor": 0,
  "metadata": {
    "colab": {
      "provenance": []
    },
    "kernelspec": {
      "name": "python3",
      "display_name": "Python 3"
    },
    "language_info": {
      "name": "python"
    }
  },
  "cells": [
    {
      "cell_type": "markdown",
      "source": [
        "## Tugas Praktikum Kelompok 7"
      ],
      "metadata": {
        "id": "EBkX-B3-LGyJ"
      }
    },
    {
      "cell_type": "markdown",
      "source": [
        "# KELOMPOK 7\n",
        "1. Tessa Kania Sagala 122450040 [2]\n",
        "2. Renisha Putri Giani 122450079 [1]\n",
        "3. Rian Bintang Wijaya 122450094 [4]\n",
        "4. Gymnastiar Al Khoarizmy 122450096 [3]\n",
        "5. Virdio Samuel Saragih 122450124 [5]"
      ],
      "metadata": {
        "id": "n7e3QrNBPm17"
      }
    },
    {
      "cell_type": "markdown",
      "source": [
        "# Nomor 1"
      ],
      "metadata": {
        "id": "NH_XTMfxLdOX"
      }
    },
    {
      "cell_type": "code",
      "source": [
        "def f(x):\n",
        "  return 4 ** x\n",
        "def g(x):\n",
        "  return x ** x\n",
        "def h(x):\n",
        "  return 3+x\n",
        "\n",
        "h(g(f(1))) # merupakan pemanggilan fungi komposisi.\n",
        "\n",
        "# fungsi f(x) akan dipanggil dengan argumen x = 4\n",
        "# kemudian hasil dari f(4) akan menjadi argumen untuk fungsi g(x), sehingga g(f(4)) akan menjadi g=(16)\n",
        "# dan yang terakhir hasil dari g(f(4)) akan menjadi argumen h(x), sehingga h(g(f(4))) = h(256)\n",
        "# kemudian output dari kode diatas adalah 259, yang mana hasil dari h(256) adalah 3 + 256 = 259"
      ],
      "metadata": {
        "id": "QYltE9LObTQK",
        "colab": {
          "base_uri": "https://localhost:8080/"
        },
        "outputId": "ca00247b-3e30-4590-9b9d-4698e8249d59"
      },
      "execution_count": 3,
      "outputs": [
        {
          "output_type": "execute_result",
          "data": {
            "text/plain": [
              "259"
            ]
          },
          "metadata": {},
          "execution_count": 3
        }
      ]
    },
    {
      "cell_type": "markdown",
      "source": [
        "# Nomor 2"
      ],
      "metadata": {
        "id": "p0JJX0bDLZxN"
      }
    },
    {
      "cell_type": "code",
      "source": [
        "def compose(f1, f2):\n",
        "  return lambda v: f1(f2(v))\n",
        "\n",
        "hgf = compose(h, compose(g,f))\n",
        "hgf(3)\n",
        "\n",
        "#fungsi compose (f1, f2) mengambil dua fungsi sebagai argumen\n",
        "#menggunakan fungsi compose untuk membuat komposisi 3 fungsi, h, g, dan f. hasil dari komposisi disimpan dalam variabel hgf\n",
        "#nilai 3 akan dimasukkan ke fungsi f pertama, lalu hasilnya dimasukkan ke fungsi g, kemudian hasil dari fungsi g dimasukkan ke fungsi h. hasil akhir menjadi nilai yg dikembalikan"
      ],
      "metadata": {
        "id": "-1k3n65AbSCe",
        "colab": {
          "base_uri": "https://localhost:8080/"
        },
        "outputId": "d1c859ef-2fb6-4e89-b24a-17e1e24182a2"
      },
      "execution_count": 17,
      "outputs": [
        {
          "output_type": "execute_result",
          "data": {
            "text/plain": [
              "23.824942739947577"
            ]
          },
          "metadata": {},
          "execution_count": 17
        }
      ]
    },
    {
      "cell_type": "markdown",
      "source": [
        "# Nomor 3"
      ],
      "metadata": {
        "id": "mOIS0xpiLbr5"
      }
    },
    {
      "cell_type": "markdown",
      "source": [
        "Analisis Komparasi Soal 1 dan 2:\n",
        "1. Kode pertama menggunakan pendekatan konvensional dalam pemrograman fungsional. Setiap fungsi f, g, dan h menerima argumen dan mengembalikan hasil pemrosesan. Kemudian, fungsi-fungsi ini digunakan secara bertahap dalam komposisi, di mana output dari satu fungsi menjadi input untuk fungsi berikutnya. Kode ini lebih langsung dan mudah dimengerti bagi orang yang terbiasa dengan pemrograman fungsional. Penggunaan fungsi biasa memungkinkan kode menjadi lebih ringkas dan mudah dibaca.\n",
        "2. Kode kedua menggunakan pendekatan berbasis objek dan mengimplementasikan apa yang dikenal sebagai \"continuation passing style\" atau CPS. Dalam pendekatan ini, setiap fungsi f, g, dan h dibungkus dalam objek Value, yang memiliki metode `__rshift__` untuk mengevaluasi fungsi tersebut dengan menggunakan nilai yang disimpan dalam objek Value. Dengan menggunakan operator >>, kita meneruskan hasil dari satu fungsi ke fungsi berikutnya, dan akhirnya mendapatkan hasil akhir dari komposisi tersebut. Kode ini menggunakan konsep pemrograman berbasis objek dan CPS, yang mungkin agak tidak biasa bagi mereka yang tidak terbiasa dengan paradigma tersebut. Namun, pendekatan ini dapat membawa fleksibilitas tambahan dan memungkinkan teknik-teknik seperti pemrograman dinamis dan modularitas yang lebih besar"
      ],
      "metadata": {
        "id": "bozaYapAcrs7"
      }
    },
    {
      "cell_type": "markdown",
      "source": [
        "# Nomor 4"
      ],
      "metadata": {
        "id": "lRajg5OPS9t-"
      }
    },
    {
      "cell_type": "code",
      "source": [
        "#Pemrograman Berbasis Objk\n",
        "import time      #Import function time untuk mengetahui waktu eksekusi\n",
        "st = time.time() #fungsi st untuk waktu eksekusi\n",
        "class Sides: #Buat class\n",
        "  def __init__(self,a, b, c): #inisialisasi a,b,c\n",
        "    self.a = a\n",
        "    self.b = b\n",
        "    self.c = c\n",
        "\n",
        "class A(Sides): #Buat subclass inheritage dari class Sides\n",
        "  def area(self): #Buat fungsi untuk rumus luas\n",
        "    s = (self.a * self.b * self.c)/2  #variabel s sebagai rumus luas segitiga\n",
        "    return s\n",
        "\n",
        "t = A(2,3,4)  #memasukkan nilai a, b dan c untuk penghitungan luas\n",
        "print(\"area of Triangle : {}\".format(t.area())) #memanggil luas segitiga\n",
        "\n",
        "et = time.time()\n",
        "elapsed_time = et - st  #rumus perhitungan waktu eksekusi\n",
        "print('Execution time:', elapsed_time, 'seconds') #Mengoutputkan lama waktu eksekusi"
      ],
      "metadata": {
        "colab": {
          "base_uri": "https://localhost:8080/"
        },
        "id": "rKppFkZtFjzj",
        "outputId": "86bbb787-e4df-4505-85b8-6077434bca10"
      },
      "execution_count": 18,
      "outputs": [
        {
          "output_type": "stream",
          "name": "stdout",
          "text": [
            "area of Triangle : 12.0\n",
            "Execution time: 0.0017397403717041016 seconds\n"
          ]
        }
      ]
    },
    {
      "cell_type": "code",
      "source": [
        "#Pemrograman Berbasis Fungsi\n",
        "import time       #Import function time untuk mengetahui waktu eksekusi\n",
        "st = time.time()  #fungsi st untuk waktu eksekusi\n",
        "sg = lambda a,b,c: (a*b*c)/2  #Rumus lamda untuk penghitungan luas segitiga\n",
        "\n",
        "print(f\"area of Triangle : {sg(2,3,4)}\")  #memanggil luas segitiga\n",
        "et = time.time()\n",
        "elapsed_time = et - st  #rumus perhitungan waktu eksekusi\n",
        "print('Execution time:', elapsed_time, 'seconds') #Mengoutputkan lama waktu eksekusi"
      ],
      "metadata": {
        "colab": {
          "base_uri": "https://localhost:8080/"
        },
        "id": "BQKLY8V9GUv-",
        "outputId": "f15f9eb1-6a77-4003-cef9-131a543166c1"
      },
      "execution_count": 19,
      "outputs": [
        {
          "output_type": "stream",
          "name": "stdout",
          "text": [
            "area of Triangle : 12.0\n",
            "Execution time: 0.0008771419525146484 seconds\n"
          ]
        }
      ]
    },
    {
      "cell_type": "markdown",
      "source": [
        "Setelah membuat perhitungan luas segitiga dengan menggunakan Pemrograman Berbasis Fungsi dan Pemrograman Berbasis Objek, kita dapat melihat perbedaan pada waktu eksekusinya yang mana PBF dengan rumus lamda menghasilkan waktu lebih cepat yakni 0,0008 sekon ketimbang dari PBO yang lebih lama yakni 0,001 sekon"
      ],
      "metadata": {
        "id": "EszSHjMvO52Y"
      }
    },
    {
      "cell_type": "markdown",
      "source": [
        "# Nomor 5"
      ],
      "metadata": {
        "id": "Rvl-9rBcLe-s"
      }
    },
    {
      "cell_type": "markdown",
      "source": [
        "## Fungsional"
      ],
      "metadata": {
        "id": "ZYmm-dMiILFs"
      }
    },
    {
      "cell_type": "code",
      "source": [
        "# Defining Function\n",
        "def f(x):\n",
        "  return x-2**-x #Membuat persamaan matematika kedalam fungsi\n",
        "\n",
        "# Implementing Bisection Method\n",
        "def bisection(x0,x1,e):\n",
        "  step = 1 #iterasi awal\n",
        "  print('*** BISECTION METHOD IMPLEMENTATION ***')\n",
        "  condition = True\n",
        "  while condition:\n",
        "    x2 = (x0 + x1)/2 #mencari nilai tengah\n",
        "    print('Iterasi-%d, x2 = %0.6f and f(x2) = %0.6f' % (step, x2, f(x2)))\n",
        "    if f(x0) * f(x2) < 0: #jika hasil 2 persamaan dikali dan kurang dari 0, maka ganti x1 menjadi x2\n",
        "      x1 = x2\n",
        "    else:\n",
        "      x0 = x2 #jika lebih dari 0, maka ganti x0 menjadi x2\n",
        "    step = step + 1 #iterasi ditambah menjadi 1\n",
        "    condition = abs(f(x2)) > e #kondisi adalah nilai mutlak dari persamaan x2 dicek apakah lebih dari nilai e, hasil boolean\n",
        "  print('\\nRequired Root is : %0.8f' % x2) # hasil dari root\n",
        "\n",
        "# Input Section\n",
        "x0 = 0.01 #tebakan awal\n",
        "x1 = 1\n",
        "e = 1e-5 #toleransi\n",
        "\n",
        "# Checking Correctness of initial guess values and bisecting\n",
        "if f(x0) * f(x1) > 0.0:\n",
        "  print('Given guess values do not bracket the root.')\n",
        "  print('Try Again with different guess values.')\n",
        "else:\n",
        "  bisection(x0,x1,e)"
      ],
      "metadata": {
        "id": "O9g8CbSXLgNW",
        "colab": {
          "base_uri": "https://localhost:8080/"
        },
        "outputId": "88b28b48-a7f9-4606-cfa6-0c1cb4111156"
      },
      "execution_count": 20,
      "outputs": [
        {
          "output_type": "stream",
          "name": "stdout",
          "text": [
            "*** BISECTION METHOD IMPLEMENTATION ***\n",
            "Iterasi-1, x2 = 0.505000 and f(x2) = -0.199660\n",
            "Iterasi-2, x2 = 0.752500 and f(x2) = 0.158926\n",
            "Iterasi-3, x2 = 0.628750 and f(x2) = -0.017987\n",
            "Iterasi-4, x2 = 0.690625 and f(x2) = 0.071040\n",
            "Iterasi-5, x2 = 0.659687 and f(x2) = 0.026672\n",
            "Iterasi-6, x2 = 0.644219 and f(x2) = 0.004380\n",
            "Iterasi-7, x2 = 0.636484 and f(x2) = -0.006794\n",
            "Iterasi-8, x2 = 0.640352 and f(x2) = -0.001205\n",
            "Iterasi-9, x2 = 0.642285 and f(x2) = 0.001588\n",
            "Iterasi-10, x2 = 0.641318 and f(x2) = 0.000192\n",
            "Iterasi-11, x2 = 0.640835 and f(x2) = -0.000507\n",
            "Iterasi-12, x2 = 0.641077 and f(x2) = -0.000158\n",
            "Iterasi-13, x2 = 0.641198 and f(x2) = 0.000017\n",
            "Iterasi-14, x2 = 0.641137 and f(x2) = -0.000070\n",
            "Iterasi-15, x2 = 0.641167 and f(x2) = -0.000027\n",
            "Iterasi-16, x2 = 0.641182 and f(x2) = -0.000005\n",
            "\n",
            "Required Root is : 0.64118240\n"
          ]
        }
      ]
    },
    {
      "cell_type": "markdown",
      "source": [
        "## Prosedural"
      ],
      "metadata": {
        "id": "C9mDt0ETIJi6"
      }
    },
    {
      "cell_type": "code",
      "source": [
        "print('\\tBISECTION METHOD')\n",
        "a=0 #a inisialisasi 0\n",
        "b=3 #b inisialisasi 3\n",
        "for i in range(8): #iterasi hingga 8 kali\n",
        "  print('------------Iteration',i+1,'--------------------------')\n",
        "  print()\n",
        "  print('a= ', a)\n",
        "  print('b= ', b)\n",
        "  x = (a + b) / 2 # mencari nilai tengah\n",
        "  print('x= ', x)\n",
        "  fa = 2*a - 5 # persamaan matematika untuk a\n",
        "  print('fa= ', fa)\n",
        "  fb = 2*b - 5# persamaan matematika untuk b\n",
        "  print('fb= ', fb)\n",
        "  fx = 2*x - 5# persamaan matematika untuk x\n",
        "  print('fx= ', fx)\n",
        "  print()\n",
        "  \"\"\"\n",
        "  melakukan pengecekan kondisi apakah persamaan a < 0 dan persamaan x < 0,\n",
        "  atau persamaan a >0 dan persamaan x > 0\n",
        "  \"\"\"\n",
        "  if (fa < 0 and fx < 0) or (fa > 0 and fx > 0):\n",
        "    a = x #ganti a dengan x\n",
        "  else:\n",
        "    b = x #ganti b dengan x"
      ],
      "metadata": {
        "colab": {
          "base_uri": "https://localhost:8080/"
        },
        "id": "5icSnV27Dp0P",
        "outputId": "d69fa963-a04a-4a8c-8117-61dd447d3ac7"
      },
      "execution_count": 21,
      "outputs": [
        {
          "output_type": "stream",
          "name": "stdout",
          "text": [
            "\tBISECTION METHOD\n",
            "------------Iteration 1 --------------------------\n",
            "\n",
            "a=  0\n",
            "b=  3\n",
            "x=  1.5\n",
            "fa=  -5\n",
            "fb=  1\n",
            "fx=  -2.0\n",
            "\n",
            "------------Iteration 2 --------------------------\n",
            "\n",
            "a=  1.5\n",
            "b=  3\n",
            "x=  2.25\n",
            "fa=  -2.0\n",
            "fb=  1\n",
            "fx=  -0.5\n",
            "\n",
            "------------Iteration 3 --------------------------\n",
            "\n",
            "a=  2.25\n",
            "b=  3\n",
            "x=  2.625\n",
            "fa=  -0.5\n",
            "fb=  1\n",
            "fx=  0.25\n",
            "\n",
            "------------Iteration 4 --------------------------\n",
            "\n",
            "a=  2.25\n",
            "b=  2.625\n",
            "x=  2.4375\n",
            "fa=  -0.5\n",
            "fb=  0.25\n",
            "fx=  -0.125\n",
            "\n",
            "------------Iteration 5 --------------------------\n",
            "\n",
            "a=  2.4375\n",
            "b=  2.625\n",
            "x=  2.53125\n",
            "fa=  -0.125\n",
            "fb=  0.25\n",
            "fx=  0.0625\n",
            "\n",
            "------------Iteration 6 --------------------------\n",
            "\n",
            "a=  2.4375\n",
            "b=  2.53125\n",
            "x=  2.484375\n",
            "fa=  -0.125\n",
            "fb=  0.0625\n",
            "fx=  -0.03125\n",
            "\n",
            "------------Iteration 7 --------------------------\n",
            "\n",
            "a=  2.484375\n",
            "b=  2.53125\n",
            "x=  2.5078125\n",
            "fa=  -0.03125\n",
            "fb=  0.0625\n",
            "fx=  0.015625\n",
            "\n",
            "------------Iteration 8 --------------------------\n",
            "\n",
            "a=  2.484375\n",
            "b=  2.5078125\n",
            "x=  2.49609375\n",
            "fa=  -0.03125\n",
            "fb=  0.015625\n",
            "fx=  -0.0078125\n",
            "\n"
          ]
        }
      ]
    }
  ]
}
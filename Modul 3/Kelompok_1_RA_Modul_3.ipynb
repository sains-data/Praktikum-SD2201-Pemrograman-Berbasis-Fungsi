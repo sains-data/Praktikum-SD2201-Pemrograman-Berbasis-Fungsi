{
  "nbformat": 4,
  "nbformat_minor": 0,
  "metadata": {
    "colab": {
      "provenance": []
    },
    "kernelspec": {
      "name": "python3",
      "display_name": "Python 3"
    },
    "language_info": {
      "name": "python"
    }
  },
  "cells": [
    {
      "cell_type": "code",
      "execution_count": 1,
      "metadata": {
        "colab": {
          "base_uri": "https://localhost:8080/"
        },
        "id": "8Qv4suGTcm6z",
        "outputId": "f4d7cb61-cf6e-45ae-c81f-60cc0228949c"
      },
      "outputs": [
        {
          "output_type": "stream",
          "name": "stdout",
          "text": [
            "3\n",
            "5\n",
            "6\n",
            "3\n",
            "1\n",
            "2\n",
            "3\n",
            "2\n",
            "2\n",
            "2\n"
          ]
        }
      ],
      "source": [
        "import math # melakukan import modul math\n",
        "import random # melakukan import modul random (berisikan angka acak)\n",
        "\n",
        "def poisson_distribution_generator(lambd): # fungsi poisson_distribution_generator dengan parameter lambd\n",
        "    L = math.exp(-lambd) # nilai L untuk distribusi poisson\n",
        "    while True: # loop while (tak terbatas) untuk menghasilkan sampel berulang\n",
        "        k = 0 # inisialisasi nilai k awal = 0\n",
        "        p = 1 # inisialisasi nilai p awal = 1\n",
        "        while p > L: # looping selama p > L\n",
        "            k += 1 # peningkatan nilai k (jumlah kejadian)\n",
        "            p *= random.random() # mengalikan nilai p dengan angka acak\n",
        "        yield k - 1 # mengembalikan nilai iterasi sesuai k - 1\n",
        "\n",
        "lambda_val = 4 # parameter lambda (distribusi poisson)\n",
        "poisson_gen = poisson_distribution_generator(lambda_val) # generator distribusi poisson dengan parameter lambda_val\n",
        "\n",
        "for _ in range(10): # loop untuk 10 sampel\n",
        "  print(next(poisson_gen)) # mengembalikan nilai output\n",
        ""
      ]
    }
  ]
}
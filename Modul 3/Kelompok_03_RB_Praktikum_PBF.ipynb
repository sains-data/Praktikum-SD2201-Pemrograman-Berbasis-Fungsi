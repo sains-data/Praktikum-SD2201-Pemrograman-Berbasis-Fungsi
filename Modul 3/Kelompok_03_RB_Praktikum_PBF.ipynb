{
  "nbformat": 4,
  "nbformat_minor": 0,
  "metadata": {
    "colab": {
      "provenance": []
    },
    "kernelspec": {
      "name": "python3",
      "display_name": "Python 3"
    },
    "language_info": {
      "name": "python"
    }
  },
  "cells": [
    {
      "cell_type": "markdown",
      "source": [
        "#**Derivatif Numerik**"
      ],
      "metadata": {
        "id": "7XMAruUXIEoi"
      }
    },
    {
      "cell_type": "code",
      "source": [
        "# mendefinisikan fungsi untuk mengembalikan nilai derivatif numerik f di titik x dengan metode perbedaan hingga dari tengah (pusat)\n",
        "def derivative(f, x, h=1e-5):\n",
        "  return (f(x + h) - f(x - h)) / (2 * h)\n",
        "\n",
        "# mendefinisikan fungsi f, dimisalkan kita memiliki fungsi f(x) = x^2 + 2x\n",
        "def f(x):\n",
        "  return x ** 2 + 2 * x\n",
        "\n",
        "# ambil sebarang titik, misal x = 2, lalu hitung derivatif f'(x) dari f(x) = x^2 + 2x pada titik x = 2\n",
        "x = 2\n",
        "nilai_derivatif = derivative(f, x)\n",
        "print(f\"Nilai derivatif f'(x) pada x = {x} adalah: {nilai_derivatif}.\")"
      ],
      "metadata": {
        "colab": {
          "base_uri": "https://localhost:8080/"
        },
        "id": "nFo41N09z8IU",
        "outputId": "46815787-bc1d-4b81-c7bb-3940023e2407"
      },
      "execution_count": null,
      "outputs": [
        {
          "output_type": "stream",
          "name": "stdout",
          "text": [
            "Nilai derivatif f'(x) pada x = 2 adalah: 5.999999999994897.\n"
          ]
        }
      ]
    }
  ]
}
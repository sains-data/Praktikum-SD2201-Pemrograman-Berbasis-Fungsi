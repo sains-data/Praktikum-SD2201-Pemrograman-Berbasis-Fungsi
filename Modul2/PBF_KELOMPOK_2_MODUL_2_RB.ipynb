{
  "nbformat": 4,
  "nbformat_minor": 0,
  "metadata": {
    "colab": {
      "provenance": []
    },
    "kernelspec": {
      "name": "python3",
      "display_name": "Python 3"
    },
    "language_info": {
      "name": "python"
    }
  },
  "cells": [
    {
      "cell_type": "code",
      "source": [
        "konversi = lambda suhu, convert_to:list(map(lambda x: (x * 9/5) + 32 if convert_to == 'F' else (x - 32) * 5/9, suhu))\n",
        "\n",
        "# Contoh penggunaan\n",
        "celcius = [0, 10, 20, 30, 40]\n",
        "fahrenheit = konversi(celcius, 'F')\n",
        "print(\"Celsius ke Fahrenheit:\", fahrenheit)\n",
        "\n",
        "fahrenheit = [41, 50, 59, 68, 77]\n",
        "celcius = konversi(fahrenheit, 'C')\n",
        "print(\"Fahrenheit ke Celsius:\", celcius)\n"
      ],
      "metadata": {
        "colab": {
          "base_uri": "https://localhost:8080/"
        },
        "id": "Cr-W35GxBbJ4",
        "outputId": "4cc261c5-c90c-4b36-bc02-e1cbb63a07ff"
      },
      "execution_count": null,
      "outputs": [
        {
          "output_type": "stream",
          "name": "stdout",
          "text": [
            "Celsius ke Fahrenheit: [32.0, 50.0, 68.0, 86.0, 104.0]\n",
            "Fahrenheit ke Celsius: [5.0, 10.0, 15.0, 20.0, 25.0]\n"
          ]
        }
      ]
    }
  ]
}
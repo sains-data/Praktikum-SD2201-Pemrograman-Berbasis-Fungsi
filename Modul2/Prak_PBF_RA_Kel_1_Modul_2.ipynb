{
  "nbformat": 4,
  "nbformat_minor": 0,
  "metadata": {
    "colab": {
      "provenance": []
    },
    "kernelspec": {
      "name": "python3",
      "display_name": "Python 3"
    },
    "language_info": {
      "name": "python"
    }
  },
  "cells": [
    {
      "cell_type": "code",
      "source": [
        "from functools import reduce # menggunakan reduce untuk mengoperasikan semua dan memberikan nilai akhir saat semua elemen telah diproses\n",
        "\n",
        "questions = [\n",
        "    (\"Diketahui 15p + 27 = 6pq. Nilai 4pq - 18 ?\", [\"10p\", \"12p\", \"8p\"], 'a'),\n",
        "    (\"\"\"Diketahui 12 pekerja dapat menghasilkan gerabah sebanyak 20 buah dalam waktu 25 hari. Jika terdapat 30 pekerja yang menghasilkan 32 buah gerabah, maka berapa waktu yang diperlukan?\"\"\", [\"20 hari\", \"18 hari\", \"16 hari\"], 'c'),\n",
        "    (\"11.1% dari 1827 ?\", [\"201\", \"203\", \"164.59\"], 'b'),\n",
        "    (\"Deteriorasi = ... \", [\"Kemajuan\", \"Bagian\", \"Kemerosotan\"], 'c'),\n",
        "    (\"Militan >< ... \", [\"Agresif\", \"Tenang\", \"Ideologi\"], 'b'),\n",
        "] # pertanyaan kuis interaktif\n",
        "\n",
        "def get_answer(question, choices): # fungsi untuk mengembalikan jawaban dari setiap pertanyaan\n",
        "    print(question)\n",
        "    for i, choice in enumerate(choices, start=97):\n",
        "        print(f\"{chr(i)}. {choice}\")\n",
        "    while True:\n",
        "        try:\n",
        "            jawaban = input(\"Masukkan jawaban (a/b/c): \").lower()\n",
        "            print(\"\")\n",
        "            if jawaban not in ['a', 'b', 'c']:\n",
        "                raise ValueError(\"Jawaban tidak valid.\")\n",
        "            return ord(jawaban) - 97\n",
        "        except ValueError:\n",
        "            print(\"Masukkan opsi yang valid (a/b/c).\")\n",
        "\n",
        "def calculate_score(score, question, question_number): # fungsi untuk mengembalikan nilai (skor) setiap pertanyaan yang ada\n",
        "    question_text, choices, correct_answer = question\n",
        "    numbered_question_text = f\"{question_number}. {question_text}\"\n",
        "    correct_index = ord(correct_answer) - 97\n",
        "    return score + 20 if get_answer(numbered_question_text, choices) == correct_index else score\n",
        "\n",
        "final_score = reduce(lambda score, question[1]: calculate_score(score[1], question[0]+1), enumerate(questions), 0) # menggunakan fungsi lambda dan reduce untuk meng-kalkulasi skor akhir berdasarkan pertanyaan yang ada.\n",
        "# disini kami melakukan iterasi dari list questions meng-update skor menggunakan fungsi calculate_score. Dengan meng-set skor awal dengan nilai 0.\n",
        "\n",
        "print(\"Skor Kamu Adalah\", final_score) # untuk memunculkan nilai (skor) akhir kepada pengguna"
      ],
      "metadata": {
        "id": "eDm6eA5dHECM"
      },
      "execution_count": 1,
      "outputs": []
    }
  ]
}
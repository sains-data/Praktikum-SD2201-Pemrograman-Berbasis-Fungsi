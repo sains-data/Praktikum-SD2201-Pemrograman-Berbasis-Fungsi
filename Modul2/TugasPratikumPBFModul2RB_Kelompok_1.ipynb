{
  "nbformat": 4,
  "nbformat_minor": 0,
  "metadata": {
    "colab": {
      "provenance": []
    },
    "kernelspec": {
      "name": "python3",
      "display_name": "Python 3"
    },
    "language_info": {
      "name": "python"
    }
  },
  "cells": [
    {
      "cell_type": "markdown",
      "source": [
        "# TUGAS PRAKTIKUM KELOMPOK PBF\n",
        "\n"
      ],
      "metadata": {
        "id": "gr9WnBEXtdhB"
      }
    },
    {
      "cell_type": "markdown",
      "source": [
        "##Kelompok 1\n",
        "\n",
        "###Cyntia Kristina Sidauruk  122450023\n",
        "\n",
        "###Patricia Leondrea Diajeng Putri 122450050\n",
        "\n",
        "###Berliana Enda Putri 122450065\n",
        "\n",
        "###Feryadi Yulius 122450087\n",
        "\n",
        "###Naufal Fakhri 122450089"
      ],
      "metadata": {
        "id": "LJK5AuiLtito"
      }
    },
    {
      "cell_type": "markdown",
      "source": [
        "#Program"
      ],
      "metadata": {
        "id": "k8GI1Ibttysb"
      }
    },
    {
      "cell_type": "markdown",
      "source": [
        "## COde"
      ],
      "metadata": {
        "id": "B-cYUrnst0v2"
      }
    },
    {
      "cell_type": "code",
      "execution_count": null,
      "metadata": {
        "id": "mcg372qUSfMk"
      },
      "outputs": [],
      "source": [
        "import pandas as pd\n",
        "from functools import reduce\n",
        "\n",
        "# Kode untuk menghitung mean/nilain rata-rata\n",
        "def hitung_mean(data):\n",
        "    return reduce(lambda x, y: x + y, data) / len(data)\n",
        "\n",
        "#\n",
        "def hitung_median(data):\n",
        "    sorted_data = sorted(data)\n",
        "    n = len(sorted_data)\n",
        "\n",
        "    if n % 2 == 1:\n",
        "        return sorted_data[n // 2]\n",
        "    else:\n",
        "        return reduce(lambda x, y: x + y, sorted_data[n // 2 - 1:n // 2 + 1]) / 2\n",
        "\n",
        "def hitung_modus(data):\n",
        "    frequency = {}\n",
        "    for value in data:\n",
        "        if value in frequency:\n",
        "            frequency[value] += 1\n",
        "        else:\n",
        "            frequency[value] = 1\n",
        "\n",
        "    max_freq = reduce(lambda x, y: x if frequency[x] > frequency[y] else y, frequency.keys())\n",
        "\n",
        "    return max_freq\n",
        "\n",
        "def hitung_total(data):\n",
        "    return reduce(lambda x, y: x + y, data)\n",
        "\n",
        "def hitung_produk(data):\n",
        "    return reduce(lambda x, y: x * y, data)\n",
        "\n",
        "def hitung_statistik(file_path, column_name):\n",
        "    data = pd.read_csv(file_path)\n",
        "    column_data = data[column_name]\n",
        "\n",
        "    mean = hitung_mean(column_data)\n",
        "    median = hitung_median(column_data)\n",
        "    modus = hitung_modus(column_data)\n",
        "    total = hitung_total(column_data)\n",
        "    produk = hitung_produk(column_data)\n",
        "\n",
        "    print(f\"Mean: {mean},\\nMedian: {median},\\nModus: {modus},\\nTotal: {total},\\nProduk: {produk}\\n\")"
      ]
    },
    {
      "cell_type": "markdown",
      "source": [
        "## Penerapan pada Dataset"
      ],
      "metadata": {
        "id": "69DfgsLct2U7"
      }
    },
    {
      "cell_type": "code",
      "source": [
        "# PENERAPAN\n",
        "file_path = \"/content/Walmart_sales.csv\"  # Ubah dengan path ke file CSV Anda\n",
        "column_name = \"Weekly_Sales\"  # Ubah dengan nama kolom yang ingin Anda hitung statistiknya\n",
        "hitung_statistik(file_path, column_name)"
      ],
      "metadata": {
        "colab": {
          "base_uri": "https://localhost:8080/"
        },
        "id": "6-DR2wtGVEVm",
        "outputId": "b4fe34b9-05c4-44af-b413-a250eb4553e5"
      },
      "execution_count": null,
      "outputs": [
        {
          "output_type": "stream",
          "name": "stdout",
          "text": [
            "Mean: 1046964.8775617732,\n",
            "Median: 960746.04,\n",
            "Modus: 760281.43,\n",
            "Total: 6737218987.11001,\n",
            "Produk: inf\n",
            "\n"
          ]
        }
      ]
    }
  ]
}
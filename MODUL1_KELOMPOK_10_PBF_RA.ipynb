{
  "cells": [
    {
      "cell_type": "markdown",
      "metadata": {},
      "source": [
        "**Anggota Kelompok :** <br/>\n",
        "- Happy Syahrul Ramadhan-122450013 <br/>\n",
        "- Nurul Alfajar Gumel-122450127<br/>\n",
        "- FADHIL FITRA WIJAYA-122450082<br/>\n",
        "- ELI DWI PUTRA BEREMA-122450064<br/>\n",
        "- Dhafin Razaqa Luthfi-122450133<br/>"
      ]
    },
    {
      "cell_type": "markdown",
      "metadata": {
        "id": "OWKaU86jVMI5"
      },
      "source": [
        "# Tugas Jurnal Kelompok (Tahun 2023)"
      ]
    },
    {
      "cell_type": "markdown",
      "metadata": {
        "id": "kesDDz4-VQFM"
      },
      "source": [
        "1. **Buatlah fungsi komposisi dengan nilai F(x) = 4^x, g(x)=x^x dan h(x)=3+x dengan pemrograman prosedural tiga fungsi dan pemrograman fungsional dengan lambda.**"
      ]
    },
    {
      "cell_type": "code",
      "execution_count": 15,
      "metadata": {
        "colab": {
          "base_uri": "https://localhost:8080/"
        },
        "id": "8apJK64zuIuL",
        "outputId": "72037575-f1b4-455e-91e1-62c09aaaa781"
      },
      "outputs": [
        {
          "name": "stdout",
          "output_type": "stream",
          "text": [
            "Hasil komposisi fungsi dari 3 fungsi :  32317006071311007300714876688669951960444102669715484032130345427524655138867890893197201411522913463688717960921898019494119559150490921095088152386448283120630877367300996091750197750389652106796057638384067568276792218642619756161838094338476170470581645852036305042887575891541065808607552399123930385521914333389668342420684974786564569494856176035326322058077805659331026192708460314150258592864177116725943603718461857357598351152301645904403697613233287231227125684710820209725157101726931323469678542580656697935045997268352998638215525166389437335543602135433229604645318478604952148193555853611059596230659\n"
          ]
        }
      ],
      "source": [
        "def f(x):\n",
        "    return 4**x\n",
        "def g(x):\n",
        "    return x**x\n",
        "def h(x):\n",
        "    return 3+x\n",
        "\n",
        "print(\"Hasil komposisi fungsi dari 3 fungsi : \", h(g(f(4))))"
      ]
    },
    {
      "cell_type": "code",
      "execution_count": 16,
      "metadata": {
        "colab": {
          "base_uri": "https://localhost:8080/"
        },
        "id": "tCPfJzGBSs29",
        "outputId": "2fcebbc0-b77e-4f93-b6d4-7a69299de09f"
      },
      "outputs": [
        {
          "name": "stdout",
          "output_type": "stream",
          "text": [
            "Hasil fungsi komposisi dengan lambda adalah 32317006071311007300714876688669951960444102669715484032130345427524655138867890893197201411522913463688717960921898019494119559150490921095088152386448283120630877367300996091750197750389652106796057638384067568276792218642619756161838094338476170470581645852036305042887575891541065808607552399123930385521914333389668342420684974786564569494856176035326322058077805659331026192708460314150258592864177116725943603718461857357598351152301645904403697613233287231227125684710820209725157101726931323469678542580656697935045997268352998638215525166389437335543602135433229604645318478604952148193555853611059596230659\n"
          ]
        }
      ],
      "source": [
        "fungsi_komposisi_fungsional = lambda x: h(g(f(x)))\n",
        "\n",
        "hasil_fungsional = fungsi_komposisi_fungsional(x)\n",
        "print(\"Hasil fungsi komposisi dengan lambda\",\"adalah\", hasil_fungsional)\n"
      ]
    },
    {
      "cell_type": "markdown",
      "metadata": {
        "id": "RxeautD0VvTT"
      },
      "source": [
        "2. Buatlah pemrograman berbasis objek pada soal no.1"
      ]
    },
    {
      "cell_type": "code",
      "execution_count": 24,
      "metadata": {
        "colab": {
          "base_uri": "https://localhost:8080/"
        },
        "id": "ho6IK5RoVHuF",
        "outputId": "838e3453-afb7-4207-e6b3-a2e97baafd8c"
      },
      "outputs": [
        {
          "data": {
            "text/plain": [
              "32317006071311007300714876688669951960444102669715484032130345427524655138867890893197201411522913463688717960921898019494119559150490921095088152386448283120630877367300996091750197750389652106796057638384067568276792218642619756161838094338476170470581645852036305042887575891541065808607552399123930385521914333389668342420684974786564569494856176035326322058077805659331026192708460314150258592864177116725943603718461857357598351152301645904403697613233287231227125684710820209725157101726931323469678542580656697935045997268352998638215525166389437335543602135433229604645318478604952148193555853611059596230659"
            ]
          },
          "execution_count": 24,
          "metadata": {},
          "output_type": "execute_result"
        }
      ],
      "source": [
        "class Value:\n",
        "    def __init__(self, value):\n",
        "        self.value = value\n",
        "    def __rshift__(self, other):\n",
        "        return other(self.value)\n",
        "def f(x):\n",
        "    return Value(4**x)\n",
        "def g(x):\n",
        "    return Value(x ** x)\n",
        "def h(x):\n",
        "    return Value(3 + x)\n",
        "\n",
        "result = Value(4) >> f >> g >> h\n",
        "result.value"
      ]
    },
    {
      "cell_type": "markdown",
      "metadata": {
        "id": "vp9UbGX7WTlI"
      },
      "source": [
        "3. **Berikan Analisis Komparasi soal 1 dan 2**"
      ]
    },
    {
      "cell_type": "markdown",
      "metadata": {
        "id": "B0SE-xBLZRnL"
      },
      "source": [
        "**Kelebihan Pendekatan Pemrograman Prosedural (soal 1) :**\n",
        "1.   **Lebih Mudah Dipahami** : Pendekatan ini cenderung lebih mudah dipahami oleh pemrogram yang lebih terbiasa dengan gaya pemrograman imperatif atau prosedural.\n",
        "2.   **Lebih Fleksibel** : Memisahkan definisi fungsi-fungsi memungkinkan untuk penggunaan ulang yang lebih mudah dari setiap fungsi.\n",
        "\n",
        "\n",
        "**Kelebihan Pendekatan Pemrograman Fungsional dengan Lambda (soal 2) :**\n",
        "\n",
        "\n",
        "1.   **Kode Lebih Ringkas** : Menggunakan lambda memungkinkan kita untuk menulis kode yang lebih ringkas dan terkonsentrasi.\n",
        "2.   **Mendukung Paradigma Fungsional** : Cocok untuk kasus di mana paradigma fungsional lebih disukai atau ketika kita ingin menghindari pembuatan fungsi terpisah yang hanya digunakan sekali.\n",
        "\n",
        "\n",
        "**KESIMPULAN :**\n",
        "\n",
        "Pendekatan pemrograman prosedural pada soal 1 lebih sesuai untuk kasus di mana kita perlu mendefinisikan fungsi-fungsi terpisah yang mungkin akan digunakan kembali atau membutuhkan penanganan yang lebih terperinci. Sementara itu, pendekatan pemrograman fungsional dengan lambda pada soal 2 lebih sesuai untuk kasus di mana kita ingin menulis kode yang lebih ringkas atau menggunakan paradigma fungsional secara eksplisit. Pemilihan antara kedua pendekatan ini tergantung pada kebutuhan dan preferensi masing-masing.\n",
        "\n",
        "\n",
        "\n",
        "\n"
      ]
    },
    {
      "cell_type": "markdown",
      "metadata": {
        "id": "NkaWWM0cXYzK"
      },
      "source": [
        "4. **Buatlah satu penyelesaian Luas Segitiga dengan menggunakan Pemrograman berorientasi Objek dan Pemrograman berbasis Fungsi. uji dengan membandingkan mana yang tercepat komputasinya.**"
      ]
    },
    {
      "cell_type": "code",
      "execution_count": 25,
      "metadata": {
        "colab": {
          "base_uri": "https://localhost:8080/"
        },
        "id": "vBPgbwJFWUe2",
        "outputId": "fc67061c-6ac1-4339-9756-5d942a923747"
      },
      "outputs": [
        {
          "name": "stdout",
          "output_type": "stream",
          "text": [
            "Execution time: 0.00014710426330566406 seconds\n"
          ]
        }
      ],
      "source": [
        "import time\n",
        "st = time.time()\n",
        "\n",
        "def luas_segitiga(panjang,lebar,tinggi):\n",
        "    return (panjang*lebar*tinggi)/2\n",
        "luas_segitiga(2,3,4)\n",
        "et = time.time()\n",
        "elapsed_time = et - st\n",
        "print('Execution time:', elapsed_time, 'seconds')"
      ]
    },
    {
      "cell_type": "code",
      "execution_count": 26,
      "metadata": {
        "colab": {
          "base_uri": "https://localhost:8080/"
        },
        "id": "Qeu1zAO6WuUr",
        "outputId": "afbfa95c-61a0-41a1-dec1-c017468dc88a"
      },
      "outputs": [
        {
          "name": "stdout",
          "output_type": "stream",
          "text": [
            "area of Triangle : 12.0\n",
            "Execution time: 0.0011725425720214844 seconds\n"
          ]
        }
      ],
      "source": [
        "import time\n",
        "st = time.time()\n",
        "class Sides:\n",
        "    def __init__(self,a, b, c):\n",
        "        self.a = a\n",
        "        self.b = b\n",
        "        self.c = c\n",
        "class A(Sides):\n",
        "    def area(self):\n",
        "        s = (self.a * self.b * self.c)/2\n",
        "        return s\n",
        "t = A(2,3,4)\n",
        "print(\"area of Triangle : {}\".format(t.area()))\n",
        "et = time.time()\n",
        "elapsed_time = et - st\n",
        "print('Execution time:', elapsed_time, 'seconds')"
      ]
    },
    {
      "cell_type": "code",
      "execution_count": 27,
      "metadata": {
        "colab": {
          "base_uri": "https://localhost:8080/"
        },
        "id": "Xg_ONfyuW_Gb",
        "outputId": "8baae5b9-a7fa-41c9-f37c-7913f21cd223"
      },
      "outputs": [
        {
          "name": "stdout",
          "output_type": "stream",
          "text": [
            "Execution time: 0.00014901161193847656 seconds\n"
          ]
        }
      ],
      "source": [
        "import time\n",
        "st = time.time()\n",
        "sg = lambda a,b,c: (a*b*c)/2\n",
        "sg(2,3,4)\n",
        "et = time.time()\n",
        "elapsed_time = et - st\n",
        "print('Execution time:', elapsed_time, 'seconds')"
      ]
    },
    {
      "cell_type": "markdown",
      "metadata": {
        "id": "yPnBSCTBXeSS"
      },
      "source": [
        "**Soal 5 :** <br/><br/> \n",
        "**Diberikan Algoritma Metode Bisection berikut :**\n",
        "\n",
        "\n",
        "1. start\n",
        "2. Define function f(x)\n",
        "3. Choose initial guesses x0 and x1 such that f(x0)f(x1) < 0\n",
        "4. Choose pre-specified tolerable error e.\n",
        "5. Calculate new approximated root as x2 = (x0 + x1)/2\n",
        "6. Calculate f(x0)f(x2) a.if f(x0)f(x2) < 0 then x0 = x0 and x1 = x2 b.if f(x0)f(x2) > 0 then x0 = x2 and x1 = x1 c.if f(x0)f(x2) = 0 then goto (8)\n",
        "7. if |f(x2)| > e then goto (5) otherwise goto (8)\n",
        "8. Display x2 as root.\n",
        "9. Stop\n",
        "\n",
        "Buatlah prosedural programming dari persoalan di atas dan ubahlah dengan functional programming.\n",
        "lakukan dengan batas toleransi . dengan fungsi yang diberikan sebagai berikut: dan nilai a dan\n",
        "b adalah di antara 0 dan 1 (nilai antara tidak boleh 0 dan 1)"
      ]
    },
    {
      "cell_type": "code",
      "execution_count": 29,
      "metadata": {
        "colab": {
          "base_uri": "https://localhost:8080/"
        },
        "id": "EV4Cn16KYZuT",
        "outputId": "a21a833d-c442-4261-a83c-3d8a6d4d048a"
      },
      "outputs": [
        {
          "name": "stdout",
          "output_type": "stream",
          "text": [
            "\n",
            "\n",
            "*** BISECTION METHOD IMPLEMENTATION ***\n",
            "Iteration-1, x2 = 0.505000 and f(x2) = -0.199660\n",
            "Iteration-2, x2 = 0.752500 and f(x2) = 0.158926\n",
            "Iteration-3, x2 = 0.628750 and f(x2) = -0.017987\n",
            "Iteration-4, x2 = 0.690625 and f(x2) = 0.071040\n",
            "Iteration-5, x2 = 0.659687 and f(x2) = 0.026672\n",
            "Iteration-6, x2 = 0.644219 and f(x2) = 0.004380\n",
            "Iteration-7, x2 = 0.636484 and f(x2) = -0.006794\n",
            "Iteration-8, x2 = 0.640352 and f(x2) = -0.001205\n",
            "Iteration-9, x2 = 0.642285 and f(x2) = 0.001588\n",
            "Iteration-10, x2 = 0.641318 and f(x2) = 0.000192\n",
            "Iteration-11, x2 = 0.640835 and f(x2) = -0.000507\n",
            "Iteration-12, x2 = 0.641077 and f(x2) = -0.000158\n",
            "Iteration-13, x2 = 0.641198 and f(x2) = 0.000017\n",
            "Iteration-14, x2 = 0.641137 and f(x2) = -0.000070\n",
            "Iteration-15, x2 = 0.641167 and f(x2) = -0.000027\n",
            "Iteration-16, x2 = 0.641182 and f(x2) = -0.000005\n",
            "\n",
            "Required Root is : 0.64118240\n"
          ]
        }
      ],
      "source": [
        "def f(x):\n",
        "    return x-2**-x\n",
        "\n",
        "def bisection(x0,x1,e):\n",
        "    step = 1\n",
        "    print('\\n\\n*** BISECTION METHOD IMPLEMENTATION ***')\n",
        "    condition = True\n",
        "    while condition:\n",
        "        x2 = (x0 + x1)/2\n",
        "        print('Iteration-%d, x2 = %0.6f and f(x2) = %0.6f' % (step, x2, f(x2)))\n",
        "        if f(x0) * f(x2) < 0:\n",
        "            x1 = x2\n",
        "        else:\n",
        "            x0 = x2\n",
        "        step = step + 1\n",
        "        condition = abs(f(x2)) > e\n",
        "    print('\\nRequired Root is : %0.8f' % x2)\n",
        "\n",
        "x0 = 0.01\n",
        "x1 = 1\n",
        "e = 1e-5\n",
        "\n",
        "if f(x0) * f(x1) > 0.0:\n",
        "    print('Given guess values do not bracket the root.')\n",
        "    print('Try Again with different guess values.')\n",
        "else:\n",
        "    bisection(x0,x1,e)"
      ]
    },
    {
      "cell_type": "code",
      "execution_count": 30,
      "metadata": {
        "colab": {
          "base_uri": "https://localhost:8080/"
        },
        "id": "Qz_hz3RuY9uG",
        "outputId": "9320a1da-a90e-4bd5-981e-b27431847fb9"
      },
      "outputs": [
        {
          "name": "stdout",
          "output_type": "stream",
          "text": [
            "\tBISECTION METHOD\n",
            "------------Iteration 1 --------------------------\n",
            "\n",
            "a=  0\n",
            "b=  3\n",
            "x=  1.5\n",
            "fa=  -5\n",
            "fb=  1\n",
            "fx=  -2.0\n",
            "\n",
            "------------Iteration 2 --------------------------\n",
            "\n",
            "a=  1.5\n",
            "b=  3\n",
            "x=  2.25\n",
            "fa=  -2.0\n",
            "fb=  1\n",
            "fx=  -0.5\n",
            "\n",
            "------------Iteration 3 --------------------------\n",
            "\n",
            "a=  2.25\n",
            "b=  3\n",
            "x=  2.625\n",
            "fa=  -0.5\n",
            "fb=  1\n",
            "fx=  0.25\n",
            "\n",
            "------------Iteration 4 --------------------------\n",
            "\n",
            "a=  2.25\n",
            "b=  2.625\n",
            "x=  2.4375\n",
            "fa=  -0.5\n",
            "fb=  0.25\n",
            "fx=  -0.125\n",
            "\n",
            "------------Iteration 5 --------------------------\n",
            "\n",
            "a=  2.4375\n",
            "b=  2.625\n",
            "x=  2.53125\n",
            "fa=  -0.125\n",
            "fb=  0.25\n",
            "fx=  0.0625\n",
            "\n",
            "------------Iteration 6 --------------------------\n",
            "\n",
            "a=  2.4375\n",
            "b=  2.53125\n",
            "x=  2.484375\n",
            "fa=  -0.125\n",
            "fb=  0.0625\n",
            "fx=  -0.03125\n",
            "\n",
            "------------Iteration 7 --------------------------\n",
            "\n",
            "a=  2.484375\n",
            "b=  2.53125\n",
            "x=  2.5078125\n",
            "fa=  -0.03125\n",
            "fb=  0.0625\n",
            "fx=  0.015625\n",
            "\n",
            "------------Iteration 8 --------------------------\n",
            "\n",
            "a=  2.484375\n",
            "b=  2.5078125\n",
            "x=  2.49609375\n",
            "fa=  -0.03125\n",
            "fb=  0.015625\n",
            "fx=  -0.0078125\n",
            "\n"
          ]
        }
      ],
      "source": [
        "print('\\tBISECTION METHOD')\n",
        "a=0\n",
        "b=3\n",
        "for i in range(8):\n",
        "    print('------------Iteration',i+1,'--------------------------')\n",
        "    print()\n",
        "    print('a= ', a)\n",
        "    print('b= ', b)\n",
        "    x = (a + b) / 2\n",
        "    print('x= ', x)\n",
        "    fa = 2*a - 5# Give the function here.\n",
        "    print('fa= ', fa)\n",
        "    fb = 2*b - 5# Give the function here.\n",
        "    print('fb= ', fb)\n",
        "    fx = 2*x - 5# Give the function here.\n",
        "    print('fx= ', fx)\n",
        "    print()\n",
        "    if (fa < 0 and fx < 0) or (fa > 0 and fx > 0):\n",
        "        a = x\n",
        "    else:\n",
        "        b = x"
      ]
    }
  ],
  "metadata": {
    "colab": {
      "provenance": []
    },
    "kernelspec": {
      "display_name": "Python 3",
      "name": "python3"
    },
    "language_info": {
      "name": "python"
    }
  },
  "nbformat": 4,
  "nbformat_minor": 0
}

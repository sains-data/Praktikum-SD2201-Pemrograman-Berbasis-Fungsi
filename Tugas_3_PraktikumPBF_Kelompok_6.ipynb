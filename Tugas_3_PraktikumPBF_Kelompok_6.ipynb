{
  "nbformat": 4,
  "nbformat_minor": 0,
  "metadata": {
    "colab": {
      "provenance": []
    },
    "kernelspec": {
      "name": "python3",
      "display_name": "Python 3"
    },
    "language_info": {
      "name": "python"
    }
  },
  "cells": [
    {
      "cell_type": "code",
      "source": [
        "import numpy as np\n",
        "\n",
        "def exponential_distribution_generator(lambd):\n",
        "    while True:\n",
        "        yield -np.log(1 - np.random.random()) / lambd\n",
        "\n",
        "lambd = 0.5\n",
        "\n",
        "gen_eksponential = exponential_distribution_generator(lambd)\n",
        "sample_eksponential = next(gen_eksponential)\n",
        "print(f\"Sampel dari distribusi eksponensial: {sample_eksponential}\")"
      ],
      "metadata": {
        "colab": {
          "base_uri": "https://localhost:8080/"
        },
        "id": "dJsJ2MAQ9dYP",
        "outputId": "55b9167b-d60d-4303-beb2-bd3e58cf70cc"
      },
      "execution_count": 33,
      "outputs": [
        {
          "output_type": "stream",
          "name": "stdout",
          "text": [
            "Sampel dari distribusi eksponensial: 2.16676734166109\n"
          ]
        }
      ]
    }
  ]
}
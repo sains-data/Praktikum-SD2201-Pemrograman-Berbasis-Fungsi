{
  "cells": [
    {
      "cell_type": "markdown",
      "metadata": {
        "id": "TLcT5r4j6ON3"
      },
      "source": [
        "**Nama Anggota Kelompok 4 PBF RA**\n",
        "\n",
        "  - DANANG HILAL KURNIAWAN-122450085\n",
        "  - EKSANTY F SUGMA ISLAMIATY-122450001\n",
        "  - NAJLA JUWAIRIA-122450037\n",
        "  - KHARISA HARVANNY-122450061\n",
        "  - MIRZAN YUSUF RABBANI-122450118"
      ]
    },
    {
      "cell_type": "markdown",
      "metadata": {
        "id": "flVjwcIfJwik"
      },
      "source": [
        "#1. Buatlah fungsi komposisi dengan nilai f(x) = 4^x, g(x) = x^x dan h(x) = 3+x dan dengan pemrograman prosedural tiga fungsi dan pemrograman fungsional dengan lambda.\n"
      ]
    },
    {
      "cell_type": "markdown",
      "metadata": {
        "id": "g6yDJnJmKeSA"
      },
      "source": [
        "Pemrograman prosedural tiga fungsi"
      ]
    },
    {
      "cell_type": "code",
      "execution_count": 2,
      "metadata": {
        "id": "TEaSjlbwAFY5"
      },
      "outputs": [
        {
          "name": "stdout",
          "output_type": "stream",
          "text": [
            "259\n"
          ]
        }
      ],
      "source": [
        "# Fungsi f(x): mengalikan parameter x dengan 4\n",
        "def f(x):\n",
        "    return 4 * x\n",
        "\n",
        "# Fungsi g(x): mengkuadratkan parameter x\n",
        "def g(x):\n",
        "    return x * x\n",
        "\n",
        "# Fungsi h(x): menambahkan 3 pada parameter x\n",
        "def h(x):\n",
        "    return 3 + x\n",
        "\n",
        "# Komposisi fungsi: h(g(f(4)))\n",
        "result = h(g(f(4)))\n",
        "\n",
        "# Menampilkan hasil komposisi\n",
        "print(result)"
      ]
    },
    {
      "cell_type": "markdown",
      "metadata": {
        "id": "lY4BKKMMKlQV"
      },
      "source": [
        "Pemrograman fungsiuonal dengan lambda"
      ]
    },
    {
      "cell_type": "code",
      "execution_count": 3,
      "metadata": {
        "id": "GB4QDnK1APuU"
      },
      "outputs": [
        {
          "name": "stdout",
          "output_type": "stream",
          "text": [
            "147\n"
          ]
        }
      ],
      "source": [
        "# Fungsi komposisi (compose): menggabungkan dua fungsi menjadi satu\n",
        "def compose(f1, f2):\n",
        "    # Mengembalikan fungsi lambda yang menerima parameter v dan mengaplikasikan f1 ke hasil f2(v)\n",
        "    return lambda v: f1(f2(v))\n",
        "\n",
        "# Menggunakan fungsi komposisi untuk membuat h(g(f(x)))\n",
        "hgf = compose(h, compose(g, f))\n",
        "\n",
        "# Mengaplikasikan h(g(f(x))) untuk x=3\n",
        "result = hgf(3)\n",
        "\n",
        "# Menampilkan hasil\n",
        "print(result)"
      ]
    },
    {
      "cell_type": "markdown",
      "metadata": {
        "id": "ytb8kIb8O_tw"
      },
      "source": [
        "#2. Buatlah pemrograman berbasis objek pada soal no.1"
      ]
    },
    {
      "cell_type": "code",
      "execution_count": 5,
      "metadata": {
        "id": "NBbfsfe3AkqM"
      },
      "outputs": [
        {
          "name": "stdout",
          "output_type": "stream",
          "text": [
            "147\n"
          ]
        }
      ],
      "source": [
        "# Kelas Value: Merepresentasikan nilai dengan operasi yang mendukung \"continuation passing\" style\n",
        "class Value:\n",
        "    def __init__(self, value):\n",
        "        self.value = value\n",
        "\n",
        "    # Operator `value >> func`: Mengaplikasikan func ke value\n",
        "    def __rshift__(self, other):\n",
        "        return other(self.value)\n",
        "\n",
        "# Fungsi-fungsi matematika dalam bentuk sederhana\n",
        "def f(x):\n",
        "    return Value(4 * x)\n",
        "\n",
        "def g(x):\n",
        "    return Value(x * x)\n",
        "\n",
        "def h(x):\n",
        "    return Value(3 + x)\n",
        "\n",
        "# Menerapkan \"continuation passing\" style pada nilai awal\n",
        "result = Value(3) >> f >> g >> h\n",
        "\n",
        "# Mengambil nilai hasil\n",
        "result_value = result.value\n",
        "print(result_value)"
      ]
    },
    {
      "cell_type": "markdown",
      "metadata": {
        "id": "wvC5x_ZIP5Vz"
      },
      "source": [
        "#3. Berikan Analisis Komparasi soal 1 dan 2"
      ]
    },
    {
      "cell_type": "markdown",
      "metadata": {
        "id": "kDGdQMidP8Z4"
      },
      "source": [
        "1. **Pemrograman Prosedural dan Fungsional dengan Lambda (Soal 1)**\n",
        "\n",
        "**Kelebihan:**\n",
        "  - Sederhana: Struktur kode sederhana dan langsung ke pokok permasalahan.\n",
        "  - Fleksibel: Fungsi-fungsi terpisah dapat digunakan kembali.\n",
        "\n",
        "**Kekurangan:**\n",
        "  - Kurang Terstruktur: Tidak ada struktur yang jelas untuk mengorganisir fungsi-fungsi.\n",
        "  - Pembacaan Kode: Mungkin sulit untuk memahami komposisi fungsi secara langsung.\n",
        "\n",
        "**Kesimpulan:**\n",
        "Cocok untuk kasus-kasus sederhana dan tidak terlalu kompleks.\n",
        "Pendekatan fungsional dengan lambda cenderung lebih ringkas.\n",
        "\n",
        "\n",
        "\n",
        "**Pemrograman Berbasis Objek (Soal 2):**\n",
        "\n",
        "**Kelebihan:**\n",
        "  - Terstruktur: Menggunakan kelas dan metode untuk mengorganisir data dan fungsionalitas terkait.\n",
        "  - Reusabilitas: Kode lebih terstruktur, memungkinkan reusabilitas yang baik.\n",
        "  - Enkapsulasi: Data dan fungsionalitas terkait diencapsulasi dalam kelas, memberikan pembatasan akses.\n",
        "\n",
        "**Kekurangan:**\n",
        "  - Kompleksitas: Lebih kompleks daripada pendekatan prosedural untuk kasus sederhana.\n",
        "  - Waktu Eksekusi: Memerlukan lebih banyak waktu untuk membuat dan memahami struktur objek.\n",
        "\n",
        "**Kesimpulan:**\n",
        "Cocok untuk proyek-proyek yang memerlukan struktur terorganisir. Sementara pendekatan berbasis objek mungkin lebih sesuai untuk proyek-proyek yang memerlukan pemodelan yang lebih kompleks atau mempertahankan state internal."
      ]
    },
    {
      "cell_type": "markdown",
      "metadata": {
        "id": "W3jRFhXQO2cB"
      },
      "source": [
        "#4. Buatlah satu penyelesaian Luas Segitiga dengan menggunakan Pemrograman berorientasi Objek dan Pemrograman berbasis Fungsi. uji dengan membandingkan mana yang tercepat komputasinya."
      ]
    },
    {
      "cell_type": "markdown",
      "metadata": {
        "id": "GLTfRzv-Pa_E"
      },
      "source": [
        "Berbasis Objek"
      ]
    },
    {
      "cell_type": "code",
      "execution_count": 6,
      "metadata": {
        "id": "P2BxNZR9BEr1"
      },
      "outputs": [
        {
          "name": "stdout",
          "output_type": "stream",
          "text": [
            "Luas segitiga: 200.0\n",
            "Waktu eksekusi: 2.1457672119140625e-06 detik\n"
          ]
        }
      ],
      "source": [
        "import time\n",
        "\n",
        "class Triangle:\n",
        "    def __init__(self, panjang, lebar, tinggi):\n",
        "        self.panjang = panjang\n",
        "        self.lebar = lebar\n",
        "        self.tinggi = tinggi\n",
        "\n",
        "    def hitung_luas(self):\n",
        "        return (self.panjang * self.lebar * self.tinggi) / 2\n",
        "\n",
        "    def measure_execution_time(self):\n",
        "        start_time = time.time()\n",
        "        luas_segitiga = self.hitung_luas()\n",
        "        end_time = time.time()\n",
        "        elapsed_time = end_time - start_time\n",
        "        return luas_segitiga, elapsed_time\n",
        "\n",
        "# Membuat instance dari kelas Triangle\n",
        "triangle = Triangle(5, 8, 10)\n",
        "\n",
        "# Mengukur dan menampilkan luas segitiga beserta waktu eksekusi\n",
        "luas_segitiga, waktu_eksekusi = triangle.measure_execution_time()\n",
        "print(f'Luas segitiga: {luas_segitiga}')\n",
        "print(f'Waktu eksekusi: {waktu_eksekusi} detik')"
      ]
    },
    {
      "cell_type": "markdown",
      "metadata": {
        "id": "wQCY7-NoPsvj"
      },
      "source": [
        "Berbasis Fungsi"
      ]
    },
    {
      "cell_type": "code",
      "execution_count": 7,
      "metadata": {
        "id": "RHmZEEeQH_0a"
      },
      "outputs": [
        {
          "name": "stdout",
          "output_type": "stream",
          "text": [
            "Luas segitiga: 200.0\n",
            "Waktu eksekusi: 2.1457672119140625e-06 detik\n"
          ]
        }
      ],
      "source": [
        "import time\n",
        "\n",
        "def hitung_luas_segitiga(panjang, lebar, tinggi):\n",
        "    return (panjang * lebar * tinggi) / 2\n",
        "\n",
        "def measure_execution_time(func, *args):\n",
        "    start_time = time.time()\n",
        "    result = func(*args)\n",
        "    end_time = time.time()\n",
        "    elapsed_time = end_time - start_time\n",
        "    return result, elapsed_time\n",
        "\n",
        "# Membuat fungsi yang mencakup seluruh proses\n",
        "def main():\n",
        "    panjang, lebar, tinggi = 5, 8, 10\n",
        "\n",
        "    # Menggunakan fungsi hitung_luas_segitiga\n",
        "    result, elapsed_time = measure_execution_time(hitung_luas_segitiga, panjang, lebar, tinggi)\n",
        "\n",
        "    # Menampilkan hasil luas segitiga dan waktu eksekusi\n",
        "    print(f'Luas segitiga: {result}')\n",
        "    print(f'Waktu eksekusi: {elapsed_time} detik')\n",
        "\n",
        "# Menjalankan fungsi main\n",
        "if __name__ == \"__main__\":\n",
        "    main()"
      ]
    },
    {
      "cell_type": "code",
      "execution_count": 8,
      "metadata": {
        "id": "YP-9OAJ2lAMi"
      },
      "outputs": [
        {
          "name": "stdout",
          "output_type": "stream",
          "text": [
            "\n",
            "\n",
            "*** BISECTION METHOD IMPLEMENTATION ***\n",
            "Iteration-1, x2 = 0.505000 and f(x2) = -0.199660\n",
            "Iteration-2, x2 = 0.752500 and f(x2) = 0.158926\n",
            "Iteration-3, x2 = 0.628750 and f(x2) = -0.017987\n",
            "Iteration-4, x2 = 0.690625 and f(x2) = 0.071040\n",
            "Iteration-5, x2 = 0.659687 and f(x2) = 0.026672\n",
            "Iteration-6, x2 = 0.644219 and f(x2) = 0.004380\n",
            "Iteration-7, x2 = 0.636484 and f(x2) = -0.006794\n",
            "Iteration-8, x2 = 0.640352 and f(x2) = -0.001205\n",
            "Iteration-9, x2 = 0.642285 and f(x2) = 0.001588\n",
            "Iteration-10, x2 = 0.641318 and f(x2) = 0.000192\n",
            "Iteration-11, x2 = 0.640835 and f(x2) = -0.000507\n",
            "Iteration-12, x2 = 0.641077 and f(x2) = -0.000158\n",
            "Iteration-13, x2 = 0.641198 and f(x2) = 0.000017\n",
            "Iteration-14, x2 = 0.641137 and f(x2) = -0.000070\n",
            "Iteration-15, x2 = 0.641167 and f(x2) = -0.000027\n",
            "Iteration-16, x2 = 0.641182 and f(x2) = -0.000005\n",
            "\n",
            "Required Root is : 0.64118240\n"
          ]
        }
      ],
      "source": [
        "# Defining Function\n",
        "def f(x):\n",
        "    return x-2**-x\n",
        "# Implementing Bisection Method\n",
        "def bisection(x0,x1,e):\n",
        "    step = 1\n",
        "    print('\\n\\n*** BISECTION METHOD IMPLEMENTATION ***')\n",
        "    condition = True\n",
        "    while condition:\n",
        "        x2 = (x0 + x1)/2\n",
        "        print('Iteration-%d, x2 = %0.6f and f(x2) = %0.6f' % (step, x2, f(x2)))\n",
        "\n",
        "        if f(x0) * f(x2) < 0:\n",
        "            x1 = x2\n",
        "        else:\n",
        "            x0 = x2\n",
        "        step = step + 1\n",
        "        condition = abs(f(x2)) > e\n",
        "    print('\\nRequired Root is : %0.8f' % x2)\n",
        "\n",
        "# Input Section\n",
        "x0 = 0.01\n",
        "x1 = 1\n",
        "e = 1e-5\n",
        "\n",
        "# Checking Correctness of initial guess values and bisecting\n",
        "if f(x0) * f(x1) > 0.0:\n",
        "    print('Given guess values do not bracket the root.')\n",
        "    print('Try Again with different guess values.')\n",
        "else:\n",
        "    bisection(x0,x1,e)"
      ]
    }
  ],
  "metadata": {
    "colab": {
      "private_outputs": true,
      "provenance": []
    },
    "kernelspec": {
      "display_name": "Python 3",
      "name": "python3"
    },
    "language_info": {
      "codemirror_mode": {
        "name": "ipython",
        "version": 3
      },
      "file_extension": ".py",
      "mimetype": "text/x-python",
      "name": "python",
      "nbconvert_exporter": "python",
      "pygments_lexer": "ipython3",
      "version": "3.11.3"
    }
  },
  "nbformat": 4,
  "nbformat_minor": 0
}

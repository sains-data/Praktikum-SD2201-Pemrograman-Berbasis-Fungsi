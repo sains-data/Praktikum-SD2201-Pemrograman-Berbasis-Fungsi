{
  "nbformat": 4,
  "nbformat_minor": 0,
  "metadata": {
    "colab": {
      "provenance": []
    },
    "kernelspec": {
      "name": "python3",
      "display_name": "Python 3"
    },
    "language_info": {
      "name": "python"
    }
  },
  "cells": [
    {
      "cell_type": "markdown",
      "source": [
        "# Pembobotan Kata Menggunakan Metode TFIDF"
      ],
      "metadata": {
        "id": "1A1IU6srVG0n"
      }
    },
    {
      "cell_type": "markdown",
      "source": [
        "\n",
        "\n",
        "1.   Menyiapkan Data yang akan di tentukan bobot dan frekuensinya setiap katanya\n"
      ],
      "metadata": {
        "id": "LRjvzUfE9hYd"
      }
    },
    {
      "cell_type": "code",
      "execution_count": 14,
      "metadata": {
        "colab": {
          "base_uri": "https://localhost:8080/"
        },
        "id": "OTa3MuNW7rWu",
        "outputId": "f6d1b412-972a-43ab-e725-6a94ca421acd"
      },
      "outputs": [
        {
          "output_type": "execute_result",
          "data": {
            "text/plain": [
              "['saat ini di bandar lampung sering turun hujan dan banjir sampai mengakibatkan banjir beberapa daerah bandar lampung banjir tersebut mengakibatkan banyak kerusakan yang disebabkan oleh banjir ']"
            ]
          },
          "metadata": {},
          "execution_count": 14
        }
      ],
      "source": [
        "data = ['Saat ini di Bandar Lampung sering turun hujan dan banjir sampai mengakibatkan banjir beberapa daerah Bandar Lampung banjir terseBut mengakibatkan banyak kerusakan yang disebabkan oleh banjir ']\n",
        "\n",
        "data_lower = list(map(str.lower, data)) # menormalisasi data text dengan mengubah semua menjadi lowercase atau huruf kecil semua\n",
        "data_lower"
      ]
    },
    {
      "cell_type": "markdown",
      "source": [
        "2. melakukan split atau pemisahan dari kalimat menjadi per kata"
      ],
      "metadata": {
        "id": "diHDS77YL_4h"
      }
    },
    {
      "cell_type": "code",
      "source": [
        "data_kata = [kata for kalimat in data_lower for kata in kalimat.split()]\n",
        "print(data_kata)"
      ],
      "metadata": {
        "colab": {
          "base_uri": "https://localhost:8080/"
        },
        "id": "Kk1I_sd6MA2e",
        "outputId": "ba543ea0-6d2a-4d88-a982-5a8b65ef9d4f"
      },
      "execution_count": 15,
      "outputs": [
        {
          "output_type": "stream",
          "name": "stdout",
          "text": [
            "['saat', 'ini', 'di', 'bandar', 'lampung', 'sering', 'turun', 'hujan', 'dan', 'banjir', 'sampai', 'mengakibatkan', 'banjir', 'beberapa', 'daerah', 'bandar', 'lampung', 'banjir', 'tersebut', 'mengakibatkan', 'banyak', 'kerusakan', 'yang', 'disebabkan', 'oleh', 'banjir']\n"
          ]
        }
      ]
    },
    {
      "cell_type": "markdown",
      "source": [
        "3. menentukan frekuensi dari setiap kemunculan kata dengan menggunakan reduce dan fungsi lambda"
      ],
      "metadata": {
        "id": "Ur-MANYiPSk3"
      }
    },
    {
      "cell_type": "code",
      "source": [
        "from functools import reduce\n",
        "\n",
        "kamus_kata = {}\n",
        "kamus_kata = reduce(lambda acc, kata: {**acc, kata: acc.get(kata, 0) + 1}, data_kata, {})\n",
        "print(kamus_kata)"
      ],
      "metadata": {
        "colab": {
          "base_uri": "https://localhost:8080/"
        },
        "id": "GtpNHyFNL39q",
        "outputId": "fc4672af-b147-48b5-aeef-029a0a8288b0"
      },
      "execution_count": 16,
      "outputs": [
        {
          "output_type": "stream",
          "name": "stdout",
          "text": [
            "{'saat': 1, 'ini': 1, 'di': 1, 'bandar': 2, 'lampung': 2, 'sering': 1, 'turun': 1, 'hujan': 1, 'dan': 1, 'banjir': 4, 'sampai': 1, 'mengakibatkan': 2, 'beberapa': 1, 'daerah': 1, 'tersebut': 1, 'banyak': 1, 'kerusakan': 1, 'yang': 1, 'disebabkan': 1, 'oleh': 1}\n"
          ]
        }
      ]
    },
    {
      "cell_type": "markdown",
      "source": [
        "\n",
        "\n",
        "4.   Menerapkan TFIDF dengan mengimport modul TfidfVectorizer dari library sklearn, untuk mendapatkan nilai bobot dari setiap katanya bersadarkan frekuensi kata tersebut. Dan disini juga sudah otomatis di transformasi dengan nilai maksimum 1 dan minimum 0, jika nilai bobot tersebut mendekati 1 maka kata tersebut memiliki bobot yang tinggi dan sebaliknya\n",
        "\n"
      ],
      "metadata": {
        "id": "OB37XWUeNiqE"
      }
    },
    {
      "cell_type": "code",
      "source": [
        "from sklearn.feature_extraction.text import TfidfVectorizer\n",
        "\n",
        "\n",
        "vectorize = TfidfVectorizer()\n",
        "respon = vectorize.fit_transform(data)\n",
        "print(respon)"
      ],
      "metadata": {
        "colab": {
          "base_uri": "https://localhost:8080/"
        },
        "id": "WdIGyztt85iX",
        "outputId": "32149a8b-b769-488d-e597-519cc529c5d8"
      },
      "execution_count": 17,
      "outputs": [
        {
          "output_type": "stream",
          "name": "stdout",
          "text": [
            "  (0, 13)\t0.15075567228888181\n",
            "  (0, 7)\t0.15075567228888181\n",
            "  (0, 19)\t0.15075567228888181\n",
            "  (0, 10)\t0.15075567228888181\n",
            "  (0, 2)\t0.15075567228888181\n",
            "  (0, 17)\t0.15075567228888181\n",
            "  (0, 4)\t0.15075567228888181\n",
            "  (0, 3)\t0.15075567228888181\n",
            "  (0, 12)\t0.30151134457776363\n",
            "  (0, 15)\t0.15075567228888181\n",
            "  (0, 1)\t0.6030226891555273\n",
            "  (0, 5)\t0.15075567228888181\n",
            "  (0, 8)\t0.15075567228888181\n",
            "  (0, 18)\t0.15075567228888181\n",
            "  (0, 16)\t0.15075567228888181\n",
            "  (0, 11)\t0.30151134457776363\n",
            "  (0, 0)\t0.30151134457776363\n",
            "  (0, 6)\t0.15075567228888181\n",
            "  (0, 9)\t0.15075567228888181\n",
            "  (0, 14)\t0.15075567228888181\n"
          ]
        }
      ]
    },
    {
      "cell_type": "markdown",
      "source": [
        "\n",
        "\n",
        "5.   Menampilkan tokenize atau kalimat yang sudah di stopword yang dimana awalnya kumpulan kalimat sekarang di pecah menjadi kumpulan kata tetapi disini hanya menampilkan kata unik saja\n",
        "\n",
        "\n",
        "\n",
        "\n"
      ],
      "metadata": {
        "id": "Bz8gxN94SqFp"
      }
    },
    {
      "cell_type": "code",
      "source": [
        "stop_word = vectorize.get_feature_names_out()\n",
        "stop_word"
      ],
      "metadata": {
        "colab": {
          "base_uri": "https://localhost:8080/"
        },
        "id": "cNMUaRBoSlaO",
        "outputId": "ec289a21-0ac7-45c8-80fc-023c6effbe28"
      },
      "execution_count": 18,
      "outputs": [
        {
          "output_type": "execute_result",
          "data": {
            "text/plain": [
              "array(['bandar', 'banjir', 'banyak', 'beberapa', 'daerah', 'dan', 'di',\n",
              "       'disebabkan', 'hujan', 'ini', 'kerusakan', 'lampung',\n",
              "       'mengakibatkan', 'oleh', 'saat', 'sampai', 'sering', 'tersebut',\n",
              "       'turun', 'yang'], dtype=object)"
            ]
          },
          "metadata": {},
          "execution_count": 18
        }
      ]
    },
    {
      "cell_type": "markdown",
      "source": [
        "\n",
        "\n",
        "6.   menransformasikan menjadi array 2 dimensi atau matriks yang dimana setiap barisnya merepresentasikan bobot dari setiap kalimatnya\n",
        "\n",
        "\n"
      ],
      "metadata": {
        "id": "Gw_bRLaeSvJt"
      }
    },
    {
      "cell_type": "code",
      "source": [
        "respon.todense()"
      ],
      "metadata": {
        "colab": {
          "base_uri": "https://localhost:8080/"
        },
        "id": "PlmHacDzCj8A",
        "outputId": "64021319-d6b2-4b3f-c903-d9daf5345686"
      },
      "execution_count": 19,
      "outputs": [
        {
          "output_type": "execute_result",
          "data": {
            "text/plain": [
              "matrix([[0.30151134, 0.60302269, 0.15075567, 0.15075567, 0.15075567,\n",
              "         0.15075567, 0.15075567, 0.15075567, 0.15075567, 0.15075567,\n",
              "         0.15075567, 0.30151134, 0.30151134, 0.15075567, 0.15075567,\n",
              "         0.15075567, 0.15075567, 0.15075567, 0.15075567, 0.15075567]])"
            ]
          },
          "metadata": {},
          "execution_count": 19
        }
      ]
    },
    {
      "cell_type": "markdown",
      "source": [
        "\n",
        "\n",
        "7.   Untuk memudahkan representasi dari matriks kita ubah ke bentuk yang lebih rapi menggunakan library pandas dan kita melakuakn transpose matriks tersebut agar dapat mengubah keterangan document atau keterangan kalimat menjadi kolom dan keterangan tokenize atau setiap kata kita letakkan di bagian baris\n",
        "\n",
        "\n"
      ],
      "metadata": {
        "id": "ydQamfc1DU28"
      }
    },
    {
      "cell_type": "code",
      "source": [
        "import pandas as pd\n",
        "\n",
        "df = pd.DataFrame(respon.todense().T,\n",
        "                  index = stop_word,\n",
        "                  columns=['Bobot Kata'])\n",
        "df = df.reset_index().rename(columns={'index': 'Data Kata'})\n",
        "print(df)"
      ],
      "metadata": {
        "colab": {
          "base_uri": "https://localhost:8080/"
        },
        "id": "0pDZjrW8EV-C",
        "outputId": "aa84f27f-e4c7-4779-9401-a9248ee0e03b"
      },
      "execution_count": 20,
      "outputs": [
        {
          "output_type": "stream",
          "name": "stdout",
          "text": [
            "        Data Kata  Bobot Kata\n",
            "0          bandar    0.301511\n",
            "1          banjir    0.603023\n",
            "2          banyak    0.150756\n",
            "3        beberapa    0.150756\n",
            "4          daerah    0.150756\n",
            "5             dan    0.150756\n",
            "6              di    0.150756\n",
            "7      disebabkan    0.150756\n",
            "8           hujan    0.150756\n",
            "9             ini    0.150756\n",
            "10      kerusakan    0.150756\n",
            "11        lampung    0.301511\n",
            "12  mengakibatkan    0.301511\n",
            "13           oleh    0.150756\n",
            "14           saat    0.150756\n",
            "15         sampai    0.150756\n",
            "16         sering    0.150756\n",
            "17       tersebut    0.150756\n",
            "18          turun    0.150756\n",
            "19           yang    0.150756\n"
          ]
        }
      ]
    },
    {
      "cell_type": "code",
      "source": [
        "sorted = df.sort_values(by='Bobot Kata', ascending=False)\n",
        "sorted.head(6)"
      ],
      "metadata": {
        "id": "W2zUWfYHHMhk",
        "colab": {
          "base_uri": "https://localhost:8080/",
          "height": 238
        },
        "outputId": "9527fb69-10d6-4de4-9c4c-36b56b5373a9"
      },
      "execution_count": 23,
      "outputs": [
        {
          "output_type": "execute_result",
          "data": {
            "text/plain": [
              "        Data Kata  Bobot Kata\n",
              "1          banjir    0.603023\n",
              "0          bandar    0.301511\n",
              "12  mengakibatkan    0.301511\n",
              "11        lampung    0.301511\n",
              "18          turun    0.150756\n",
              "17       tersebut    0.150756"
            ],
            "text/html": [
              "\n",
              "  <div id=\"df-85e6a134-a6cf-49c6-9f02-8bf0df732360\" class=\"colab-df-container\">\n",
              "    <div>\n",
              "<style scoped>\n",
              "    .dataframe tbody tr th:only-of-type {\n",
              "        vertical-align: middle;\n",
              "    }\n",
              "\n",
              "    .dataframe tbody tr th {\n",
              "        vertical-align: top;\n",
              "    }\n",
              "\n",
              "    .dataframe thead th {\n",
              "        text-align: right;\n",
              "    }\n",
              "</style>\n",
              "<table border=\"1\" class=\"dataframe\">\n",
              "  <thead>\n",
              "    <tr style=\"text-align: right;\">\n",
              "      <th></th>\n",
              "      <th>Data Kata</th>\n",
              "      <th>Bobot Kata</th>\n",
              "    </tr>\n",
              "  </thead>\n",
              "  <tbody>\n",
              "    <tr>\n",
              "      <th>1</th>\n",
              "      <td>banjir</td>\n",
              "      <td>0.603023</td>\n",
              "    </tr>\n",
              "    <tr>\n",
              "      <th>0</th>\n",
              "      <td>bandar</td>\n",
              "      <td>0.301511</td>\n",
              "    </tr>\n",
              "    <tr>\n",
              "      <th>12</th>\n",
              "      <td>mengakibatkan</td>\n",
              "      <td>0.301511</td>\n",
              "    </tr>\n",
              "    <tr>\n",
              "      <th>11</th>\n",
              "      <td>lampung</td>\n",
              "      <td>0.301511</td>\n",
              "    </tr>\n",
              "    <tr>\n",
              "      <th>18</th>\n",
              "      <td>turun</td>\n",
              "      <td>0.150756</td>\n",
              "    </tr>\n",
              "    <tr>\n",
              "      <th>17</th>\n",
              "      <td>tersebut</td>\n",
              "      <td>0.150756</td>\n",
              "    </tr>\n",
              "  </tbody>\n",
              "</table>\n",
              "</div>\n",
              "    <div class=\"colab-df-buttons\">\n",
              "\n",
              "  <div class=\"colab-df-container\">\n",
              "    <button class=\"colab-df-convert\" onclick=\"convertToInteractive('df-85e6a134-a6cf-49c6-9f02-8bf0df732360')\"\n",
              "            title=\"Convert this dataframe to an interactive table.\"\n",
              "            style=\"display:none;\">\n",
              "\n",
              "  <svg xmlns=\"http://www.w3.org/2000/svg\" height=\"24px\" viewBox=\"0 -960 960 960\">\n",
              "    <path d=\"M120-120v-720h720v720H120Zm60-500h600v-160H180v160Zm220 220h160v-160H400v160Zm0 220h160v-160H400v160ZM180-400h160v-160H180v160Zm440 0h160v-160H620v160ZM180-180h160v-160H180v160Zm440 0h160v-160H620v160Z\"/>\n",
              "  </svg>\n",
              "    </button>\n",
              "\n",
              "  <style>\n",
              "    .colab-df-container {\n",
              "      display:flex;\n",
              "      gap: 12px;\n",
              "    }\n",
              "\n",
              "    .colab-df-convert {\n",
              "      background-color: #E8F0FE;\n",
              "      border: none;\n",
              "      border-radius: 50%;\n",
              "      cursor: pointer;\n",
              "      display: none;\n",
              "      fill: #1967D2;\n",
              "      height: 32px;\n",
              "      padding: 0 0 0 0;\n",
              "      width: 32px;\n",
              "    }\n",
              "\n",
              "    .colab-df-convert:hover {\n",
              "      background-color: #E2EBFA;\n",
              "      box-shadow: 0px 1px 2px rgba(60, 64, 67, 0.3), 0px 1px 3px 1px rgba(60, 64, 67, 0.15);\n",
              "      fill: #174EA6;\n",
              "    }\n",
              "\n",
              "    .colab-df-buttons div {\n",
              "      margin-bottom: 4px;\n",
              "    }\n",
              "\n",
              "    [theme=dark] .colab-df-convert {\n",
              "      background-color: #3B4455;\n",
              "      fill: #D2E3FC;\n",
              "    }\n",
              "\n",
              "    [theme=dark] .colab-df-convert:hover {\n",
              "      background-color: #434B5C;\n",
              "      box-shadow: 0px 1px 3px 1px rgba(0, 0, 0, 0.15);\n",
              "      filter: drop-shadow(0px 1px 2px rgba(0, 0, 0, 0.3));\n",
              "      fill: #FFFFFF;\n",
              "    }\n",
              "  </style>\n",
              "\n",
              "    <script>\n",
              "      const buttonEl =\n",
              "        document.querySelector('#df-85e6a134-a6cf-49c6-9f02-8bf0df732360 button.colab-df-convert');\n",
              "      buttonEl.style.display =\n",
              "        google.colab.kernel.accessAllowed ? 'block' : 'none';\n",
              "\n",
              "      async function convertToInteractive(key) {\n",
              "        const element = document.querySelector('#df-85e6a134-a6cf-49c6-9f02-8bf0df732360');\n",
              "        const dataTable =\n",
              "          await google.colab.kernel.invokeFunction('convertToInteractive',\n",
              "                                                    [key], {});\n",
              "        if (!dataTable) return;\n",
              "\n",
              "        const docLinkHtml = 'Like what you see? Visit the ' +\n",
              "          '<a target=\"_blank\" href=https://colab.research.google.com/notebooks/data_table.ipynb>data table notebook</a>'\n",
              "          + ' to learn more about interactive tables.';\n",
              "        element.innerHTML = '';\n",
              "        dataTable['output_type'] = 'display_data';\n",
              "        await google.colab.output.renderOutput(dataTable, element);\n",
              "        const docLink = document.createElement('div');\n",
              "        docLink.innerHTML = docLinkHtml;\n",
              "        element.appendChild(docLink);\n",
              "      }\n",
              "    </script>\n",
              "  </div>\n",
              "\n",
              "\n",
              "<div id=\"df-006bb0df-3330-4561-8808-3fd1db508dbb\">\n",
              "  <button class=\"colab-df-quickchart\" onclick=\"quickchart('df-006bb0df-3330-4561-8808-3fd1db508dbb')\"\n",
              "            title=\"Suggest charts\"\n",
              "            style=\"display:none;\">\n",
              "\n",
              "<svg xmlns=\"http://www.w3.org/2000/svg\" height=\"24px\"viewBox=\"0 0 24 24\"\n",
              "     width=\"24px\">\n",
              "    <g>\n",
              "        <path d=\"M19 3H5c-1.1 0-2 .9-2 2v14c0 1.1.9 2 2 2h14c1.1 0 2-.9 2-2V5c0-1.1-.9-2-2-2zM9 17H7v-7h2v7zm4 0h-2V7h2v10zm4 0h-2v-4h2v4z\"/>\n",
              "    </g>\n",
              "</svg>\n",
              "  </button>\n",
              "\n",
              "<style>\n",
              "  .colab-df-quickchart {\n",
              "      --bg-color: #E8F0FE;\n",
              "      --fill-color: #1967D2;\n",
              "      --hover-bg-color: #E2EBFA;\n",
              "      --hover-fill-color: #174EA6;\n",
              "      --disabled-fill-color: #AAA;\n",
              "      --disabled-bg-color: #DDD;\n",
              "  }\n",
              "\n",
              "  [theme=dark] .colab-df-quickchart {\n",
              "      --bg-color: #3B4455;\n",
              "      --fill-color: #D2E3FC;\n",
              "      --hover-bg-color: #434B5C;\n",
              "      --hover-fill-color: #FFFFFF;\n",
              "      --disabled-bg-color: #3B4455;\n",
              "      --disabled-fill-color: #666;\n",
              "  }\n",
              "\n",
              "  .colab-df-quickchart {\n",
              "    background-color: var(--bg-color);\n",
              "    border: none;\n",
              "    border-radius: 50%;\n",
              "    cursor: pointer;\n",
              "    display: none;\n",
              "    fill: var(--fill-color);\n",
              "    height: 32px;\n",
              "    padding: 0;\n",
              "    width: 32px;\n",
              "  }\n",
              "\n",
              "  .colab-df-quickchart:hover {\n",
              "    background-color: var(--hover-bg-color);\n",
              "    box-shadow: 0 1px 2px rgba(60, 64, 67, 0.3), 0 1px 3px 1px rgba(60, 64, 67, 0.15);\n",
              "    fill: var(--button-hover-fill-color);\n",
              "  }\n",
              "\n",
              "  .colab-df-quickchart-complete:disabled,\n",
              "  .colab-df-quickchart-complete:disabled:hover {\n",
              "    background-color: var(--disabled-bg-color);\n",
              "    fill: var(--disabled-fill-color);\n",
              "    box-shadow: none;\n",
              "  }\n",
              "\n",
              "  .colab-df-spinner {\n",
              "    border: 2px solid var(--fill-color);\n",
              "    border-color: transparent;\n",
              "    border-bottom-color: var(--fill-color);\n",
              "    animation:\n",
              "      spin 1s steps(1) infinite;\n",
              "  }\n",
              "\n",
              "  @keyframes spin {\n",
              "    0% {\n",
              "      border-color: transparent;\n",
              "      border-bottom-color: var(--fill-color);\n",
              "      border-left-color: var(--fill-color);\n",
              "    }\n",
              "    20% {\n",
              "      border-color: transparent;\n",
              "      border-left-color: var(--fill-color);\n",
              "      border-top-color: var(--fill-color);\n",
              "    }\n",
              "    30% {\n",
              "      border-color: transparent;\n",
              "      border-left-color: var(--fill-color);\n",
              "      border-top-color: var(--fill-color);\n",
              "      border-right-color: var(--fill-color);\n",
              "    }\n",
              "    40% {\n",
              "      border-color: transparent;\n",
              "      border-right-color: var(--fill-color);\n",
              "      border-top-color: var(--fill-color);\n",
              "    }\n",
              "    60% {\n",
              "      border-color: transparent;\n",
              "      border-right-color: var(--fill-color);\n",
              "    }\n",
              "    80% {\n",
              "      border-color: transparent;\n",
              "      border-right-color: var(--fill-color);\n",
              "      border-bottom-color: var(--fill-color);\n",
              "    }\n",
              "    90% {\n",
              "      border-color: transparent;\n",
              "      border-bottom-color: var(--fill-color);\n",
              "    }\n",
              "  }\n",
              "</style>\n",
              "\n",
              "  <script>\n",
              "    async function quickchart(key) {\n",
              "      const quickchartButtonEl =\n",
              "        document.querySelector('#' + key + ' button');\n",
              "      quickchartButtonEl.disabled = true;  // To prevent multiple clicks.\n",
              "      quickchartButtonEl.classList.add('colab-df-spinner');\n",
              "      try {\n",
              "        const charts = await google.colab.kernel.invokeFunction(\n",
              "            'suggestCharts', [key], {});\n",
              "      } catch (error) {\n",
              "        console.error('Error during call to suggestCharts:', error);\n",
              "      }\n",
              "      quickchartButtonEl.classList.remove('colab-df-spinner');\n",
              "      quickchartButtonEl.classList.add('colab-df-quickchart-complete');\n",
              "    }\n",
              "    (() => {\n",
              "      let quickchartButtonEl =\n",
              "        document.querySelector('#df-006bb0df-3330-4561-8808-3fd1db508dbb button');\n",
              "      quickchartButtonEl.style.display =\n",
              "        google.colab.kernel.accessAllowed ? 'block' : 'none';\n",
              "    })();\n",
              "  </script>\n",
              "</div>\n",
              "    </div>\n",
              "  </div>\n"
            ],
            "application/vnd.google.colaboratory.intrinsic+json": {
              "type": "dataframe",
              "variable_name": "sorted",
              "summary": "{\n  \"name\": \"sorted\",\n  \"rows\": 20,\n  \"fields\": [\n    {\n      \"column\": \"Data Kata\",\n      \"properties\": {\n        \"dtype\": \"string\",\n        \"num_unique_values\": 20,\n        \"samples\": [\n          \"banjir\",\n          \"beberapa\",\n          \"dan\"\n        ],\n        \"semantic_type\": \"\",\n        \"description\": \"\"\n      }\n    },\n    {\n      \"column\": \"Bobot Kata\",\n      \"properties\": {\n        \"dtype\": \"number\",\n        \"std\": 0.1104579419408086,\n        \"min\": 0.15075567228888181,\n        \"max\": 0.6030226891555273,\n        \"num_unique_values\": 3,\n        \"samples\": [\n          0.6030226891555273,\n          0.30151134457776363,\n          0.15075567228888181\n        ],\n        \"semantic_type\": \"\",\n        \"description\": \"\"\n      }\n    }\n  ]\n}"
            }
          },
          "metadata": {},
          "execution_count": 23
        }
      ]
    }
  ]
}